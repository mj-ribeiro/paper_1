{
 "cells": [
  {
   "cell_type": "code",
   "execution_count": 1,
   "metadata": {},
   "outputs": [],
   "source": [
    "import contextlib\n",
    "\n",
    "\n",
    "def make_val_and_grad_fn(value_fn):\n",
    "  @functools.wraps(value_fn)\n",
    "  def val_and_grad(x):\n",
    "    return tfp.math.value_and_gradient(value_fn, x)\n",
    "  return val_and_grad\n",
    "\n",
    "\n",
    "\n",
    "@contextlib.contextmanager\n",
    "def timed_execution():\n",
    "  t0 = time.time()\n",
    "  yield\n",
    "  dt = time.time() - t0\n",
    "  print('Evaluation took: %f seconds' % dt)\n",
    "\n",
    "\n",
    "def np_value(tensor):\n",
    "  \"\"\"Get numpy value out of possibly nested tuple of tensors.\"\"\"\n",
    "  if isinstance(tensor, tuple):\n",
    "    return type(tensor)(*(np_value(t) for t in tensor))\n",
    "  else:\n",
    "    return tensor.numpy()\n",
    "\n",
    "def run(optimizer):\n",
    "  \"\"\"Run an optimizer and measure it's evaluation time.\"\"\"\n",
    "  optimizer()  # Warmup.\n",
    "  with timed_execution():\n",
    "    result = optimizer()\n",
    "  return np_value(result)"
   ]
  },
  {
   "cell_type": "code",
   "execution_count": 2,
   "metadata": {},
   "outputs": [],
   "source": [
    "import numpy as np\n",
    "from math import gamma\n",
    "import matplotlib.pyplot as plt\n",
    "from scipy.optimize import minimize\n",
    "import time\n",
    "import pandas as pd\n",
    "\n",
    "import os\n",
    "os.chdir(\"C:\\\\Users\\\\user\\\\Downloads\\\\Thesis_paper_1\\\\calibration\")\n",
    "\n",
    "np.set_printoptions(suppress=True) # supress scientific notation\n",
    "\n",
    "import matplotlib.ticker as mtick\n",
    "import locale\n",
    "locale.setlocale(locale.LC_NUMERIC, \"de_DE\")\n",
    "\n",
    "\n",
    "plt.rcParams['axes.formatter.use_locale'] = True\n",
    "\n",
    "\n",
    "\n",
    "pd.set_option('display.max_columns', 50) "
   ]
  },
  {
   "cell_type": "code",
   "execution_count": 3,
   "metadata": {},
   "outputs": [],
   "source": [
    "\n",
    "import tensorflow as tf\n",
    "import tensorflow_probability as tfp\n",
    "\n",
    "import functools\n",
    "\n",
    "from scipy.optimize import differential_evolution\n",
    "from scipy.optimize import basinhopping\n",
    "from scipy.optimize import shgo"
   ]
  },
  {
   "cell_type": "code",
   "execution_count": 4,
   "metadata": {},
   "outputs": [],
   "source": [
    "## parameters\n",
    "\n",
    "\n",
    "\n",
    "def get_data(year):\n",
    "    w='data_' + str(year)\n",
    "    alfa = tf.convert_to_tensor(np.array(pd.read_excel(f'{w}.xlsx').iloc[:,5], dtype='float64').reshape(1,3) )\n",
    "    phi = tf.convert_to_tensor(np.array(pd.read_excel(f'{w}.xlsx').iloc[:,4], dtype='float64').reshape(1,3) )\n",
    "    return alfa, phi\n",
    "\n",
    "\n",
    "\n",
    "def pars(year):\n",
    "    global alfa, rho, beta, theta, eta, psi, kappa, lamb, gamma1, G, phi, s\n",
    "    rho = tf.constant(0.19, tf.float64)\n",
    "    beta = tf.constant(0.231, tf.float64)\n",
    "    theta = tf.constant(2.0, tf.float64)\n",
    "    eta = tf.constant(0.103, tf.float64)\n",
    "    psi = eta**eta*(1.0-eta)**(1.0-eta)\n",
    "    kappa = tf.divide(1.0, (1.0 - eta))\n",
    "    lamb = 1 - tf.divide(kappa, theta)\n",
    "    gamma1 = tf.multiply(eta, kappa)    \n",
    "    G = tf.constant(gamma(1 - tf.divide(kappa, tf.multiply(theta, (1-rho)) ) ), tf.float64  )      \n",
    "    alfa, phi = get_data(year)\n",
    "    s = tf.pow( (1 + tf.divide( (1-eta), ( tf.multiply(beta, phi) ) ) ), -1 )\n",
    "\n",
    "\n",
    "pars(15)"
   ]
  },
  {
   "cell_type": "code",
   "execution_count": 5,
   "metadata": {},
   "outputs": [],
   "source": [
    "\n",
    "df = pd.DataFrame()\n",
    "\n",
    "l = [92, 95, 2, 15]\n",
    "\n",
    "for i in l:\n",
    "    w='data_' + str(i)\n",
    "    k ='alfa_' + str(i)\n",
    "    df[k] = np.array(pd.read_excel(f'{w}.xlsx').iloc[:,5], dtype='float64').reshape(3)\n",
    "\n",
    "\n",
    "\n",
    "df"
   ]
  },
  {
   "cell_type": "code",
   "execution_count": 6,
   "metadata": {},
   "outputs": [],
   "source": [
    "df2 = pd.DataFrame()\n",
    "\n",
    "\n",
    "for i in l:\n",
    "    w='data_' + str(i)\n",
    "    j ='phi_' + str(i)\n",
    "    df2[j] = np.array(pd.read_excel(f'{w}.xlsx').iloc[:,4], dtype='float64').reshape(3)\n",
    "\n",
    "    \n",
    "df2"
   ]
  },
  {
   "cell_type": "code",
   "execution_count": 7,
   "metadata": {},
   "outputs": [],
   "source": [
    "# taus\n",
    "st=3\n",
    "def taus(st):        \n",
    "    x1 = tf.random.uniform(maxval=10, minval=-10, shape=[1, st], dtype='float64')\n",
    "    return x1"
   ]
  },
  {
   "cell_type": "code",
   "execution_count": 8,
   "metadata": {},
   "outputs": [],
   "source": [
    "def N_if(x1):\n",
    "    S = tf.pow(s, phi*(theta*lamb+ kappa) )\n",
    "    S2 =tf.pow((1 - s), ( (theta*lamb)/(beta*kappa) ) )\n",
    "    H = tf.pow((1 + x1[0]), (theta*lamb + kappa))    \n",
    "    C = tf.multiply(tf.multiply(tf.pow(psi, theta*lamb), eta**gamma1 ), G )\n",
    "    N_i = tf.multiply(S, tf.multiply(S2, tf.multiply(H, C)) )\n",
    "    return N_i"
   ]
  },
  {
   "cell_type": "code",
   "execution_count": 9,
   "metadata": {},
   "outputs": [],
   "source": [
    "\n",
    "#  linear system \n",
    "\n",
    "def matrix():\n",
    "    global A, B\n",
    "    A = np.repeat(alfa, st).reshape(st, st).T       # Matriz de parâmetros    \n",
    "    B = np.repeat(alfa, st).reshape(st, st).T        # Matriz de alfas \n",
    "    for i in range(st):\n",
    "        for j in range(st):\n",
    "            if i==j:\n",
    "                A[i, j] = 1 - (A[i, j] - 1)*(theta*lamb + gamma1)\n",
    "                B[i, j] = B[i, j] - 1\n",
    "            if i != j:\n",
    "                A[i, j] = -A[i, j]*(theta*lamb + gamma1) \n",
    "    A = tf.convert_to_tensor(A, tf.float64)\n",
    "    B = tf.convert_to_tensor(B, tf.float64)\n",
    "    \n",
    "\n",
    "def lin_sys(x1):\n",
    "    #global N_i\n",
    "    #print(f'x1 = {x1}')\n",
    "    N_i = N_if(x1)\n",
    "    N_i2 = tf.math.log( N_i )                                                    # Logaritmo de N_i\n",
    "    C = tf.math.log(alfa)                                                        # Logaritmo dos alfas\n",
    "    D = tf.reshape(tf.tensordot(B, tf.reshape(N_i2, (3,1)) , 1), (1, 3) ) + C    # produto matricial                     \n",
    "    res = tf.reshape(tf.exp(tf.linalg.solve(A, tf.reshape(D, (3,1)) ) ), (1,3) )  # Resolvendo o sistema  A w = D\n",
    "    #res =tf.reshape(res, (1,3))\n",
    "    return res"
   ]
  },
  {
   "cell_type": "code",
   "execution_count": 10,
   "metadata": {},
   "outputs": [],
   "source": [
    "def w_til_f(x1):\n",
    "    S = tf.pow(s, phi)\n",
    "    S2 = tf.pow( (1 - s), 1/(beta*kappa) )\n",
    "    H = 1 + x1[0]\n",
    "    w_til = tf.multiply(psi, tf.multiply(H, tf.multiply(S, tf.multiply(w , S2))))\n",
    "    return w_til\n",
    "\n",
    "   "
   ]
  },
  {
   "cell_type": "code",
   "execution_count": 11,
   "metadata": {},
   "outputs": [],
   "source": [
    "# wages - model \n",
    "\n",
    "def W_i_f(x1):\n",
    "    w_til = w_til_f(x1)\n",
    "    sum_wtil = tf.pow( tf.reduce_sum( tf.pow(w_til, theta) ) , (kappa/theta) ) \n",
    "    S = tf.pow((1-s), (-1/beta))\n",
    "    p_i = tf.pow(w_til, theta)/ tf.reduce_sum( tf.pow(w_til, theta) )   \n",
    "    W_i = tf.multiply(kappa, tf.multiply(G, tf.multiply(S, tf.multiply(sum_wtil, p_i)) ) )    \n",
    "    return W_i, p_i"
   ]
  },
  {
   "cell_type": "code",
   "execution_count": 12,
   "metadata": {},
   "outputs": [],
   "source": [
    "# human capital\n",
    "\n",
    "def hc_f(x1):\n",
    "    W = tf.pow(w , (theta*lamb + gamma1) )\n",
    "    W_til = tf.pow(tf.reduce_sum(tf.pow(w_til_f(x1), theta) ), lamb)\n",
    "    N_i = N_if(x1)\n",
    "    Hc = tf.multiply(N_i, tf.divide(W, W_til))\n",
    "    return Hc"
   ]
  },
  {
   "cell_type": "code",
   "execution_count": 13,
   "metadata": {},
   "outputs": [],
   "source": [
    "# PNAD - DATA\n",
    "\n",
    "\n",
    "def get_p_i(year):\n",
    "    global p_s2\n",
    "    w='data_' + str(year)\n",
    "    p_i = tf.convert_to_tensor(np.array(pd.read_excel(f'{w}.xlsx').iloc[:,2]).reshape(1,3), tf.float64)\n",
    "    p_s2 = p_i[1:st]\n",
    "    return p_i\n",
    "\n",
    "\n",
    "def get_W_i(year):\n",
    "    p_i = get_p_i(year)\n",
    "    global W_id\n",
    "    w='data_' + str(year)\n",
    "    W_id = tf.convert_to_tensor(np.multiply(np.array(pd.read_excel(f'{w}.xlsx').iloc[:,1]), p_i).reshape(1,3), tf.float64)\n",
    "    return W_id"
   ]
  },
  {
   "cell_type": "code",
   "execution_count": 14,
   "metadata": {},
   "outputs": [],
   "source": [
    "@tf.function\n",
    "def tflow(x1):    \n",
    "    global w     \n",
    "    w = lin_sys(x1)\n",
    "    x1 = tf.reshape(x1, (1, 3))\n",
    "    tf.convert_to_tensor(x1, tf.float64)\n",
    "    W_im = W_i_f(x1)[0]    \n",
    "    D = tf.reduce_sum(tf.pow( tf.divide(tf.math.squared_difference(W_id, W_im), W_id ) , 2)) \n",
    "    #D = tf.math.log(D)\n",
    "    return D"
   ]
  },
  {
   "cell_type": "code",
   "execution_count": 15,
   "metadata": {},
   "outputs": [],
   "source": [
    "x1 = taus(st)\n",
    "ano = 15\n",
    "pars(15)\n",
    "matrix()\n",
    "get_W_i(ano)\n",
    "get_p_i(ano)\n",
    "\n",
    "tflow(taus(3))"
   ]
  },
  {
   "cell_type": "code",
   "execution_count": 16,
   "metadata": {},
   "outputs": [],
   "source": [
    "w"
   ]
  },
  {
   "cell_type": "code",
   "execution_count": 17,
   "metadata": {},
   "outputs": [],
   "source": [
    "np.array(w)"
   ]
  },
  {
   "cell_type": "code",
   "execution_count": 18,
   "metadata": {},
   "outputs": [],
   "source": [
    "tf.convert_to_tensor(w, tf.float64)"
   ]
  },
  {
   "cell_type": "code",
   "execution_count": 19,
   "metadata": {},
   "outputs": [],
   "source": [
    "# bounds\n",
    "\n",
    "\n",
    "Bd =   ((-10.0, 10.0), )*st \n",
    "\n",
    "#Bd = (tf.constant(-20.0, dtype=tf.float64), tf.constant(20.0, dtype=tf.float64), )*st\n",
    "\n",
    "Bd = np.array(Bd, dtype=object)"
   ]
  },
  {
   "cell_type": "code",
   "execution_count": 20,
   "metadata": {},
   "outputs": [],
   "source": [
    "# callback\n",
    "\n",
    "\n",
    "cc = 0\n",
    "def callback(x):\n",
    "    global cc\n",
    "    cc += 1\n",
    "    fobj = tflow(x)\n",
    "    print(f'\\033[1;033mObjetivo: {np.around(fobj, 10)}, iter: {cc}') "
   ]
  },
  {
   "cell_type": "code",
   "execution_count": 21,
   "metadata": {},
   "outputs": [],
   "source": [
    "st = 3\n",
    "ano= 15\n",
    "x1 = taus(st)\n",
    "pars(ano)\n",
    "matrix()\n",
    "get_W_i(ano)\n",
    "get_p_i(ano)\n",
    "cc=0\n",
    "\n",
    "\n",
    "\n",
    "dtype= tf.float64\n",
    "start = tf.constant(np.array([1.0, 3.10, -1.20]), dtype=dtype)\n",
    "\n",
    "\n",
    "def nelder_mead():\n",
    "  return tfp.optimizer.nelder_mead_minimize(\n",
    "  tflow,\n",
    "  initial_vertex=start,\n",
    "  parallel_iterations =100,\n",
    "  shrinkage=0.3,\n",
    "  func_tolerance=0,\n",
    "  position_tolerance=0.9e-14)"
   ]
  },
  {
   "cell_type": "code",
   "execution_count": 22,
   "metadata": {},
   "outputs": [],
   "source": [
    "tflow([1.2, 0.0, 1.0])"
   ]
  },
  {
   "cell_type": "code",
   "execution_count": 23,
   "metadata": {},
   "outputs": [],
   "source": [
    "x1 = taus(st)\n",
    "ano = 15\n",
    "pars(15)\n",
    "matrix()\n",
    "get_W_i(ano)\n",
    "get_p_i(ano)\n",
    "\n",
    "tflow(taus(3))"
   ]
  },
  {
   "cell_type": "code",
   "execution_count": 24,
   "metadata": {},
   "outputs": [],
   "source": [
    "x1 = taus(st)\n",
    "ano = 15\n",
    "pars(15)\n",
    "matrix()\n",
    "get_W_i(ano)\n",
    "get_p_i(ano)\n",
    "\n",
    "tflow(taus(3))"
   ]
  },
  {
   "cell_type": "code",
   "execution_count": 25,
   "metadata": {},
   "outputs": [],
   "source": [
    "x1 = taus(st)\n",
    "ano = 15\n",
    "pars(15)\n",
    "matrix()\n",
    "get_W_i(ano)\n",
    "get_p_i(ano)\n",
    "\n",
    "tflow(taus(3))"
   ]
  },
  {
   "cell_type": "code",
   "execution_count": 26,
   "metadata": {},
   "outputs": [],
   "source": [
    "x1 = taus(st)\n",
    "ano = 15\n",
    "pars(15)\n",
    "matrix()\n",
    "get_W_i(ano)\n",
    "get_p_i(ano)\n",
    "\n",
    "tflow(taus(3))"
   ]
  },
  {
   "cell_type": "code",
   "execution_count": 27,
   "metadata": {},
   "outputs": [],
   "source": [
    "x1 = taus(st)\n",
    "ano = 15\n",
    "pars(15)\n",
    "matrix()\n",
    "get_W_i(ano)\n",
    "get_p_i(ano)\n",
    "\n",
    "tflow(taus(3))"
   ]
  },
  {
   "cell_type": "code",
   "execution_count": 28,
   "metadata": {},
   "outputs": [],
   "source": [
    "x1 = taus(st)\n",
    "ano = 15\n",
    "pars(15)\n",
    "matrix()\n",
    "get_W_i(ano)\n",
    "get_p_i(ano)\n",
    "\n",
    "tflow(taus(3))"
   ]
  },
  {
   "cell_type": "code",
   "execution_count": 29,
   "metadata": {},
   "outputs": [],
   "source": [
    "w"
   ]
  },
  {
   "cell_type": "code",
   "execution_count": 30,
   "metadata": {},
   "outputs": [],
   "source": [
    "# taus\n",
    "st=3\n",
    "def taus(st):        \n",
    "    x1 = tf.random.uniform(maxval=10, minval=-10, shape=[1, st], dtype='float64')\n",
    "    return x1\n",
    "\n",
    "\n",
    "def taus(st):\n",
    "    tau_h = tf.random.uniform(maxval=10, minval=-10, shape=[1, st], dtype='float64')\n",
    "    x = np.array([tau_h])\n",
    "    x = tf.convert_to_tensor(x, tf.float64)\n",
    "    return x\n",
    "    "
   ]
  },
  {
   "cell_type": "code",
   "execution_count": 31,
   "metadata": {},
   "outputs": [],
   "source": [
    "taus(3)"
   ]
  },
  {
   "cell_type": "code",
   "execution_count": 32,
   "metadata": {},
   "outputs": [],
   "source": [
    "# taus\n",
    "\n",
    "\n",
    "\n",
    "def taus(st):\n",
    "    tau_h = tf.random.uniform(maxval=10, minval=-10, shape=[1, st], dtype='float64')\n",
    "    x = np.array([tau_h])\n",
    "    x = tf.convert_to_tensor(x, tf.float64)\n",
    "    return x\n",
    "    "
   ]
  },
  {
   "cell_type": "code",
   "execution_count": 33,
   "metadata": {},
   "outputs": [],
   "source": [
    "taus(3)"
   ]
  },
  {
   "cell_type": "code",
   "execution_count": 34,
   "metadata": {},
   "outputs": [],
   "source": [
    "taus(3)"
   ]
  },
  {
   "cell_type": "code",
   "execution_count": 35,
   "metadata": {},
   "outputs": [],
   "source": [
    "taus(3)"
   ]
  },
  {
   "cell_type": "code",
   "execution_count": 36,
   "metadata": {},
   "outputs": [],
   "source": [
    "taus(3)"
   ]
  },
  {
   "cell_type": "code",
   "execution_count": 37,
   "metadata": {},
   "outputs": [],
   "source": [
    "taus(3)"
   ]
  },
  {
   "cell_type": "code",
   "execution_count": 38,
   "metadata": {},
   "outputs": [],
   "source": [
    "taus(3)"
   ]
  },
  {
   "cell_type": "code",
   "execution_count": 39,
   "metadata": {},
   "outputs": [],
   "source": [
    "taus(3)"
   ]
  },
  {
   "cell_type": "code",
   "execution_count": 40,
   "metadata": {},
   "outputs": [],
   "source": [
    "taus(3)"
   ]
  },
  {
   "cell_type": "code",
   "execution_count": 41,
   "metadata": {},
   "outputs": [],
   "source": [
    "taus(3)"
   ]
  },
  {
   "cell_type": "code",
   "execution_count": 42,
   "metadata": {},
   "outputs": [],
   "source": [
    "taus(3)"
   ]
  },
  {
   "cell_type": "code",
   "execution_count": 43,
   "metadata": {},
   "outputs": [],
   "source": [
    "x1 = taus(st)\n",
    "ano = 15\n",
    "pars(15)\n",
    "matrix()\n",
    "get_W_i(ano)\n",
    "get_p_i(ano)\n",
    "\n",
    "tflow(taus(3))"
   ]
  },
  {
   "cell_type": "code",
   "execution_count": 44,
   "metadata": {},
   "outputs": [],
   "source": [
    "x1 = taus(st)\n",
    "ano = 15\n",
    "pars(15)\n",
    "matrix()\n",
    "get_W_i(ano)\n",
    "get_p_i(ano)\n",
    "\n",
    "tflow(taus(3))"
   ]
  },
  {
   "cell_type": "code",
   "execution_count": 45,
   "metadata": {},
   "outputs": [],
   "source": [
    "x1 = taus(st)\n",
    "ano = 15\n",
    "pars(15)\n",
    "matrix()\n",
    "get_W_i(ano)\n",
    "get_p_i(ano)\n",
    "\n",
    "tflow(taus(3))"
   ]
  },
  {
   "cell_type": "code",
   "execution_count": 46,
   "metadata": {},
   "outputs": [],
   "source": [
    "x1 = taus(st)\n",
    "ano = 15\n",
    "pars(15)\n",
    "matrix()\n",
    "get_W_i(ano)\n",
    "get_p_i(ano)\n",
    "\n",
    "tflow(taus(3))"
   ]
  },
  {
   "cell_type": "code",
   "execution_count": 47,
   "metadata": {},
   "outputs": [],
   "source": [
    "x1 = taus(st)\n",
    "ano = 15\n",
    "pars(15)\n",
    "matrix()\n",
    "get_W_i(ano)\n",
    "get_p_i(ano)\n",
    "\n",
    "tflow(taus(3))"
   ]
  },
  {
   "cell_type": "code",
   "execution_count": 48,
   "metadata": {},
   "outputs": [],
   "source": [
    "x1 = taus(st)\n",
    "ano = 15\n",
    "pars(15)\n",
    "matrix()\n",
    "get_W_i(ano)\n",
    "get_p_i(ano)\n",
    "\n",
    "tflow(taus(3))"
   ]
  },
  {
   "cell_type": "code",
   "execution_count": 49,
   "metadata": {},
   "outputs": [],
   "source": [
    "x1 = taus(st)\n",
    "ano = 15\n",
    "pars(15)\n",
    "matrix()\n",
    "get_W_i(ano)\n",
    "get_p_i(ano)\n",
    "\n",
    "tflow(taus(3))"
   ]
  },
  {
   "cell_type": "code",
   "execution_count": 50,
   "metadata": {},
   "outputs": [],
   "source": [
    "x1 = taus(st)\n",
    "ano = 15\n",
    "pars(15)\n",
    "matrix()\n",
    "get_W_i(ano)\n",
    "get_p_i(ano)\n",
    "\n",
    "tflow(taus(3))"
   ]
  },
  {
   "cell_type": "code",
   "execution_count": 51,
   "metadata": {},
   "outputs": [],
   "source": [
    "x1 = taus(st)\n",
    "ano = 15\n",
    "pars(15)\n",
    "matrix()\n",
    "get_W_i(ano)\n",
    "get_p_i(ano)\n",
    "\n",
    "tflow(taus(3))"
   ]
  },
  {
   "cell_type": "code",
   "execution_count": 52,
   "metadata": {},
   "outputs": [],
   "source": [
    "x1 = taus(st)\n",
    "ano = 15\n",
    "pars(15)\n",
    "matrix()\n",
    "get_W_i(ano)\n",
    "get_p_i(ano)\n",
    "\n",
    "tflow(taus(3))"
   ]
  },
  {
   "cell_type": "code",
   "execution_count": 53,
   "metadata": {},
   "outputs": [],
   "source": [
    "x1 = taus(st)\n",
    "ano = 15\n",
    "pars(15)\n",
    "matrix()\n",
    "get_W_i(ano)\n",
    "get_p_i(ano)\n",
    "\n",
    "tflow(taus(3))"
   ]
  },
  {
   "cell_type": "code",
   "execution_count": 54,
   "metadata": {},
   "outputs": [],
   "source": [
    "x1 = taus(st)\n",
    "ano = 15\n",
    "pars(15)\n",
    "matrix()\n",
    "get_W_i(ano)\n",
    "get_p_i(ano)\n",
    "\n",
    "tflow(taus(3))"
   ]
  },
  {
   "cell_type": "code",
   "execution_count": 55,
   "metadata": {},
   "outputs": [],
   "source": [
    "w"
   ]
  },
  {
   "cell_type": "code",
   "execution_count": 56,
   "metadata": {},
   "outputs": [],
   "source": [
    "x1 = taus(st)\n",
    "ano = 15\n",
    "pars(15)\n",
    "matrix()\n",
    "get_W_i(ano)\n",
    "get_p_i(ano)\n",
    "\n",
    "tflow(taus(3))"
   ]
  },
  {
   "cell_type": "code",
   "execution_count": 57,
   "metadata": {},
   "outputs": [],
   "source": [
    "x1 = taus(st)\n",
    "ano = 15\n",
    "pars(15)\n",
    "matrix()\n",
    "get_W_i(ano)\n",
    "get_p_i(ano)\n",
    "\n",
    "tflow(taus(3))"
   ]
  },
  {
   "cell_type": "code",
   "execution_count": 58,
   "metadata": {},
   "outputs": [],
   "source": [
    "x1 = taus(st)\n",
    "ano = 15\n",
    "pars(15)\n",
    "matrix()\n",
    "get_W_i(ano)\n",
    "get_p_i(ano)\n",
    "\n",
    "tflow(taus(3))"
   ]
  },
  {
   "cell_type": "code",
   "execution_count": 59,
   "metadata": {},
   "outputs": [],
   "source": [
    "x1 = taus(st)\n",
    "ano = 15\n",
    "pars(15)\n",
    "matrix()\n",
    "get_W_i(ano)\n",
    "get_p_i(ano)\n",
    "\n",
    "tflow(taus(3))"
   ]
  },
  {
   "cell_type": "code",
   "execution_count": 60,
   "metadata": {},
   "outputs": [],
   "source": [
    "x1 = taus(st)\n",
    "ano = 15\n",
    "pars(15)\n",
    "matrix()\n",
    "get_W_i(ano)\n",
    "get_p_i(ano)\n",
    "\n",
    "tflow(taus(3))"
   ]
  },
  {
   "cell_type": "code",
   "execution_count": 61,
   "metadata": {},
   "outputs": [],
   "source": [
    "x1 = taus(st)\n",
    "ano = 15\n",
    "pars(15)\n",
    "matrix()\n",
    "get_W_i(ano)\n",
    "get_p_i(ano)\n",
    "\n",
    "tflow(taus(3))"
   ]
  },
  {
   "cell_type": "code",
   "execution_count": 62,
   "metadata": {},
   "outputs": [],
   "source": [
    "x1 = taus(st)\n",
    "ano = 15\n",
    "pars(15)\n",
    "matrix()\n",
    "get_W_i(ano)\n",
    "get_p_i(ano)\n",
    "\n",
    "tflow(taus(3))"
   ]
  },
  {
   "cell_type": "code",
   "execution_count": 63,
   "metadata": {},
   "outputs": [],
   "source": [
    "x1 = taus(st)\n",
    "ano = 15\n",
    "pars(15)\n",
    "matrix()\n",
    "get_W_i(ano)\n",
    "get_p_i(ano)\n",
    "\n",
    "tflow(taus(3))"
   ]
  },
  {
   "cell_type": "code",
   "execution_count": 64,
   "metadata": {},
   "outputs": [],
   "source": [
    "w"
   ]
  },
  {
   "cell_type": "code",
   "execution_count": 65,
   "metadata": {},
   "outputs": [],
   "source": [
    "@tf.function\n",
    "def tflow(x1):    \n",
    "    #global w     \n",
    "    w = lin_sys(x1)\n",
    "    x1 = tf.reshape(x1, (1, 3))\n",
    "    tf.convert_to_tensor(x1, tf.float64)\n",
    "    W_im = W_i_f(x1)[0]    \n",
    "    D = tf.reduce_sum(tf.pow( tf.divide(tf.math.squared_difference(W_id, W_im), W_id ) , 2)) \n",
    "    #D = tf.math.log(D)\n",
    "    return D"
   ]
  },
  {
   "cell_type": "code",
   "execution_count": 66,
   "metadata": {},
   "outputs": [],
   "source": [
    "x1 = taus(st)\n",
    "ano = 15\n",
    "pars(15)\n",
    "matrix()\n",
    "get_W_i(ano)\n",
    "get_p_i(ano)\n",
    "\n",
    "tflow(taus(3))"
   ]
  },
  {
   "cell_type": "code",
   "execution_count": 67,
   "metadata": {},
   "outputs": [],
   "source": [
    "@tf.function\n",
    "def tflow(x1):    \n",
    "    global w     \n",
    "    w = lin_sys(x1)\n",
    "    x1 = tf.reshape(x1, (1, 3))\n",
    "    tf.convert_to_tensor(x1, tf.float64)\n",
    "    W_im = W_i_f(x1)[0]    \n",
    "    D = tf.reduce_sum(tf.pow( tf.divide(tf.math.squared_difference(W_id, W_im), W_id ) , 2)) \n",
    "    #D = tf.math.log(D)\n",
    "    return D"
   ]
  },
  {
   "cell_type": "code",
   "execution_count": 68,
   "metadata": {},
   "outputs": [],
   "source": [
    "x1 = taus(st)\n",
    "ano = 15\n",
    "pars(15)\n",
    "matrix()\n",
    "get_W_i(ano)\n",
    "get_p_i(ano)\n",
    "\n",
    "tflow(taus(3))"
   ]
  },
  {
   "cell_type": "code",
   "execution_count": 69,
   "metadata": {},
   "outputs": [],
   "source": [
    "x1 = taus(st)\n",
    "ano = 15\n",
    "pars(15)\n",
    "matrix()\n",
    "get_W_i(ano)\n",
    "get_p_i(ano)\n",
    "\n",
    "tflow(taus(3))"
   ]
  },
  {
   "cell_type": "code",
   "execution_count": 70,
   "metadata": {},
   "outputs": [],
   "source": [
    "x1 = taus(st)\n",
    "ano = 15\n",
    "pars(15)\n",
    "matrix()\n",
    "get_W_i(ano)\n",
    "get_p_i(ano)\n",
    "\n",
    "tflow(taus(3))"
   ]
  },
  {
   "cell_type": "code",
   "execution_count": 71,
   "metadata": {},
   "outputs": [],
   "source": [
    "x1 = taus(st)\n",
    "ano = 15\n",
    "pars(15)\n",
    "matrix()\n",
    "get_W_i(ano)\n",
    "get_p_i(ano)\n",
    "\n",
    "tflow(taus(3))"
   ]
  },
  {
   "cell_type": "code",
   "execution_count": 72,
   "metadata": {},
   "outputs": [],
   "source": [
    "x1 = taus(st)\n",
    "ano = 15\n",
    "pars(15)\n",
    "matrix()\n",
    "get_W_i(ano)\n",
    "get_p_i(ano)\n",
    "\n",
    "tflow(taus(3))"
   ]
  },
  {
   "cell_type": "code",
   "execution_count": 73,
   "metadata": {},
   "outputs": [],
   "source": [
    "x1 = taus(st)\n",
    "ano = 15\n",
    "pars(15)\n",
    "matrix()\n",
    "get_W_i(ano)\n",
    "get_p_i(ano)\n",
    "\n",
    "tflow(taus(3))"
   ]
  },
  {
   "cell_type": "code",
   "execution_count": 74,
   "metadata": {},
   "outputs": [],
   "source": [
    "x1 = taus(st)\n",
    "ano = 15\n",
    "pars(15)\n",
    "matrix()\n",
    "get_W_i(ano)\n",
    "get_p_i(ano)\n",
    "\n",
    "tflow(taus(3))"
   ]
  },
  {
   "cell_type": "code",
   "execution_count": 75,
   "metadata": {},
   "outputs": [],
   "source": [
    "#@tf.function\n",
    "def tflow(x1):    \n",
    "    global w     \n",
    "    w = lin_sys(x1)\n",
    "    x1 = tf.reshape(x1, (1, 3))\n",
    "    tf.convert_to_tensor(x1, tf.float64)\n",
    "    W_im = W_i_f(x1)[0]    \n",
    "    D = tf.reduce_sum(tf.pow( tf.divide(tf.math.squared_difference(W_id, W_im), W_id ) , 2)) \n",
    "    #D = tf.math.log(D)\n",
    "    return D"
   ]
  },
  {
   "cell_type": "code",
   "execution_count": 76,
   "metadata": {},
   "outputs": [],
   "source": [
    "x1 = taus(st)\n",
    "ano = 15\n",
    "pars(15)\n",
    "matrix()\n",
    "get_W_i(ano)\n",
    "get_p_i(ano)\n",
    "\n",
    "tflow(taus(3))"
   ]
  },
  {
   "cell_type": "code",
   "execution_count": 77,
   "metadata": {},
   "outputs": [],
   "source": [
    "x1 = taus(st)\n",
    "ano = 15\n",
    "pars(15)\n",
    "matrix()\n",
    "get_W_i(ano)\n",
    "get_p_i(ano)\n",
    "\n",
    "tflow(taus(3))"
   ]
  },
  {
   "cell_type": "code",
   "execution_count": 78,
   "metadata": {},
   "outputs": [],
   "source": [
    "x1 = taus(st)\n",
    "ano = 15\n",
    "pars(15)\n",
    "matrix()\n",
    "get_W_i(ano)\n",
    "get_p_i(ano)\n",
    "\n",
    "tflow(taus(3))"
   ]
  },
  {
   "cell_type": "code",
   "execution_count": 79,
   "metadata": {},
   "outputs": [],
   "source": [
    "x1 = taus(st)\n",
    "ano = 15\n",
    "pars(15)\n",
    "matrix()\n",
    "get_W_i(ano)\n",
    "get_p_i(ano)\n",
    "\n",
    "tflow(taus(3))"
   ]
  },
  {
   "cell_type": "code",
   "execution_count": 80,
   "metadata": {},
   "outputs": [],
   "source": [
    "x1 = taus(st)\n",
    "ano = 15\n",
    "pars(15)\n",
    "matrix()\n",
    "get_W_i(ano)\n",
    "get_p_i(ano)\n",
    "\n",
    "tflow(taus(3))"
   ]
  },
  {
   "cell_type": "code",
   "execution_count": 81,
   "metadata": {},
   "outputs": [],
   "source": [
    "w"
   ]
  },
  {
   "cell_type": "code",
   "execution_count": 82,
   "metadata": {},
   "outputs": [],
   "source": [
    "@tf.function\n",
    "def tflow(x1):    \n",
    "    global w     \n",
    "    w = lin_sys(x1)\n",
    "    x1 = tf.reshape(x1, (1, 3))\n",
    "    tf.convert_to_tensor(x1, tf.float64)\n",
    "    W_im = W_i_f(x1)[0]    \n",
    "    D = tf.reduce_sum(tf.pow( tf.divide(tf.math.squared_difference(W_id, W_im), W_id ) , 2)) \n",
    "    #D = tf.math.log(D)\n",
    "    return D"
   ]
  },
  {
   "cell_type": "code",
   "execution_count": 83,
   "metadata": {},
   "outputs": [],
   "source": [
    "x1 = taus(st)\n",
    "ano = 15\n",
    "pars(15)\n",
    "matrix()\n",
    "get_W_i(ano)\n",
    "get_p_i(ano)\n",
    "\n",
    "tflow(taus(3))"
   ]
  },
  {
   "cell_type": "code",
   "execution_count": 84,
   "metadata": {},
   "outputs": [],
   "source": [
    "w"
   ]
  },
  {
   "cell_type": "code",
   "execution_count": 85,
   "metadata": {},
   "outputs": [],
   "source": [
    "#@tf.function\n",
    "def tflow(x1):    \n",
    "    global w     \n",
    "    w = lin_sys(x1)\n",
    "    x1 = tf.reshape(x1, (1, 3))\n",
    "    tf.convert_to_tensor(x1, tf.float64)\n",
    "    W_im = W_i_f(x1)[0]    \n",
    "    D = tf.reduce_sum(tf.pow( tf.divide(tf.math.squared_difference(W_id, W_im), W_id ) , 2)) \n",
    "    #D = tf.math.log(D)\n",
    "    return D"
   ]
  },
  {
   "cell_type": "code",
   "execution_count": 86,
   "metadata": {},
   "outputs": [],
   "source": [
    "x1 = taus(st)\n",
    "ano = 15\n",
    "pars(15)\n",
    "matrix()\n",
    "get_W_i(ano)\n",
    "get_p_i(ano)\n",
    "\n",
    "tflow(taus(3))"
   ]
  },
  {
   "cell_type": "code",
   "execution_count": 87,
   "metadata": {},
   "outputs": [],
   "source": [
    "x1 = taus(st)\n",
    "ano = 15\n",
    "pars(15)\n",
    "matrix()\n",
    "get_W_i(ano)\n",
    "get_p_i(ano)\n",
    "\n",
    "tflow(taus(3))"
   ]
  },
  {
   "cell_type": "code",
   "execution_count": 88,
   "metadata": {},
   "outputs": [],
   "source": [
    "x1 = taus(st)\n",
    "ano = 15\n",
    "pars(15)\n",
    "matrix()\n",
    "get_W_i(ano)\n",
    "get_p_i(ano)\n",
    "\n",
    "tflow(taus(3))"
   ]
  },
  {
   "cell_type": "code",
   "execution_count": 89,
   "metadata": {},
   "outputs": [],
   "source": [
    "x1 = taus(st)\n",
    "ano = 15\n",
    "pars(15)\n",
    "matrix()\n",
    "get_W_i(ano)\n",
    "get_p_i(ano)\n",
    "\n",
    "tflow(taus(3))"
   ]
  },
  {
   "cell_type": "code",
   "execution_count": 90,
   "metadata": {},
   "outputs": [],
   "source": [
    "x1 = taus(st)\n",
    "ano = 15\n",
    "pars(15)\n",
    "matrix()\n",
    "get_W_i(ano)\n",
    "get_p_i(ano)\n",
    "\n",
    "tflow(taus(3))"
   ]
  },
  {
   "cell_type": "code",
   "execution_count": 91,
   "metadata": {},
   "outputs": [],
   "source": [
    "w"
   ]
  },
  {
   "cell_type": "code",
   "execution_count": 92,
   "metadata": {},
   "outputs": [],
   "source": [
    "sol = differential_evolution(tflow, Bd, strategy='best1exp',\n",
    "                             tol=0,\n",
    "                             polish=True, \n",
    "                             popsize=100, \n",
    "                             maxiter=100,\n",
    "                             recombination =0.7,\n",
    "                             disp=True)"
   ]
  },
  {
   "cell_type": "code",
   "execution_count": 93,
   "metadata": {},
   "outputs": [],
   "source": [
    "print(f'Objective function: {sol.fun}' )\n",
    "print(f'Optimization vectors: {sol.x.reshape(1,3)[0]}')\n",
    "\n",
    "\n",
    "\n",
    "#-----------------  (-10, 10)\n",
    "\n",
    "# 9.37196472 8.44134184 8.66419531 ----> 15\n",
    "# 9.37196472 8.44134184 8.66419531 ---> 02"
   ]
  },
  {
   "cell_type": "code",
   "execution_count": 94,
   "metadata": {},
   "outputs": [],
   "source": [
    "d = sol.x.reshape(1, st)\n",
    "\n",
    "p_m = W_i_f(d)[1]\n",
    "p_d = get_p_i(ano)\n",
    "\n",
    "W_m = W_i_f(d)[0]\n",
    "W_d = get_W_i(ano)\n",
    "\n",
    "\n",
    "fig,ax = plt.subplots(1, 2, figsize=(14,8))\n",
    "ax[0].scatter(p_m, p_d, s=100, color='red')\n",
    "ax[0].plot([0.0, 0.7], [0.0, 0.7], 'k-', lw=2, label='linha de 45°', color='blue')\n",
    "ax[0].grid(True)\n",
    "ax[0].set_title(r'$p_i$', fontsize=20)\n",
    "ax[0].tick_params(axis='both', which='major', labelsize=20)\n",
    "\n",
    "ax[1].scatter(W_m, W_d, s=100, color='red')\n",
    "ax[1].plot([np.min(W_m), np.max(W_m)], [np.min(W_m), np.max(W_m)], 'k-', lw=2, label='linha de 45°', color='blue')\n",
    "ax[1].grid(True)\n",
    "ax[1].set_title(r'$W_i$', fontsize=20)\n",
    "ax[1].tick_params(axis='both', which='major', labelsize=20)"
   ]
  },
  {
   "cell_type": "code",
   "execution_count": 95,
   "metadata": {},
   "outputs": [],
   "source": [
    "w"
   ]
  },
  {
   "cell_type": "code",
   "execution_count": 96,
   "metadata": {},
   "outputs": [],
   "source": [
    "st = 3\n",
    "x1 = taus(st)\n",
    "ano= 15\n",
    "pars(ano)\n",
    "matrix()\n",
    "get_W_i(ano)\n",
    "get_p_i(ano)\n",
    "cc=0"
   ]
  },
  {
   "cell_type": "code",
   "execution_count": 97,
   "metadata": {},
   "outputs": [],
   "source": [
    "sol = differential_evolution(tflow, Bd, strategy='best1exp',\n",
    "                             tol=0,\n",
    "                             polish=True, \n",
    "                             popsize=100, \n",
    "                             maxiter=100,\n",
    "                             recombination =0.7,\n",
    "                             disp=True)"
   ]
  },
  {
   "cell_type": "code",
   "execution_count": 98,
   "metadata": {},
   "outputs": [],
   "source": [
    "w"
   ]
  },
  {
   "cell_type": "code",
   "execution_count": 99,
   "metadata": {},
   "outputs": [],
   "source": [
    "d = sol.x.reshape(1, st)\n",
    "\n",
    "p_m = W_i_f(d)[1]\n",
    "p_d = get_p_i(ano)\n",
    "\n",
    "W_m = W_i_f(d)[0]\n",
    "W_d = get_W_i(ano)\n",
    "\n",
    "\n",
    "fig,ax = plt.subplots(1, 2, figsize=(14,8))\n",
    "ax[0].scatter(p_m, p_d, s=100, color='red')\n",
    "ax[0].plot([0.0, 0.7], [0.0, 0.7], 'k-', lw=2, label='linha de 45°', color='blue')\n",
    "ax[0].grid(True)\n",
    "ax[0].set_title(r'$p_i$', fontsize=20)\n",
    "ax[0].tick_params(axis='both', which='major', labelsize=20)\n",
    "\n",
    "ax[1].scatter(W_m, W_d, s=100, color='red')\n",
    "ax[1].plot([np.min(W_m), np.max(W_m)], [np.min(W_m), np.max(W_m)], 'k-', lw=2, label='linha de 45°', color='blue')\n",
    "ax[1].grid(True)\n",
    "ax[1].set_title(r'$W_i$', fontsize=20)\n",
    "ax[1].tick_params(axis='both', which='major', labelsize=20)"
   ]
  },
  {
   "cell_type": "code",
   "execution_count": 100,
   "metadata": {},
   "outputs": [],
   "source": [
    "A"
   ]
  },
  {
   "cell_type": "code",
   "execution_count": 101,
   "metadata": {},
   "outputs": [],
   "source": [
    "d = sol.x.reshape(2, st)\n",
    "\n",
    "\n",
    "h=hc_f(d)"
   ]
  },
  {
   "cell_type": "code",
   "execution_count": 102,
   "metadata": {},
   "outputs": [],
   "source": [
    "d = sol.x.reshape(1, st)\n",
    "\n",
    "\n",
    "h=hc_f(d)"
   ]
  },
  {
   "cell_type": "code",
   "execution_count": 103,
   "metadata": {},
   "outputs": [],
   "source": [
    "cd = 15\n",
    "np.round((alfa/h)*np.prod(np.power(h, alfa) ), cd) == np.round(lin_sys(d), cd"
   ]
  },
  {
   "cell_type": "code",
   "execution_count": 104,
   "metadata": {},
   "outputs": [],
   "source": [
    "cd = 15\n",
    "np.round((alfa/h)*np.prod(np.power(h, alfa) ), cd) == np.round(lin_sys(d), cd)"
   ]
  },
  {
   "cell_type": "code",
   "execution_count": 105,
   "metadata": {},
   "outputs": [],
   "source": [
    "cd = 14\n",
    "np.round((alfa/h)*np.prod(np.power(h, alfa) ), cd) == np.round(lin_sys(d), cd)"
   ]
  },
  {
   "cell_type": "code",
   "execution_count": 106,
   "metadata": {},
   "outputs": [],
   "source": [
    "cd = 12\n",
    "np.round((alfa/h)*np.prod(np.power(h, alfa) ), cd) == np.round(lin_sys(d), cd)"
   ]
  },
  {
   "cell_type": "code",
   "execution_count": 107,
   "metadata": {},
   "outputs": [],
   "source": [
    "cd = 10\n",
    "np.round((alfa/h)*np.prod(np.power(h, alfa) ), cd) == np.round(lin_sys(d), cd)"
   ]
  },
  {
   "cell_type": "code",
   "execution_count": 108,
   "metadata": {},
   "outputs": [],
   "source": [
    "cd = 10\n",
    "np.round((alfa/h)*np.prod(np.power(h, alfa) ), cd)\n",
    "np.round(lin_sys(d), cd)"
   ]
  },
  {
   "cell_type": "code",
   "execution_count": 109,
   "metadata": {},
   "outputs": [],
   "source": [
    "np.round((alfa/h)*np.prod(np.power(h, alfa) ), cd)"
   ]
  },
  {
   "cell_type": "code",
   "execution_count": 110,
   "metadata": {},
   "outputs": [],
   "source": [
    "sol = differential_evolution(tflow, Bd, strategy='best1exp',\n",
    "                             tol=0,\n",
    "                             polish=True, \n",
    "                             popsize=100, \n",
    "                             maxiter=500,\n",
    "                             recombination =0.7,\n",
    "                             disp=True)"
   ]
  }
 ],
 "metadata": {},
 "nbformat": 4,
 "nbformat_minor": 4
}
