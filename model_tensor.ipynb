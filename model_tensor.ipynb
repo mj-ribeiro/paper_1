{
 "cells": [
  {
   "cell_type": "code",
   "execution_count": 1,
   "metadata": {},
   "outputs": [],
   "source": [
    "import numpy as np\n",
    "from math import gamma\n",
    "import matplotlib.pyplot as plt\n",
    "from scipy.optimize import minimize\n",
    "\n",
    "import pandas as pd\n",
    "\n",
    "import os\n",
    "os.chdir(\"C:\\\\Users\\\\user\\\\Downloads\\\\Thesis_paper_1\\\\calibration\")\n",
    "\n",
    "np.set_printoptions(suppress=True) # supress scientific notation\n",
    "\n",
    "import matplotlib.ticker as mtick\n",
    "import locale\n",
    "locale.setlocale(locale.LC_NUMERIC, \"de_DE\")\n",
    "plt.rcParams['axes.formatter.use_locale'] = True\n",
    "\n",
    "pd.set_option('display.max_columns', 50) "
   ]
  },
  {
   "cell_type": "code",
   "execution_count": 2,
   "metadata": {},
   "outputs": [],
   "source": [
    "\n",
    "import tensorflow as tf\n",
    "import tensorflow_probability as tfp"
   ]
  },
  {
   "cell_type": "code",
   "execution_count": 3,
   "metadata": {},
   "outputs": [],
   "source": [
    "## parameters\n",
    "\n",
    "\n",
    "\n",
    "def get_data(year):\n",
    "    w='data_' + str(year)\n",
    "    alfa = tf.convert_to_tensor(np.array(pd.read_excel(f'{w}.xlsx').iloc[:,5], dtype='float64').reshape(1,3) )\n",
    "    phi = tf.convert_to_tensor(np.array(pd.read_excel(f'{w}.xlsx').iloc[:,4], dtype='float64').reshape(1,3) )\n",
    "    return alfa, phi\n",
    "\n",
    "\n",
    "\n",
    "def pars(year):\n",
    "    global alfa, rho, beta, theta, eta, psi, kappa, lamb, gamma1, G, phi, s\n",
    "    rho = tf.constant(0.19, tf.float64)\n",
    "    beta = tf.constant(0.231, tf.float64)\n",
    "    theta = tf.constant(2.0, tf.float64)\n",
    "    eta = tf.constant(0.103, tf.float64)\n",
    "    psi = eta**eta*(1.0-eta)**(1.0-eta)\n",
    "    kappa = tf.divide(1.0, (1.0 - eta))\n",
    "    lamb = 1 - tf.divide(kappa, theta)\n",
    "    gamma1 = tf.multiply(eta, kappa)    \n",
    "    G = tf.constant(gamma(1 - tf.divide(kappa, tf.multiply(theta, (1-rho)) ) ), tf.float64  )      \n",
    "    alfa, phi = get_data(year)\n",
    "    s = tf.pow( (1 + tf.divide( (1-eta), ( tf.multiply(beta, phi) ) ) ), -1 )\n",
    "\n",
    "\n",
    "pars(15)"
   ]
  },
  {
   "cell_type": "code",
   "execution_count": 4,
   "metadata": {},
   "outputs": [],
   "source": [
    "# taus\n",
    "st=3\n",
    "def taus(st):        \n",
    "    h_bar = tf.random.uniform(maxval=10, minval=-10, shape=[1, st], dtype='float64')\n",
    "    x1 = np.array([h_bar])\n",
    "    x1 = tf.convert_to_tensor(x1, tf.float64)\n",
    "    return x1"
   ]
  },
  {
   "cell_type": "code",
   "execution_count": 5,
   "metadata": {},
   "outputs": [],
   "source": [
    "x1[0]"
   ]
  },
  {
   "cell_type": "code",
   "execution_count": 6,
   "metadata": {},
   "outputs": [],
   "source": [
    "x1=taus(3)"
   ]
  },
  {
   "cell_type": "code",
   "execution_count": 7,
   "metadata": {},
   "outputs": [],
   "source": [
    "x1[0]"
   ]
  },
  {
   "cell_type": "code",
   "execution_count": 8,
   "metadata": {},
   "outputs": [],
   "source": [
    "def N_if(x1):\n",
    "    S = tf.pow(s, phi*(theta*lamb+ kappa) )\n",
    "    S2 =tf.pow((1 - s), ( (theta*lamb)/(beta*kappa) ) )\n",
    "    H = tf.pow((1 - x1[0]), (theta*lamb + kappa))    \n",
    "    C = tf.multiply(tf.multiply(tf.pow(psi, theta*lamb), eta**gamma1 ), G )\n",
    "    N_i = tf.multiply(S, tf.multiply(S2, tf.multiply(H, C)) )\n",
    "    return N_i"
   ]
  },
  {
   "cell_type": "code",
   "execution_count": 9,
   "metadata": {},
   "outputs": [],
   "source": [
    "N_if(x1)"
   ]
  },
  {
   "cell_type": "code",
   "execution_count": 10,
   "metadata": {},
   "outputs": [],
   "source": [
    "\n",
    "#  linear system \n",
    "\n",
    "def matrix():\n",
    "    global A, B\n",
    "    A = np.repeat(alfa, st).reshape(st, st).T       # Matriz de parâmetros    \n",
    "    B = np.repeat(alfa, st).reshape(st, st).T        # Matriz de alfas \n",
    "    for i in range(st):\n",
    "        for j in range(st):\n",
    "            if i==j:\n",
    "                A[i, j] = 1 - (A[i, j] - 1)*(theta*lamb + gamma1)\n",
    "                B[i, j] = B[i, j] - 1\n",
    "            if i != j:\n",
    "                A[i, j] = -A[i, j]*(theta*lamb + gamma1) \n",
    "    A = tf.convert_to_tensor(A, tf.float64)\n",
    "    B = tf.convert_to_tensor(B, tf.float64)\n",
    "    \n",
    "\n",
    "def lin_sys(x1):\n",
    "    #global N_i\n",
    "    #print(f'x1 = {x1}')\n",
    "    N_i = N_if(x1)\n",
    "    N_i2 = tf.math.log( N_i )                                                    # Logaritmo de N_i\n",
    "    C = tf.math.log(alfa)                                                        # Logaritmo dos alfas\n",
    "    D = tf.reshape(tf.tensordot(B, tf.reshape(N_i2, (3,1)) , 1), (1, 3) ) + C    # produto matricial                     \n",
    "    res = tf.reshape(tf.exp(tf.linalg.solve(A, tf.reshape(D, (3,1)) ) ), (1,3) )  # Resolvendo o sistema  A w = D\n",
    "    #res =tf.reshape(res, (1,3))\n",
    "    return res"
   ]
  },
  {
   "cell_type": "code",
   "execution_count": 11,
   "metadata": {},
   "outputs": [],
   "source": [
    "matrix()\n",
    "lin_sys(x1)"
   ]
  },
  {
   "cell_type": "code",
   "execution_count": 12,
   "metadata": {},
   "outputs": [],
   "source": [
    "def w_til_f(x1):\n",
    "    #w = lin_sys(x1)\n",
    "    #print(f'w = {w}')\n",
    "    S = tf.pow(s, phi)\n",
    "    S2 = tf.pow( (1 - s), 1/(beta*kappa) )\n",
    "    H = 1 - x1[0]\n",
    "    w_til = tf.multiply(psi, tf.multiply(H, tf.multiply(S, tf.multiply(w , S2))))\n",
    "    return w_til\n",
    "\n",
    "   "
   ]
  },
  {
   "cell_type": "code",
   "execution_count": 13,
   "metadata": {},
   "outputs": [],
   "source": [
    "# wages - model \n",
    "\n",
    "def W_i_f(x1):\n",
    "    w_til = w_til_f(x1)\n",
    "    sum_wtil = tf.pow( tf.reduce_sum( tf.pow(w_til, theta) ) , (kappa/theta) ) \n",
    "    S = tf.pow((1-s), (-1/beta))\n",
    "    p_i = tf.pow(w_til, theta)/ tf.reduce_sum( tf.pow(w_til, theta) )   \n",
    "    W_i = tf.multiply(kappa, tf.multiply(G, tf.multiply(S, tf.multiply(sum_wtil, p_i)) ) )    \n",
    "    return W_i, p_i"
   ]
  },
  {
   "cell_type": "code",
   "execution_count": 14,
   "metadata": {},
   "outputs": [],
   "source": [
    "# human capital\n",
    "\n",
    "def hc_f(x1):\n",
    "    W = tf.pow(w , (theta*lamb + gamma1) )\n",
    "    W_til = tf.pow(tf.reduce_sum(tf.pow(w_til_f(x1), theta) ), lamb)\n",
    "    N_i = N_if(x1)\n",
    "    Hc = tf.multiply(N_i, tf.divide(W, W_til))\n",
    "    return Hc"
   ]
  },
  {
   "cell_type": "code",
   "execution_count": 15,
   "metadata": {},
   "outputs": [],
   "source": [
    "# PNAD - DATA\n",
    "\n",
    "\n",
    "def get_p_i(year):\n",
    "    global p_s2\n",
    "    w='data_' + str(year)\n",
    "    p_i = tf.convert_to_tensor(np.array(pd.read_excel(f'{w}.xlsx').iloc[:,2]).reshape(1,3), tf.float64)\n",
    "    p_s2 = p_i[1:st]\n",
    "    return p_i\n",
    "\n",
    "\n",
    "def get_W_i(year):\n",
    "    p_i = get_p_i(year)\n",
    "    global W_id\n",
    "    w='data_' + str(year)\n",
    "    W_id = tf.convert_to_tensor(np.multiply(np.array(pd.read_excel(f'{w}.xlsx').iloc[:,1]), p_i).reshape(1,3), tf.float64)\n",
    "    return W_id"
   ]
  },
  {
   "cell_type": "code",
   "execution_count": 16,
   "metadata": {},
   "outputs": [],
   "source": [
    "#@tf.function\n",
    "def tflow(x1):    \n",
    "    global w    \n",
    "    #w = tf.reshape(lin_sys(x1), (1, 3) )\n",
    "    w=lin_sys(x1)\n",
    "    x1=tf.reshape(x1, (1, 1, 3))\n",
    "    #x1 = np.reshape(x1, (2,3))\n",
    "    tf.convert_to_tensor(x1, tf.float64)\n",
    "    W_im = W_i_f(x1)[0]    \n",
    "    D = tf.reduce_sum(tf.pow( tf.divide(tf.math.squared_difference(W_id, W_im), W_id ) , 2)) \n",
    "    D = tf.math.log(D)\n",
    "    return D"
   ]
  },
  {
   "cell_type": "code",
   "execution_count": 17,
   "metadata": {},
   "outputs": [],
   "source": [
    "#@tf.function\n",
    "def tflow(x1):    \n",
    "    global w    \n",
    "    #w = tf.reshape(lin_sys(x1), (1, 3) )\n",
    "    w=lin_sys(x1)\n",
    "    x1=tf.reshape(x1, (1, 3))\n",
    "    #x1 = np.reshape(x1, (2,3))\n",
    "    tf.convert_to_tensor(x1, tf.float64)\n",
    "    W_im = W_i_f(x1)[0]    \n",
    "    D = tf.reduce_sum(tf.pow( tf.divide(tf.math.squared_difference(W_id, W_im), W_id ) , 2)) \n",
    "    D = tf.math.log(D)\n",
    "    return D"
   ]
  },
  {
   "cell_type": "code",
   "execution_count": 18,
   "metadata": {},
   "outputs": [],
   "source": [
    "x1 = taus(st)\n",
    "ano = 15\n",
    "pars(15)\n",
    "matrix()\n",
    "get_W_i(ano)\n",
    "get_p_i(ano)\n",
    "\n",
    "tflow(taus(3))"
   ]
  },
  {
   "cell_type": "code",
   "execution_count": 19,
   "metadata": {},
   "outputs": [],
   "source": [
    "x1 = taus(st)\n",
    "ano = 15\n",
    "pars(15)\n",
    "matrix()\n",
    "get_W_i(ano)\n",
    "get_p_i(ano)\n",
    "\n",
    "tflow(taus(3))"
   ]
  },
  {
   "cell_type": "code",
   "execution_count": 20,
   "metadata": {},
   "outputs": [],
   "source": [
    "x1 = taus(st)\n",
    "ano = 15\n",
    "pars(15)\n",
    "matrix()\n",
    "get_W_i(ano)\n",
    "get_p_i(ano)\n",
    "\n",
    "tflow(taus(3))"
   ]
  },
  {
   "cell_type": "code",
   "execution_count": 21,
   "metadata": {},
   "outputs": [],
   "source": [
    "x1 = taus(st)\n",
    "ano = 15\n",
    "pars(15)\n",
    "matrix()\n",
    "get_W_i(ano)\n",
    "get_p_i(ano)\n",
    "\n",
    "tflow(taus(3))"
   ]
  },
  {
   "cell_type": "code",
   "execution_count": 22,
   "metadata": {},
   "outputs": [],
   "source": [
    "x1 = taus(st)\n",
    "ano = 15\n",
    "pars(15)\n",
    "matrix()\n",
    "get_W_i(ano)\n",
    "get_p_i(ano)\n",
    "\n",
    "tflow(taus(3))"
   ]
  },
  {
   "cell_type": "code",
   "execution_count": 23,
   "metadata": {},
   "outputs": [],
   "source": [
    "x1 = taus(st)\n",
    "ano = 15\n",
    "pars(15)\n",
    "matrix()\n",
    "get_W_i(ano)\n",
    "get_p_i(ano)\n",
    "\n",
    "tflow(taus(3))"
   ]
  },
  {
   "cell_type": "code",
   "execution_count": 24,
   "metadata": {},
   "outputs": [],
   "source": [
    "@tf.function\n",
    "def tflow(x1):    \n",
    "    global w    \n",
    "    #w = tf.reshape(lin_sys(x1), (1, 3) )\n",
    "    w=lin_sys(x1)\n",
    "    x1=tf.reshape(x1, (1, 3))\n",
    "    #x1 = np.reshape(x1, (2,3))\n",
    "    tf.convert_to_tensor(x1, tf.float64)\n",
    "    W_im = W_i_f(x1)[0]    \n",
    "    D = tf.reduce_sum(tf.pow( tf.divide(tf.math.squared_difference(W_id, W_im), W_id ) , 2)) \n",
    "    D = tf.math.log(D)\n",
    "    return D"
   ]
  },
  {
   "cell_type": "code",
   "execution_count": 25,
   "metadata": {},
   "outputs": [],
   "source": [
    "x1 = taus(st)\n",
    "ano = 15\n",
    "pars(15)\n",
    "matrix()\n",
    "get_W_i(ano)\n",
    "get_p_i(ano)\n",
    "\n",
    "tflow(taus(3))"
   ]
  },
  {
   "cell_type": "code",
   "execution_count": 26,
   "metadata": {},
   "outputs": [],
   "source": [
    "x1 = taus(st)\n",
    "ano = 15\n",
    "pars(15)\n",
    "matrix()\n",
    "get_W_i(ano)\n",
    "get_p_i(ano)\n",
    "\n",
    "tflow(taus(3))"
   ]
  },
  {
   "cell_type": "code",
   "execution_count": 27,
   "metadata": {},
   "outputs": [],
   "source": [
    "x1 = taus(st)\n",
    "ano = 15\n",
    "pars(15)\n",
    "matrix()\n",
    "get_W_i(ano)\n",
    "get_p_i(ano)\n",
    "\n",
    "tflow(taus(3))"
   ]
  },
  {
   "cell_type": "code",
   "execution_count": 28,
   "metadata": {},
   "outputs": [],
   "source": [
    "x1 = taus(st)\n",
    "ano = 15\n",
    "pars(15)\n",
    "matrix()\n",
    "get_W_i(ano)\n",
    "get_p_i(ano)\n",
    "\n",
    "tflow(taus(3))"
   ]
  },
  {
   "cell_type": "code",
   "execution_count": 29,
   "metadata": {},
   "outputs": [],
   "source": [
    "x1 = taus(st)\n",
    "ano = 15\n",
    "pars(15)\n",
    "matrix()\n",
    "get_W_i(ano)\n",
    "get_p_i(ano)\n",
    "\n",
    "tflow(taus(3))"
   ]
  },
  {
   "cell_type": "code",
   "execution_count": 30,
   "metadata": {},
   "outputs": [],
   "source": [
    "x1 = taus(st)\n",
    "ano = 15\n",
    "pars(15)\n",
    "matrix()\n",
    "get_W_i(ano)\n",
    "get_p_i(ano)\n",
    "\n",
    "tflow(taus(3))"
   ]
  },
  {
   "cell_type": "code",
   "execution_count": 31,
   "metadata": {},
   "outputs": [],
   "source": [
    "x1 = taus(st)\n",
    "ano = 15\n",
    "pars(15)\n",
    "matrix()\n",
    "get_W_i(ano)\n",
    "get_p_i(ano)\n",
    "\n",
    "tflow(taus(3))"
   ]
  },
  {
   "cell_type": "code",
   "execution_count": 32,
   "metadata": {},
   "outputs": [],
   "source": [
    "x1 = taus(st)\n",
    "ano = 15\n",
    "pars(15)\n",
    "matrix()\n",
    "get_W_i(ano)\n",
    "get_p_i(ano)\n",
    "\n",
    "tflow(taus(3))"
   ]
  },
  {
   "cell_type": "code",
   "execution_count": 33,
   "metadata": {},
   "outputs": [],
   "source": [
    "x1 = taus(st)\n",
    "ano = 15\n",
    "pars(15)\n",
    "matrix()\n",
    "get_W_i(ano)\n",
    "get_p_i(ano)\n",
    "\n",
    "tflow(taus(3))"
   ]
  },
  {
   "cell_type": "code",
   "execution_count": 34,
   "metadata": {},
   "outputs": [],
   "source": [
    "x1 = taus(st)\n",
    "ano = 15\n",
    "pars(15)\n",
    "matrix()\n",
    "get_W_i(ano)\n",
    "get_p_i(ano)\n",
    "\n",
    "tflow(taus(3))"
   ]
  },
  {
   "cell_type": "code",
   "execution_count": 35,
   "metadata": {},
   "outputs": [],
   "source": [
    "x1 = taus(st)\n",
    "ano = 15\n",
    "pars(15)\n",
    "matrix()\n",
    "get_W_i(ano)\n",
    "get_p_i(ano)\n",
    "\n",
    "tflow(taus(3))"
   ]
  },
  {
   "cell_type": "code",
   "execution_count": 36,
   "metadata": {},
   "outputs": [],
   "source": [
    "# bounds\n",
    "\n",
    "\n",
    "Bd =  ((0, 1e-5), )*st + ((-20, 20), )*st \n",
    "\n",
    "Bd = np.array(Bd, dtype=object)"
   ]
  },
  {
   "cell_type": "code",
   "execution_count": 37,
   "metadata": {},
   "outputs": [],
   "source": [
    "# callback\n",
    "\n",
    "\n",
    "cc = 0\n",
    "def callback(x):\n",
    "    global cc\n",
    "    cc += 1\n",
    "    fobj = tflow(x)\n",
    "    print(f'\\033[1;033mObjetivo: {np.around(fobj, 10)}, iter: {cc}') "
   ]
  },
  {
   "cell_type": "code",
   "execution_count": 38,
   "metadata": {},
   "outputs": [],
   "source": [
    "st = 3\n",
    "ano= 15\n",
    "x1 = taus(st)\n",
    "pars(ano)\n",
    "matrix()\n",
    "get_W_i(ano)\n",
    "get_p_i(ano)\n",
    "cc=0\n",
    "\n",
    "#optim_results = tfp.optimizer.lbfgs_minimize(\n",
    "#      tflow,\n",
    "#      x1,\n",
    "#      num_correction_pairs=10,\n",
    "#      tolerance=1e-8)\n",
    "\n",
    "\n",
    "dtype= x1.dtype\n",
    "start =tf.constant(x1, dtype=dtype)\n",
    "\n",
    "\n",
    "sol = tfp.optimizer.nelder_mead_minimize(\n",
    "  tflow,\n",
    "  initial_vertex=start,\n",
    "  func_tolerance=1e-20)"
   ]
  },
  {
   "cell_type": "code",
   "execution_count": 39,
   "metadata": {},
   "outputs": [],
   "source": [
    "print('Nelder-Mead')\n",
    "print('Converged:', sol.converged)\n",
    "print('Location of the minimum:', sol.position)\n",
    "print('Number of iterations:', sol.num_iterations)\n",
    "print('Objetive value:',sol.objective_value)"
   ]
  },
  {
   "cell_type": "code",
   "execution_count": 40,
   "metadata": {},
   "outputs": [],
   "source": [
    "st = 3\n",
    "x1 = taus(st)\n",
    "ano= 95\n",
    "pars(ano)\n",
    "matrix()\n",
    "get_W_i(ano)\n",
    "get_p_i(ano)\n",
    "cc=0\n",
    "\n",
    "sol= minimize(tflow, x1,  method='L-BFGS-B', bounds=Bd,\n",
    "              callback=callback, parallel_iterations =10,\n",
    "              tol=1e-250, options={'maxiter':1e3}) "
   ]
  },
  {
   "cell_type": "code",
   "execution_count": 41,
   "metadata": {},
   "outputs": [],
   "source": [
    "st = 3\n",
    "x1 = taus(st)\n",
    "ano= 95\n",
    "pars(ano)\n",
    "matrix()\n",
    "get_W_i(ano)\n",
    "get_p_i(ano)\n",
    "cc=0\n",
    "\n",
    "sol= minimize(tflow, x1,  method='L-BFGS-B', bounds=Bd,\n",
    "              callback=callback,\n",
    "              tol=1e-250, options={'maxiter':1e3}) "
   ]
  },
  {
   "cell_type": "code",
   "execution_count": 42,
   "metadata": {},
   "outputs": [],
   "source": [
    "st = 3\n",
    "x1 = taus(st)\n",
    "ano= 95\n",
    "pars(ano)\n",
    "matrix()\n",
    "get_W_i(ano)\n",
    "get_p_i(ano)\n",
    "cc=0\n",
    "\n",
    "sol= minimize(tflow, x1,  method='L-BFGS-B', bounds=Bd,\n",
    "              callback=callback,\n",
    "              tol=1e-250, options={'maxiter':1e3}) "
   ]
  },
  {
   "cell_type": "code",
   "execution_count": 43,
   "metadata": {},
   "outputs": [],
   "source": [
    "# bounds\n",
    "\n",
    "\n",
    "Bd =   ((-20, 20), )*st \n",
    "\n",
    "Bd = np.array(Bd, dtype=object)"
   ]
  },
  {
   "cell_type": "code",
   "execution_count": 44,
   "metadata": {},
   "outputs": [],
   "source": [
    "st = 3\n",
    "x1 = taus(st)\n",
    "ano= 95\n",
    "pars(ano)\n",
    "matrix()\n",
    "get_W_i(ano)\n",
    "get_p_i(ano)\n",
    "cc=0\n",
    "\n",
    "sol= minimize(tflow, x1,  method='L-BFGS-B', bounds=Bd,\n",
    "              callback=callback,\n",
    "              tol=1e-250, options={'maxiter':1e3}) "
   ]
  },
  {
   "cell_type": "code",
   "execution_count": 45,
   "metadata": {},
   "outputs": [],
   "source": [
    "sol.x    \n",
    " \n",
    "# ----> 95   2.71376964, -0.12759258, 2.13168792"
   ]
  },
  {
   "cell_type": "code",
   "execution_count": 46,
   "metadata": {},
   "outputs": [],
   "source": [
    "st = 3\n",
    "ano= 15\n",
    "x1 = taus(st)\n",
    "pars(ano)\n",
    "matrix()\n",
    "get_W_i(ano)\n",
    "get_p_i(ano)\n",
    "cc=0\n",
    "\n",
    "#optim_results = tfp.optimizer.lbfgs_minimize(\n",
    "#      tflow,\n",
    "#      x1,\n",
    "#      num_correction_pairs=10,\n",
    "#      tolerance=1e-8)\n",
    "\n",
    "\n",
    "dtype= x1.dtype\n",
    "start =tf.constant(x1, dtype=dtype)\n",
    "\n",
    "\n",
    "sol = tfp.optimizer.nelder_mead_minimize(\n",
    "  tflow,\n",
    "  initial_vertex=start,\n",
    "  parallel_iterations =10\n",
    "  func_tolerance=1e-20)"
   ]
  },
  {
   "cell_type": "code",
   "execution_count": 47,
   "metadata": {},
   "outputs": [],
   "source": [
    "st = 3\n",
    "ano= 15\n",
    "x1 = taus(st)\n",
    "pars(ano)\n",
    "matrix()\n",
    "get_W_i(ano)\n",
    "get_p_i(ano)\n",
    "cc=0\n",
    "\n",
    "#optim_results = tfp.optimizer.lbfgs_minimize(\n",
    "#      tflow,\n",
    "#      x1,\n",
    "#      num_correction_pairs=10,\n",
    "#      tolerance=1e-8)\n",
    "\n",
    "\n",
    "dtype= x1.dtype\n",
    "start =tf.constant(x1, dtype=dtype)\n",
    "\n",
    "\n",
    "sol = tfp.optimizer.nelder_mead_minimize(\n",
    "  tflow,\n",
    "  initial_vertex=start,\n",
    "  parallel_iterations =10,\n",
    "  func_tolerance=1e-20)"
   ]
  },
  {
   "cell_type": "code",
   "execution_count": 48,
   "metadata": {},
   "outputs": [],
   "source": [
    "print('Nelder-Mead')\n",
    "print('Converged:', sol.converged)\n",
    "print('Location of the minimum:', sol.position)\n",
    "print('Number of iterations:', sol.num_iterations)\n",
    "print('Objetive value:',sol.objective_value)"
   ]
  },
  {
   "cell_type": "code",
   "execution_count": 49,
   "metadata": {},
   "outputs": [],
   "source": [
    "st = 3\n",
    "ano= 95\n",
    "x1 = taus(st)\n",
    "pars(ano)\n",
    "matrix()\n",
    "get_W_i(ano)\n",
    "get_p_i(ano)\n",
    "cc=0\n",
    "\n",
    "#optim_results = tfp.optimizer.lbfgs_minimize(\n",
    "#      tflow,\n",
    "#      x1,\n",
    "#      num_correction_pairs=10,\n",
    "#      tolerance=1e-8)\n",
    "\n",
    "\n",
    "dtype= x1.dtype\n",
    "start =tf.constant(x1, dtype=dtype)\n",
    "\n",
    "\n",
    "sol = tfp.optimizer.nelder_mead_minimize(\n",
    "  tflow,\n",
    "  initial_vertex=start,\n",
    "  parallel_iterations =10,\n",
    "  func_tolerance=1e-20)"
   ]
  },
  {
   "cell_type": "code",
   "execution_count": 50,
   "metadata": {},
   "outputs": [],
   "source": [
    "print('Nelder-Mead')\n",
    "print('Converged:', sol.converged)\n",
    "print('Location of the minimum:', sol.position)\n",
    "print('Number of iterations:', sol.num_iterations)\n",
    "print('Objetive value:',sol.objective_value)"
   ]
  },
  {
   "cell_type": "code",
   "execution_count": 51,
   "metadata": {},
   "outputs": [],
   "source": [
    "st = 3\n",
    "ano= 95\n",
    "x1 = taus(st)\n",
    "pars(ano)\n",
    "matrix()\n",
    "get_W_i(ano)\n",
    "get_p_i(ano)\n",
    "cc=0\n",
    "\n",
    "#optim_results = tfp.optimizer.lbfgs_minimize(\n",
    "#      tflow,\n",
    "#      x1,\n",
    "#      num_correction_pairs=10,\n",
    "#      tolerance=1e-8)\n",
    "\n",
    "\n",
    "dtype= x1.dtype\n",
    "start =tf.constant(x1, dtype=dtype)\n",
    "\n",
    "\n",
    "sol = tfp.optimizer.nelder_mead_minimize(\n",
    "  tflow,\n",
    "  initial_vertex=start,\n",
    "  parallel_iterations =10,\n",
    "  func_tolerance=1e-20)"
   ]
  },
  {
   "cell_type": "code",
   "execution_count": 52,
   "metadata": {},
   "outputs": [],
   "source": [
    "print('Nelder-Mead')\n",
    "print('Converged:', sol.converged)\n",
    "print('Location of the minimum:', sol.position)\n",
    "print('Number of iterations:', sol.num_iterations)\n",
    "print('Objetive value:',sol.objective_value)"
   ]
  },
  {
   "cell_type": "code",
   "execution_count": 53,
   "metadata": {},
   "outputs": [],
   "source": [
    "st = 3\n",
    "ano= 15\n",
    "x1 = taus(st)\n",
    "pars(ano)\n",
    "matrix()\n",
    "get_W_i(ano)\n",
    "get_p_i(ano)\n",
    "cc=0\n",
    "\n",
    "#optim_results = tfp.optimizer.lbfgs_minimize(\n",
    "#      tflow,\n",
    "#      x1,\n",
    "#      num_correction_pairs=10,\n",
    "#      tolerance=1e-8)\n",
    "\n",
    "\n",
    "dtype= x1.dtype\n",
    "start =tf.constant(x1, dtype=dtype)\n",
    "\n",
    "\n",
    "sol = tfp.optimizer.nelder_mead_minimize(\n",
    "  tflow,\n",
    "  initial_vertex=start,\n",
    "  parallel_iterations =10,\n",
    "  func_tolerance=1e-20)"
   ]
  },
  {
   "cell_type": "code",
   "execution_count": 54,
   "metadata": {},
   "outputs": [],
   "source": [
    "print('Nelder-Mead')\n",
    "print('Converged:', sol.converged)\n",
    "print('Location of the minimum:', sol.position)\n",
    "print('Number of iterations:', sol.num_iterations)\n",
    "print('Objetive value:',sol.objective_value)"
   ]
  },
  {
   "cell_type": "code",
   "execution_count": 55,
   "metadata": {},
   "outputs": [],
   "source": [
    "st = 3\n",
    "ano= 15\n",
    "x1 = taus(st)\n",
    "pars(ano)\n",
    "matrix()\n",
    "get_W_i(ano)\n",
    "get_p_i(ano)\n",
    "cc=0\n",
    "\n",
    "#optim_results = tfp.optimizer.lbfgs_minimize(\n",
    "#      tflow,\n",
    "#      x1,\n",
    "#      num_correction_pairs=10,\n",
    "#      tolerance=1e-8)\n",
    "\n",
    "\n",
    "dtype= x1.dtype\n",
    "start =tf.constant(x1, dtype=dtype)\n",
    "\n",
    "\n",
    "sol = tfp.optimizer.nelder_mead_minimize(\n",
    "  tflow,\n",
    "  initial_vertex=start,\n",
    "  parallel_iterations =10,\n",
    "  func_tolerance=1e-200)"
   ]
  },
  {
   "cell_type": "code",
   "execution_count": 56,
   "metadata": {},
   "outputs": [],
   "source": [
    "print('Nelder-Mead')\n",
    "print('Converged:', sol.converged)\n",
    "print('Location of the minimum:', sol.position)\n",
    "print('Number of iterations:', sol.num_iterations)\n",
    "print('Objetive value:',sol.objective_value)"
   ]
  },
  {
   "cell_type": "code",
   "execution_count": 57,
   "metadata": {},
   "outputs": [],
   "source": [
    "st = 3\n",
    "ano= 15\n",
    "x1 = taus(st)\n",
    "pars(ano)\n",
    "matrix()\n",
    "get_W_i(ano)\n",
    "get_p_i(ano)\n",
    "cc=0\n",
    "\n",
    "#optim_results = tfp.optimizer.lbfgs_minimize(\n",
    "#      tflow,\n",
    "#      x1,\n",
    "#      num_correction_pairs=10,\n",
    "#      tolerance=1e-8)\n",
    "\n",
    "\n",
    "dtype= x1.dtype\n",
    "start =tf.constant(x1, dtype=dtype)\n",
    "\n",
    "\n",
    "sol = tfp.optimizer.nelder_mead_minimize(\n",
    "  tflow,\n",
    "  initial_vertex=start,\n",
    "  parallel_iterations =10,\n",
    "  func_tolerance=1e-200)"
   ]
  },
  {
   "cell_type": "code",
   "execution_count": 58,
   "metadata": {},
   "outputs": [],
   "source": [
    "print('Nelder-Mead')\n",
    "print('Converged:', sol.converged)\n",
    "print('Location of the minimum:', sol.position)\n",
    "print('Number of iterations:', sol.num_iterations)\n",
    "print('Objetive value:',sol.objective_value)"
   ]
  },
  {
   "cell_type": "code",
   "execution_count": 59,
   "metadata": {},
   "outputs": [],
   "source": [
    "st = 3\n",
    "ano= 15\n",
    "x1 = taus(st)\n",
    "pars(ano)\n",
    "matrix()\n",
    "get_W_i(ano)\n",
    "get_p_i(ano)\n",
    "cc=0\n",
    "\n",
    "#optim_results = tfp.optimizer.lbfgs_minimize(\n",
    "#      tflow,\n",
    "#      x1,\n",
    "#      num_correction_pairs=10,\n",
    "#      tolerance=1e-8)\n",
    "\n",
    "\n",
    "dtype= x1.dtype\n",
    "start =tf.constant(x1, dtype=dtype)\n",
    "\n",
    "\n",
    "sol = tfp.optimizer.nelder_mead_minimize(\n",
    "  tflow,\n",
    "  initial_vertex=start,\n",
    "  parallel_iterations =10,\n",
    "    shrinkage=0.3,\n",
    "  func_tolerance=1e-200)"
   ]
  },
  {
   "cell_type": "code",
   "execution_count": 60,
   "metadata": {},
   "outputs": [],
   "source": [
    "print('Nelder-Mead')\n",
    "print('Converged:', sol.converged)\n",
    "print('Location of the minimum:', sol.position)\n",
    "print('Number of iterations:', sol.num_iterations)\n",
    "print('Objetive value:',sol.objective_value)"
   ]
  },
  {
   "cell_type": "code",
   "execution_count": 61,
   "metadata": {},
   "outputs": [],
   "source": [
    "st = 3\n",
    "ano= 15\n",
    "x1 = taus(st)\n",
    "pars(ano)\n",
    "matrix()\n",
    "get_W_i(ano)\n",
    "get_p_i(ano)\n",
    "cc=0\n",
    "\n",
    "#optim_results = tfp.optimizer.lbfgs_minimize(\n",
    "#      tflow,\n",
    "#      x1,\n",
    "#      num_correction_pairs=10,\n",
    "#      tolerance=1e-8)\n",
    "\n",
    "\n",
    "dtype= x1.dtype\n",
    "start =tf.constant(x1, dtype=dtype)\n",
    "\n",
    "\n",
    "sol = tfp.optimizer.nelder_mead_minimize(\n",
    "  tflow,\n",
    "  initial_vertex=start,\n",
    "  parallel_iterations =10,\n",
    "    shrinkage=0.3,\n",
    "  func_tolerance=1e-200)"
   ]
  },
  {
   "cell_type": "code",
   "execution_count": 62,
   "metadata": {},
   "outputs": [],
   "source": [
    "tfp.optimizer.lbfgs_minimize(\n",
    "  tflow,\n",
    "  initial_position=start,\n",
    "  parallel_iterations =10,\n",
    "    shrinkage=0.3,\n",
    "  func_tolerance=1e-200)"
   ]
  },
  {
   "cell_type": "code",
   "execution_count": 63,
   "metadata": {},
   "outputs": [],
   "source": [
    "tfp.optimizer.lbfgs_minimize(\n",
    "  tflow,\n",
    "  initial_position=start,\n",
    "  parallel_iterations =10,\n",
    "  func_tolerance=1e-200)"
   ]
  },
  {
   "cell_type": "code",
   "execution_count": 64,
   "metadata": {},
   "outputs": [],
   "source": [
    "tfp.optimizer.lbfgs_minimize(\n",
    "  tflow,\n",
    "  initial_position=start,\n",
    "  parallel_iterations =10,\n",
    "  tolerance=1e-200)"
   ]
  },
  {
   "cell_type": "code",
   "execution_count": 65,
   "metadata": {},
   "outputs": [],
   "source": [
    "start = np.random.randn(st)\n",
    "\n",
    "tfp.optimizer.lbfgs_minimize(\n",
    "  tflow,\n",
    "  initial_position=start,\n",
    "  parallel_iterations =10,\n",
    "  tolerance=1e-200)"
   ]
  },
  {
   "cell_type": "code",
   "execution_count": 66,
   "metadata": {},
   "outputs": [],
   "source": [
    "tf.test.is_gpu_available(cuda_only = False) "
   ]
  },
  {
   "cell_type": "code",
   "execution_count": 67,
   "metadata": {},
   "outputs": [],
   "source": [
    "def make_val_and_grad_fn(value_fn):\n",
    "  @functools.wraps(value_fn)\n",
    "  def val_and_grad(x):\n",
    "    return tfp.math.value_and_gradient(value_fn, x)\n",
    "  return val_and_grad"
   ]
  },
  {
   "cell_type": "code",
   "execution_count": 68,
   "metadata": {},
   "outputs": [],
   "source": [
    "#@tf.function\n",
    "def tflow(x1):    \n",
    "    global w    \n",
    "    #w = tf.reshape(lin_sys(x1), (1, 3) )\n",
    "    w=lin_sys(x1)\n",
    "    x1=tf.reshape(x1, (1, 3))\n",
    "    #x1 = np.reshape(x1, (2,3))\n",
    "    tf.convert_to_tensor(x1, tf.float64)\n",
    "    W_im = W_i_f(x1)[0]    \n",
    "    D = tf.reduce_sum(tf.pow( tf.divide(tf.math.squared_difference(W_id, W_im), W_id ) , 2)) \n",
    "    D = tf.math.log(D)\n",
    "    return D"
   ]
  },
  {
   "cell_type": "code",
   "execution_count": 69,
   "metadata": {},
   "outputs": [],
   "source": [
    "@tf.function\n",
    "def tflow2(x1):    \n",
    "    global w    \n",
    "    #w = tf.reshape(lin_sys(x1), (1, 3) )\n",
    "    w=lin_sys(x1)\n",
    "    x1=tf.reshape(x1, (1, 3))\n",
    "    #x1 = np.reshape(x1, (2,3))\n",
    "    tf.convert_to_tensor(x1, tf.float64)\n",
    "    W_im = W_i_f(x1)[0]    \n",
    "    D = tf.reduce_sum(tf.pow( tf.divide(tf.math.squared_difference(W_id, W_im), W_id ) , 2)) \n",
    "    D = tf.math.log(D)\n",
    "    return D"
   ]
  },
  {
   "cell_type": "code",
   "execution_count": 70,
   "metadata": {},
   "outputs": [],
   "source": [
    "@tf.function\n",
    "def tflow2(x1):    \n",
    "    global w    \n",
    "    #w = tf.reshape(lin_sys(x1), (1, 3) )\n",
    "    w=lin_sys(x1)\n",
    "    x1=tf.reshape(x1, (1, 3))\n",
    "    #x1 = np.reshape(x1, (2,3))\n",
    "    tf.convert_to_tensor(x1, tf.float64)\n",
    "    W_im = W_i_f(x1)[0]    \n",
    "    D = tf.reduce_sum(tf.pow( tf.divide(tf.math.squared_difference(W_id, W_im), W_id ) , 2)) \n",
    "    D = tf.math.log(D)\n",
    "    return D"
   ]
  },
  {
   "cell_type": "code",
   "execution_count": 71,
   "metadata": {},
   "outputs": [],
   "source": [
    "def make_val_and_grad_fn(value_fn):\n",
    "  @functools.wraps(value_fn)\n",
    "  def val_and_grad(x):\n",
    "    return tfp.math.value_and_gradient(value_fn, x)\n",
    "  return val_and_grad\n",
    "\n",
    "\n",
    "\n",
    "@contextlib.contextmanager\n",
    "def timed_execution():\n",
    "  t0 = time.time()\n",
    "  yield\n",
    "  dt = time.time() - t0\n",
    "  print('Evaluation took: %f seconds' % dt)\n",
    "\n",
    "\n",
    "def np_value(tensor):\n",
    "  \"\"\"Get numpy value out of possibly nested tuple of tensors.\"\"\"\n",
    "  if isinstance(tensor, tuple):\n",
    "    return type(tensor)(*(np_value(t) for t in tensor))\n",
    "  else:\n",
    "    return tensor.numpy()\n",
    "\n",
    "def run(optimizer):\n",
    "  \"\"\"Run an optimizer and measure it's evaluation time.\"\"\"\n",
    "  optimizer()  # Warmup.\n",
    "  with timed_execution():\n",
    "    result = optimizer()\n",
    "  return np_value(result)"
   ]
  },
  {
   "cell_type": "code",
   "execution_count": 72,
   "metadata": {},
   "outputs": [],
   "source": [
    "\n",
    "import tensorflow as tf\n",
    "import tensorflow_probability as tfp\n",
    "\n",
    "import contextlib\n",
    "import functools"
   ]
  },
  {
   "cell_type": "code",
   "execution_count": 73,
   "metadata": {},
   "outputs": [],
   "source": [
    "def make_val_and_grad_fn(value_fn):\n",
    "  @functools.wraps(value_fn)\n",
    "  def val_and_grad(x):\n",
    "    return tfp.math.value_and_gradient(value_fn, x)\n",
    "  return val_and_grad\n",
    "\n",
    "\n",
    "\n",
    "@contextlib.contextmanager\n",
    "def timed_execution():\n",
    "  t0 = time.time()\n",
    "  yield\n",
    "  dt = time.time() - t0\n",
    "  print('Evaluation took: %f seconds' % dt)\n",
    "\n",
    "\n",
    "def np_value(tensor):\n",
    "  \"\"\"Get numpy value out of possibly nested tuple of tensors.\"\"\"\n",
    "  if isinstance(tensor, tuple):\n",
    "    return type(tensor)(*(np_value(t) for t in tensor))\n",
    "  else:\n",
    "    return tensor.numpy()\n",
    "\n",
    "def run(optimizer):\n",
    "  \"\"\"Run an optimizer and measure it's evaluation time.\"\"\"\n",
    "  optimizer()  # Warmup.\n",
    "  with timed_execution():\n",
    "    result = optimizer()\n",
    "  return np_value(result)"
   ]
  },
  {
   "cell_type": "code",
   "execution_count": 74,
   "metadata": {},
   "outputs": [],
   "source": [
    "start = np.random.randn(st)"
   ]
  },
  {
   "cell_type": "code",
   "execution_count": 75,
   "metadata": {},
   "outputs": [],
   "source": [
    "def tflow2(x1):    \n",
    "    global w    \n",
    "    #w = tf.reshape(lin_sys(x1), (1, 3) )\n",
    "    w=lin_sys(x1)\n",
    "    x1=tf.reshape(x1, (1, 3))\n",
    "    #x1 = np.reshape(x1, (2,3))\n",
    "    tf.convert_to_tensor(x1, tf.float64)\n",
    "    W_im = W_i_f(x1)[0]    \n",
    "    D = tf.reduce_sum(tf.pow( tf.divide(tf.math.squared_difference(W_id, W_im), W_id ) , 2)) \n",
    "    D = tf.math.log(D)\n",
    "    return D"
   ]
  },
  {
   "cell_type": "code",
   "execution_count": 76,
   "metadata": {},
   "outputs": [],
   "source": [
    "@tf.function\n",
    "def quadratic_with_lbfgs():\n",
    "  return tfp.optimizer.lbfgs_minimize(\n",
    "  tflow,\n",
    "  initial_position=start,\n",
    "  parallel_iterations =10,\n",
    "  tolerance=1e-200)\n",
    "\n",
    "sol = run(quadratic_with_lbfgs)"
   ]
  },
  {
   "cell_type": "code",
   "execution_count": 77,
   "metadata": {},
   "outputs": [],
   "source": [
    "def tflow2(x1):    \n",
    "    global w    \n",
    "    #w = tf.reshape(lin_sys(x1), (1, 3) )\n",
    "    w=lin_sys(x1)\n",
    "    x1=tf.reshape(x1, (1, 3))\n",
    "    #x1 = np.reshape(x1, (2,3))\n",
    "    tf.convert_to_tensor(x1, tf.float64)\n",
    "    W_im = W_i_f(x1)[0]    \n",
    "    D = tf.reduce_sum(tf.pow( tf.divide(tf.math.squared_difference(W_id, W_im), W_id ) , 2)) \n",
    "    D = tf.math.log(D)\n",
    "    return D"
   ]
  },
  {
   "cell_type": "code",
   "execution_count": 78,
   "metadata": {},
   "outputs": [],
   "source": [
    "@tf.function\n",
    "def quadratic_with_lbfgs():\n",
    "  return tfp.optimizer.lbfgs_minimize(\n",
    "  tflow2,\n",
    "  initial_position=start,\n",
    "  parallel_iterations =10,\n",
    "  tolerance=1e-200)\n",
    "\n",
    "sol = run(quadratic_with_lbfgs)"
   ]
  },
  {
   "cell_type": "code",
   "execution_count": 79,
   "metadata": {},
   "outputs": [],
   "source": [
    "#@tf.function\n",
    "def tflow(x1):    \n",
    "    global w    \n",
    "    #w = tf.reshape(lin_sys(x1), (1, 3) )\n",
    "    w=lin_sys(x1)\n",
    "    x1=tf.reshape(x1, (1, 3))\n",
    "    #x1 = np.reshape(x1, (2,3))\n",
    "    tf.convert_to_tensor(x1, tf.float64)\n",
    "    W_im = W_i_f(x1)[0]    \n",
    "    D = tf.reduce_sum(tf.pow( tf.divide(tf.math.squared_difference(W_id, W_im), W_id ) , 2)) \n",
    "    D = tf.math.log(D)\n",
    "    return D"
   ]
  },
  {
   "cell_type": "code",
   "execution_count": 80,
   "metadata": {},
   "outputs": [],
   "source": [
    "@tf.function\n",
    "def quadratic_with_lbfgs():\n",
    "  return tfp.optimizer.lbfgs_minimize(\n",
    "  tflow2,\n",
    "  initial_position=start,\n",
    "  parallel_iterations =10,\n",
    "  tolerance=1e-200)\n",
    "\n",
    "sol = run(quadratic_with_lbfgs)"
   ]
  },
  {
   "cell_type": "code",
   "execution_count": 81,
   "metadata": {},
   "outputs": [],
   "source": [
    "@tf.function\n",
    "def quadratic_with_lbfgs():\n",
    "  return tfp.optimizer.lbfgs_minimize(\n",
    "  tflow2,\n",
    "  initial_position=taus(3),\n",
    "  parallel_iterations =10,\n",
    "  tolerance=1e-200)\n",
    "\n",
    "sol = run(quadratic_with_lbfgs)"
   ]
  },
  {
   "cell_type": "code",
   "execution_count": 82,
   "metadata": {},
   "outputs": [],
   "source": [
    "@tf.function\n",
    "def quadratic_with_lbfgs():\n",
    "  return tfp.optimizer.lbfgs_minimize(\n",
    "  tflow2,\n",
    "  initial_position=start,\n",
    "  parallel_iterations =10,\n",
    "  tolerance=1e-200)\n",
    "\n",
    "sol = run(quadratic_with_lbfgs)"
   ]
  },
  {
   "cell_type": "code",
   "execution_count": 83,
   "metadata": {},
   "outputs": [],
   "source": [
    "@tf.function\n",
    "def quadratic_with_lbfgs():\n",
    "  return tfp.optimizer.lbfgs_minimize(\n",
    "  tflow2,\n",
    "  initial_position=tf.constant(np.array([0.1,1.0,2.0]), dtype=dtype),\n",
    "  parallel_iterations =10,\n",
    "  tolerance=1e-200)\n",
    "\n",
    "sol = run(quadratic_with_lbfgs)"
   ]
  },
  {
   "cell_type": "code",
   "execution_count": 84,
   "metadata": {},
   "outputs": [],
   "source": [
    "#@tf.function\n",
    "def quadratic_with_lbfgs():\n",
    "  return tfp.optimizer.lbfgs_minimize(\n",
    "  tflow2,\n",
    "  initial_position=tf.constant(np.array([0.1,1.0,2.0]), dtype=dtype),\n",
    "  parallel_iterations =10,\n",
    "  tolerance=1e-200)\n",
    "\n",
    "sol = run(quadratic_with_lbfgs)"
   ]
  },
  {
   "cell_type": "code",
   "execution_count": 85,
   "metadata": {},
   "outputs": [],
   "source": [
    "@make_val_and_grad_fn\n",
    "def tflow2(x1):    \n",
    "    global w    \n",
    "    #w = tf.reshape(lin_sys(x1), (1, 3) )\n",
    "    w=lin_sys(x1)\n",
    "    x1=tf.reshape(x1, (1, 3))\n",
    "    #x1 = np.reshape(x1, (2,3))\n",
    "    tf.convert_to_tensor(x1, tf.float64)\n",
    "    W_im = W_i_f(x1)[0]    \n",
    "    D = tf.reduce_sum(tf.pow( tf.divide(tf.math.squared_difference(W_id, W_im), W_id ) , 2)) \n",
    "    D = tf.math.log(D)\n",
    "    return D"
   ]
  },
  {
   "cell_type": "code",
   "execution_count": 86,
   "metadata": {},
   "outputs": [],
   "source": [
    "@tf.function\n",
    "def quadratic_with_lbfgs():\n",
    "  return tfp.optimizer.lbfgs_minimize(\n",
    "  tflow2,\n",
    "  initial_position=tf.constant(np.array([0.1,1.0,2.0]), dtype=dtype),\n",
    "  parallel_iterations =10,\n",
    "  tolerance=1e-200)\n",
    "\n",
    "sol = run(quadratic_with_lbfgs)"
   ]
  },
  {
   "cell_type": "code",
   "execution_count": 87,
   "metadata": {},
   "outputs": [],
   "source": [
    "import numpy as np\n",
    "from math import gamma\n",
    "import matplotlib.pyplot as plt\n",
    "from scipy.optimize import minimize\n",
    "import time\n",
    "import pandas as pd\n",
    "\n",
    "import os\n",
    "os.chdir(\"C:\\\\Users\\\\user\\\\Downloads\\\\Thesis_paper_1\\\\calibration\")\n",
    "\n",
    "np.set_printoptions(suppress=True) # supress scientific notation\n",
    "\n",
    "import matplotlib.ticker as mtick\n",
    "import locale\n",
    "locale.setlocale(locale.LC_NUMERIC, \"de_DE\")\n",
    "\n",
    "\n",
    "plt.rcParams['axes.formatter.use_locale'] = True\n",
    "\n",
    "\n",
    "\n",
    "pd.set_option('display.max_columns', 50) "
   ]
  },
  {
   "cell_type": "code",
   "execution_count": 88,
   "metadata": {},
   "outputs": [],
   "source": [
    "@tf.function\n",
    "def quadratic_with_lbfgs():\n",
    "  return tfp.optimizer.lbfgs_minimize(\n",
    "  tflow2,\n",
    "  initial_position=tf.constant(np.array([0.1,1.0,2.0]), dtype=dtype),\n",
    "  parallel_iterations =10,\n",
    "  tolerance=1e-200)\n",
    "\n",
    "sol = run(quadratic_with_lbfgs)"
   ]
  },
  {
   "cell_type": "code",
   "execution_count": 89,
   "metadata": {},
   "outputs": [],
   "source": [
    "print('Nelder-Mead')\n",
    "print('Converged:', sol.converged)\n",
    "print('Location of the minimum:', sol.position)\n",
    "print('Number of iterations:', sol.num_iterations)\n",
    "print('Objetive value:',sol.objective_value)"
   ]
  },
  {
   "cell_type": "code",
   "execution_count": 90,
   "metadata": {},
   "outputs": [],
   "source": [
    "print('LBFGS')\n",
    "print('Converged:', sol.converged)\n",
    "print('Location of the minimum:', sol.position)\n",
    "print('Number of iterations:', sol.num_iterations)\n",
    "print('Objetive value:',sol.objective_value)"
   ]
  },
  {
   "cell_type": "code",
   "execution_count": 91,
   "metadata": {},
   "outputs": [],
   "source": [
    "@tf.function\n",
    "def quadratic_with_lbfgs():\n",
    "  return tfp.optimizer.lbfgs_minimize(\n",
    "  tflow2,\n",
    "  initial_position=tf.constant(np.array([0.1,1.0,2.0]), dtype=dtype),\n",
    "  parallel_iterations =10,\n",
    "  tolerance=1e-200)\n",
    "\n",
    "sol = run(quadratic_with_lbfgs)"
   ]
  },
  {
   "cell_type": "code",
   "execution_count": 92,
   "metadata": {},
   "outputs": [],
   "source": [
    "print('LBFGS')\n",
    "print('Converged:', sol.converged)\n",
    "print('Location of the minimum:', sol.position)\n",
    "print('Number of iterations:', sol.num_iterations)\n",
    "print('Objetive value:',sol.objective_value)"
   ]
  },
  {
   "cell_type": "code",
   "execution_count": 93,
   "metadata": {},
   "outputs": [],
   "source": [
    "st = 3\n",
    "x1 = taus(st)\n",
    "ano= 95\n",
    "pars(ano)\n",
    "matrix()\n",
    "get_W_i(ano)\n",
    "get_p_i(ano)\n",
    "cc=0\n",
    "\n",
    "sol= minimize(tflow, x1,  method='L-BFGS-B', bounds=Bd,\n",
    "              callback=callback,\n",
    "              tol=1e-250, options={'maxiter':1e3}) "
   ]
  },
  {
   "cell_type": "code",
   "execution_count": 94,
   "metadata": {},
   "outputs": [],
   "source": [
    "st = 3\n",
    "x1 = taus(st)\n",
    "ano= 15\n",
    "pars(ano)\n",
    "matrix()\n",
    "get_W_i(ano)\n",
    "get_p_i(ano)\n",
    "cc=0\n",
    "\n",
    "sol= minimize(tflow, x1,  method='L-BFGS-B', bounds=Bd,\n",
    "              callback=callback,\n",
    "              tol=1e-250, options={'maxiter':1e3}) "
   ]
  },
  {
   "cell_type": "code",
   "execution_count": 95,
   "metadata": {},
   "outputs": [],
   "source": [
    "sol.x    \n",
    " \n",
    "# ----> 95   2.71376964, -0.12759258, 2.13168792"
   ]
  },
  {
   "cell_type": "code",
   "execution_count": 96,
   "metadata": {},
   "outputs": [],
   "source": [
    "st = 3\n",
    "x1 = taus(st)\n",
    "ano= 15\n",
    "pars(ano)\n",
    "matrix()\n",
    "get_W_i(ano)\n",
    "get_p_i(ano)\n",
    "cc=0\n",
    "\n",
    "sol= minimize(tflow, x1,  method='L-BFGS-B', bounds=Bd,\n",
    "              callback=callback,\n",
    "              tol=1e-250, options={'maxiter':1e3}) "
   ]
  },
  {
   "cell_type": "code",
   "execution_count": 97,
   "metadata": {},
   "outputs": [],
   "source": [
    "sol.x    \n",
    " \n",
    "# ----> 95   2.71376964, -0.12759258, 2.13168792"
   ]
  },
  {
   "cell_type": "code",
   "execution_count": 98,
   "metadata": {},
   "outputs": [],
   "source": [
    "st = 3\n",
    "x1 = taus(st)\n",
    "ano= 15\n",
    "pars(ano)\n",
    "matrix()\n",
    "get_W_i(ano)\n",
    "get_p_i(ano)\n",
    "cc=0\n",
    "\n",
    "sol= minimize(tflow, x1,  method='L-BFGS-B', bounds=Bd,\n",
    "              callback=callback,\n",
    "              tol=1e-250, options={'maxiter':1e3}) "
   ]
  },
  {
   "cell_type": "code",
   "execution_count": 99,
   "metadata": {},
   "outputs": [],
   "source": [
    "sol.x    \n",
    " \n",
    "# ----> 95   2.71376964, -0.12759258, 2.13168792"
   ]
  },
  {
   "cell_type": "code",
   "execution_count": 100,
   "metadata": {},
   "outputs": [],
   "source": [
    "sol.x    \n",
    " \n",
    "# ----> 95 "
   ]
  },
  {
   "cell_type": "code",
   "execution_count": 101,
   "metadata": {},
   "outputs": [],
   "source": [
    "@tf.function\n",
    "def quadratic_with_lbfgs():\n",
    "  return tfp.optimizer.lbfgs_minimize(\n",
    "  tflow2,\n",
    "  initial_position=tf.constant(np.array([0.1,1.0,2.0]), dtype=dtype),\n",
    "  parallel_iterations =10,\n",
    "  tolerance=1e-250,)\n",
    "\n",
    "sol = run(quadratic_with_lbfgs)"
   ]
  },
  {
   "cell_type": "code",
   "execution_count": 102,
   "metadata": {},
   "outputs": [],
   "source": [
    "@tf.function\n",
    "def quadratic_with_lbfgs():\n",
    "  return tfp.optimizer.lbfgs_minimize(\n",
    "  tflow2,\n",
    "  initial_position=tf.constant(np.array([0.1,1.0,2.0]), dtype=dtype),\n",
    "  parallel_iterations =10,\n",
    "  tolerance=1e-250,\n",
    "    max_iterations=1e3, \n",
    "    max_line_search_iterations=1e4)\n",
    "\n",
    "sol = run(quadratic_with_lbfgs)"
   ]
  },
  {
   "cell_type": "code",
   "execution_count": 103,
   "metadata": {},
   "outputs": [],
   "source": [
    "@tf.function\n",
    "def quadratic_with_lbfgs():\n",
    "  return tfp.optimizer.lbfgs_minimize(\n",
    "  tflow2,\n",
    "  initial_position=tf.constant(np.array([0.1,1.0,2.0]), dtype=dtype),\n",
    "  parallel_iterations =10,\n",
    "  tolerance=1e-250,\n",
    "    max_iterations=1e3\n",
    "    )\n",
    "\n",
    "sol = run(quadratic_with_lbfgs)"
   ]
  },
  {
   "cell_type": "code",
   "execution_count": 104,
   "metadata": {},
   "outputs": [],
   "source": [
    "@tf.function\n",
    "def quadratic_with_lbfgs():\n",
    "  return tfp.optimizer.lbfgs_minimize(\n",
    "  tflow2,\n",
    "  initial_position=tf.constant(np.array([0.1,1.0,2.0]), dtype=dtype),\n",
    "  parallel_iterations =10,\n",
    "  tolerance=1e-250    )\n",
    "\n",
    "sol = run(quadratic_with_lbfgs)"
   ]
  },
  {
   "cell_type": "code",
   "execution_count": 105,
   "metadata": {},
   "outputs": [],
   "source": [
    "print('LBFGS')\n",
    "print('Converged:', sol.converged)\n",
    "print('Location of the minimum:', sol.position)\n",
    "print('Number of iterations:', sol.num_iterations)\n",
    "print('Objetive value:',sol.objective_value)"
   ]
  },
  {
   "cell_type": "code",
   "execution_count": 106,
   "metadata": {},
   "outputs": [],
   "source": [
    "@tf.function\n",
    "def quadratic_with_lbfgs():\n",
    "  return tfp.optimizer.lbfgs_minimize(\n",
    "  tflow2,\n",
    "  initial_position=tf.constant(np.array([0.1,1.0,2.0]), dtype=dtype),\n",
    "  parallel_iterations =10,\n",
    "  tolerance=1e-250,\n",
    "    max_iterations=1000)\n",
    "\n",
    "sol = run(quadratic_with_lbfgs)"
   ]
  },
  {
   "cell_type": "code",
   "execution_count": 107,
   "metadata": {},
   "outputs": [],
   "source": [
    "print('LBFGS')\n",
    "print('Converged:', sol.converged)\n",
    "print('Location of the minimum:', sol.position)\n",
    "print('Number of iterations:', sol.num_iterations)\n",
    "print('Objetive value:',sol.objective_value)"
   ]
  },
  {
   "cell_type": "code",
   "execution_count": 108,
   "metadata": {},
   "outputs": [],
   "source": [
    "@tf.function\n",
    "def quadratic_with_lbfgs():\n",
    "  return tfp.optimizer.lbfgs_minimize(\n",
    "  tflow2,\n",
    "  initial_position=tf.constant(np.array([0.1,1.0,2.0]), dtype=dtype),\n",
    "  parallel_iterations =10,\n",
    "  tolerance=1e-250,\n",
    "    max_iterations=10000)\n",
    "\n",
    "sol = run(quadratic_with_lbfgs)"
   ]
  },
  {
   "cell_type": "code",
   "execution_count": 109,
   "metadata": {},
   "outputs": [],
   "source": [
    "print('LBFGS')\n",
    "print('Converged:', sol.converged)\n",
    "print('Location of the minimum:', sol.position)\n",
    "print('Number of iterations:', sol.num_iterations)\n",
    "print('Objetive value:',sol.objective_value)"
   ]
  },
  {
   "cell_type": "code",
   "execution_count": 110,
   "metadata": {},
   "outputs": [],
   "source": [
    "@tf.function\n",
    "def quadratic_with_lbfgs():\n",
    "  return tfp.optimizer.lbfgs_minimize(\n",
    "  tflow2,\n",
    "  initial_position=tf.constant(np.array([0.1,1.0,2.0]), dtype=dtype),\n",
    "  parallel_iterations =10,\n",
    "  tolerance=1e-250,\n",
    "    max_iterations=10000,\n",
    "  max_line_search_iterations=5000)\n",
    "\n",
    "sol = run(quadratic_with_lbfgs)"
   ]
  },
  {
   "cell_type": "code",
   "execution_count": 111,
   "metadata": {},
   "outputs": [],
   "source": [
    "print('LBFGS')\n",
    "print('Converged:', sol.converged)\n",
    "print('Location of the minimum:', sol.position)\n",
    "print('Number of iterations:', sol.num_iterations)\n",
    "print('Objetive value:',sol.objective_value)"
   ]
  },
  {
   "cell_type": "code",
   "execution_count": 112,
   "metadata": {},
   "outputs": [],
   "source": [
    "@make_val_and_grad_fn\n",
    "def tflow2(x1):    \n",
    "    global w    \n",
    "    x1=tf.reshape(x1, (1, 3))\n",
    "    w=lin_sys(x1)\n",
    "    tf.convert_to_tensor(x1, tf.float64)\n",
    "    W_im = W_i_f(x1)[0]    \n",
    "    D = tf.reduce_sum(tf.pow( tf.divide(tf.math.squared_difference(W_id, W_im), W_id ) , 2)) \n",
    "    D = tf.math.log(D)\n",
    "    return D"
   ]
  },
  {
   "cell_type": "code",
   "execution_count": 113,
   "metadata": {},
   "outputs": [],
   "source": [
    "@tf.function\n",
    "def quadratic_with_lbfgs():\n",
    "  return tfp.optimizer.lbfgs_minimize(\n",
    "  tflow2,\n",
    "  initial_position=tf.constant(np.array([0.1,1.0,2.0]), dtype=dtype),\n",
    "  parallel_iterations =10,\n",
    "  tolerance=1e-250,\n",
    "    max_iterations=10000,\n",
    "  max_line_search_iterations=5000)\n",
    "\n",
    "sol = run(quadratic_with_lbfgs)"
   ]
  },
  {
   "cell_type": "code",
   "execution_count": 114,
   "metadata": {},
   "outputs": [],
   "source": [
    "print('LBFGS')\n",
    "print('Converged:', sol.converged)\n",
    "print('Location of the minimum:', sol.position)\n",
    "print('Number of iterations:', sol.num_iterations)\n",
    "print('Objetive value:',sol.objective_value)"
   ]
  },
  {
   "cell_type": "code",
   "execution_count": 115,
   "metadata": {},
   "outputs": [],
   "source": [
    "@tf.function\n",
    "def quadratic_with_lbfgs():\n",
    "  return tfp.optimizer.lbfgs_minimize(\n",
    "  tflow2,\n",
    "  initial_position=tf.constant(np.array([0.1,1.0,2.0]), dtype=dtype),\n",
    "  parallel_iterations =10,\n",
    "  tolerance=0,\n",
    "    max_iterations=10000,\n",
    "  max_line_search_iterations=5000)\n",
    "\n",
    "sol = run(quadratic_with_lbfgs)"
   ]
  },
  {
   "cell_type": "code",
   "execution_count": 116,
   "metadata": {},
   "outputs": [],
   "source": [
    "print('LBFGS')\n",
    "print('Converged:', sol.converged)\n",
    "print('Location of the minimum:', sol.position)\n",
    "print('Number of iterations:', sol.num_iterations)\n",
    "print('Objetive value:',sol.objective_value)"
   ]
  },
  {
   "cell_type": "code",
   "execution_count": 117,
   "metadata": {},
   "outputs": [],
   "source": [
    "@make_val_and_grad_fn\n",
    "def tflow2(x1):    \n",
    "    global w    \n",
    "    x1=tf.reshape(x1, (1, 3))\n",
    "    w=lin_sys(x1)\n",
    "    tf.convert_to_tensor(x1, tf.float64)\n",
    "    W_im = W_i_f(x1)[0]    \n",
    "    D = tf.reduce_sum(tf.pow( tf.divide(tf.math.squared_difference(W_id, W_im), W_id ) , 2)) \n",
    "    #D = tf.math.log(D)\n",
    "    return D"
   ]
  },
  {
   "cell_type": "code",
   "execution_count": 118,
   "metadata": {},
   "outputs": [],
   "source": [
    "@tf.function\n",
    "def quadratic_with_lbfgs():\n",
    "  return tfp.optimizer.lbfgs_minimize(\n",
    "  tflow2,\n",
    "  initial_position=tf.constant(np.array([0.1,1.0,2.0]), dtype=dtype),\n",
    "  parallel_iterations =10,\n",
    "  tolerance=0,\n",
    "    max_iterations=10000,\n",
    "  max_line_search_iterations=5000)\n",
    "\n",
    "sol = run(quadratic_with_lbfgs)"
   ]
  },
  {
   "cell_type": "code",
   "execution_count": 119,
   "metadata": {},
   "outputs": [],
   "source": [
    "print('LBFGS')\n",
    "print('Converged:', sol.converged)\n",
    "print('Location of the minimum:', sol.position)\n",
    "print('Number of iterations:', sol.num_iterations)\n",
    "print('Objetive value:',sol.objective_value)"
   ]
  },
  {
   "cell_type": "code",
   "execution_count": 120,
   "metadata": {},
   "outputs": [],
   "source": [
    "@make_val_and_grad_fn\n",
    "def tflow2(x1):    \n",
    "    global w   \n",
    "    w=lin_sys(x1)\n",
    "    x1=tf.reshape(x1, (1, 3))\n",
    "    tf.convert_to_tensor(x1, tf.float64)\n",
    "    W_im = W_i_f(x1)[0]    \n",
    "    D = tf.reduce_sum(tf.pow( tf.divide(tf.math.squared_difference(W_id, W_im), W_id ) , 2)) \n",
    "    #D = tf.math.log(D)\n",
    "    return D"
   ]
  },
  {
   "cell_type": "code",
   "execution_count": 121,
   "metadata": {},
   "outputs": [],
   "source": [
    "@tf.function\n",
    "def quadratic_with_lbfgs():\n",
    "  return tfp.optimizer.lbfgs_minimize(\n",
    "  tflow2,\n",
    "  initial_position=tf.constant(np.array([0.1,1.0,2.0]), dtype=dtype),\n",
    "  parallel_iterations =10,\n",
    "  tolerance=0,\n",
    "    max_iterations=10000,\n",
    "  max_line_search_iterations=5000)\n",
    "\n",
    "sol = run(quadratic_with_lbfgs)"
   ]
  },
  {
   "cell_type": "code",
   "execution_count": 122,
   "metadata": {},
   "outputs": [],
   "source": [
    "print('LBFGS')\n",
    "print('Converged:', sol.converged)\n",
    "print('Location of the minimum:', sol.position)\n",
    "print('Number of iterations:', sol.num_iterations)\n",
    "print('Objetive value:',sol.objective_value)"
   ]
  },
  {
   "cell_type": "code",
   "execution_count": 123,
   "metadata": {},
   "outputs": [],
   "source": [
    "@tf.function\n",
    "def quadratic_with_lbfgs():\n",
    "  return tfp.optimizer.lbfgs_minimize(\n",
    "  tflow2,\n",
    "  initial_position=tf.constant(np.array([-10.0,5.0,2.0]), dtype=dtype),\n",
    "  parallel_iterations =10,\n",
    "  tolerance=0,\n",
    "    max_iterations=10000,\n",
    "  max_line_search_iterations=5000)\n",
    "\n",
    "sol = run(quadratic_with_lbfgs)"
   ]
  },
  {
   "cell_type": "code",
   "execution_count": 124,
   "metadata": {},
   "outputs": [],
   "source": [
    "print('LBFGS')\n",
    "print('Converged:', sol.converged)\n",
    "print('Location of the minimum:', sol.position)\n",
    "print('Number of iterations:', sol.num_iterations)\n",
    "print('Objetive value:',sol.objective_value)"
   ]
  },
  {
   "cell_type": "code",
   "execution_count": 125,
   "metadata": {},
   "outputs": [],
   "source": [
    "st = 3\n",
    "x1 = taus(st)\n",
    "ano= 15\n",
    "pars(ano)\n",
    "matrix()\n",
    "get_W_i(ano)\n",
    "get_p_i(ano)\n",
    "cc=0\n",
    "\n",
    "sol= minimize(tflow, x1,  method='L-BFGS-B', bounds=Bd,\n",
    "              callback=callback,\n",
    "              tol=1e-250, options={'maxiter':1e3}) "
   ]
  },
  {
   "cell_type": "code",
   "execution_count": 126,
   "metadata": {},
   "outputs": [],
   "source": [
    "sol.x    \n",
    " \n",
    "# ----> 95 "
   ]
  },
  {
   "cell_type": "code",
   "execution_count": 127,
   "metadata": {},
   "outputs": [],
   "source": [
    "st = 3\n",
    "x1 = taus(st)\n",
    "ano= 15\n",
    "pars(ano)\n",
    "matrix()\n",
    "get_W_i(ano)\n",
    "get_p_i(ano)\n",
    "cc=0\n",
    "\n",
    "sol= minimize(tflow, x1,  method='L-BFGS-B', bounds=Bd,\n",
    "              callback=callback,\n",
    "              tol=1e-250, options={'maxiter':1e3}) "
   ]
  },
  {
   "cell_type": "code",
   "execution_count": 128,
   "metadata": {},
   "outputs": [],
   "source": [
    "sol.x    \n",
    " \n",
    "# ----> 95 "
   ]
  },
  {
   "cell_type": "code",
   "execution_count": 129,
   "metadata": {},
   "outputs": [],
   "source": [
    "#@tf.function\n",
    "def tflow(x1):    \n",
    "    global w    \n",
    "    #w = tf.reshape(lin_sys(x1), (1, 3) )\n",
    "    w=lin_sys(x1)\n",
    "    x1=tf.reshape(x1, (1, 3))\n",
    "    #x1 = np.reshape(x1, (2,3))\n",
    "    tf.convert_to_tensor(x1, tf.float64)\n",
    "    W_im = W_i_f(x1)[0]    \n",
    "    D = tf.reduce_sum(tf.pow( tf.divide(tf.math.squared_difference(W_id, W_im), W_id ) , 2)) \n",
    "    #D = tf.math.log(D)\n",
    "    return D"
   ]
  },
  {
   "cell_type": "code",
   "execution_count": 130,
   "metadata": {},
   "outputs": [],
   "source": [
    "st = 3\n",
    "x1 = taus(st)\n",
    "ano= 15\n",
    "pars(ano)\n",
    "matrix()\n",
    "get_W_i(ano)\n",
    "get_p_i(ano)\n",
    "cc=0\n",
    "\n",
    "sol= minimize(tflow, x1,  method='L-BFGS-B', bounds=Bd,\n",
    "              callback=callback,\n",
    "              tol=1e-250, options={'maxiter':1e3}) "
   ]
  },
  {
   "cell_type": "code",
   "execution_count": 131,
   "metadata": {},
   "outputs": [],
   "source": [
    "sol.x    \n",
    " \n",
    "# ----> 95 "
   ]
  },
  {
   "cell_type": "code",
   "execution_count": 132,
   "metadata": {},
   "outputs": [],
   "source": [
    "@tf.function\n",
    "def quadratic_with_lbfgs():\n",
    "  return tfp.optimizer.lbfgs_minimize(\n",
    "  tflow2,\n",
    "  initial_position=tf.constant(np.array([-10.0,5.0,-2.0]), dtype=dtype),\n",
    "  parallel_iterations =10,\n",
    "  tolerance=0,\n",
    "    max_iterations=10000,\n",
    "  max_line_search_iterations=5000)\n",
    "\n",
    "sol = run(quadratic_with_lbfgs)"
   ]
  },
  {
   "cell_type": "code",
   "execution_count": 133,
   "metadata": {},
   "outputs": [],
   "source": [
    "print('LBFGS')\n",
    "print('Converged:', sol.converged)\n",
    "print('Location of the minimum:', sol.position)\n",
    "print('Number of iterations:', sol.num_iterations)\n",
    "print('Objetive value:',sol.objective_value)"
   ]
  },
  {
   "cell_type": "code",
   "execution_count": 134,
   "metadata": {},
   "outputs": [],
   "source": [
    "st = 3\n",
    "ano= 15\n",
    "x1 = taus(st)\n",
    "pars(ano)\n",
    "matrix()\n",
    "get_W_i(ano)\n",
    "get_p_i(ano)\n",
    "cc=0\n",
    "\n",
    "#optim_results = tfp.optimizer.lbfgs_minimize(\n",
    "#      tflow,\n",
    "#      x1,\n",
    "#      num_correction_pairs=10,\n",
    "#      tolerance=1e-8)\n",
    "\n",
    "\n",
    "dtype= x1.dtype\n",
    "start = tf.constant(x1, dtype=dtype)\n",
    "\n",
    "\n",
    "sol = tfp.optimizer.nelder_mead_minimize(\n",
    "  tflow,\n",
    "  initial_vertex=start,\n",
    "  parallel_iterations =10,\n",
    "  shrinkage=0.3,\n",
    "  func_tolerance=1e-200)"
   ]
  },
  {
   "cell_type": "code",
   "execution_count": 135,
   "metadata": {},
   "outputs": [],
   "source": [
    "print('Nelder-Mead')\n",
    "print('Converged:', sol.converged)\n",
    "print('Location of the minimum:', sol.position)\n",
    "print('Number of iterations:', sol.num_iterations)\n",
    "print('Objetive value:',sol.objective_value)"
   ]
  },
  {
   "cell_type": "code",
   "execution_count": 136,
   "metadata": {},
   "outputs": [],
   "source": [
    "st = 3\n",
    "ano= 15\n",
    "x1 = taus(st)\n",
    "pars(ano)\n",
    "matrix()\n",
    "get_W_i(ano)\n",
    "get_p_i(ano)\n",
    "cc=0\n",
    "\n",
    "#optim_results = tfp.optimizer.lbfgs_minimize(\n",
    "#      tflow,\n",
    "#      x1,\n",
    "#      num_correction_pairs=10,\n",
    "#      tolerance=1e-8)\n",
    "\n",
    "\n",
    "dtype= x1.dtype\n",
    "start = tf.constant(x1, dtype=dtype)\n",
    "\n",
    "\n",
    "def nelder_mead():\n",
    "  return tfp.optimizer.nelder_mead_minimize(\n",
    "  tflow,\n",
    "  initial_vertex=start,\n",
    "  parallel_iterations =10,\n",
    "  shrinkage=0.3,\n",
    "  func_tolerance=1e-200)\n",
    "\n",
    "\n",
    "sol = run(nelder_mead)"
   ]
  },
  {
   "cell_type": "code",
   "execution_count": 137,
   "metadata": {},
   "outputs": [],
   "source": [
    "print('Nelder-Mead')\n",
    "print('Converged:', sol.converged)\n",
    "print('Location of the minimum:', sol.position)\n",
    "print('Number of iterations:', sol.num_iterations)\n",
    "print('Objetive value:',sol.objective_value)"
   ]
  },
  {
   "cell_type": "code",
   "execution_count": 138,
   "metadata": {},
   "outputs": [],
   "source": [
    "st = 3\n",
    "ano= 15\n",
    "x1 = taus(st)\n",
    "pars(ano)\n",
    "matrix()\n",
    "get_W_i(ano)\n",
    "get_p_i(ano)\n",
    "cc=0\n",
    "\n",
    "#optim_results = tfp.optimizer.lbfgs_minimize(\n",
    "#      tflow,\n",
    "#      x1,\n",
    "#      num_correction_pairs=10,\n",
    "#      tolerance=1e-8)\n",
    "\n",
    "\n",
    "dtype= x1.dtype\n",
    "start = tf.constant(x1, dtype=dtype)\n",
    "\n",
    "\n",
    "def nelder_mead():\n",
    "  return tfp.optimizer.nelder_mead_minimize(\n",
    "  tflow,\n",
    "  initial_vertex=start,\n",
    "  parallel_iterations =10,\n",
    "  shrinkage=0.3,\n",
    "  func_tolerance=0)\n",
    "\n",
    "\n",
    "sol = run(nelder_mead)"
   ]
  },
  {
   "cell_type": "code",
   "execution_count": 139,
   "metadata": {},
   "outputs": [],
   "source": [
    "print('Nelder-Mead')\n",
    "print('Converged:', sol.converged)\n",
    "print('Location of the minimum:', sol.position)\n",
    "print('Number of iterations:', sol.num_iterations)\n",
    "print('Objetive value:',sol.objective_value)"
   ]
  },
  {
   "cell_type": "code",
   "execution_count": 140,
   "metadata": {},
   "outputs": [],
   "source": [
    "st = 3\n",
    "ano= 15\n",
    "x1 = taus(st)\n",
    "pars(ano)\n",
    "matrix()\n",
    "get_W_i(ano)\n",
    "get_p_i(ano)\n",
    "cc=0\n",
    "\n",
    "#optim_results = tfp.optimizer.lbfgs_minimize(\n",
    "#      tflow,\n",
    "#      x1,\n",
    "#      num_correction_pairs=10,\n",
    "#      tolerance=1e-8)\n",
    "\n",
    "\n",
    "dtype= x1.dtype\n",
    "start = tf.constant(x1, dtype=dtype)\n",
    "\n",
    "\n",
    "def nelder_mead():\n",
    "  return tfp.optimizer.nelder_mead_minimize(\n",
    "  tflow,\n",
    "  initial_vertex=start,\n",
    "  parallel_iterations =10,\n",
    "  shrinkage=0.7,\n",
    "  func_tolerance=0)\n",
    "\n",
    "\n",
    "sol = run(nelder_mead)"
   ]
  },
  {
   "cell_type": "code",
   "execution_count": 141,
   "metadata": {},
   "outputs": [],
   "source": [
    "print('Nelder-Mead')\n",
    "print('Converged:', sol.converged)\n",
    "print('Location of the minimum:', sol.position)\n",
    "print('Number of iterations:', sol.num_iterations)\n",
    "print('Objetive value:',sol.objective_value)"
   ]
  },
  {
   "cell_type": "code",
   "execution_count": 142,
   "metadata": {},
   "outputs": [],
   "source": [
    "sol = run(nelder_mead)\n",
    "print('Nelder-Mead')\n",
    "print('Converged:', sol.converged)\n",
    "print('Location of the minimum:', sol.position)\n",
    "print('Number of iterations:', sol.num_iterations)\n",
    "print('Objetive value:',sol.objective_value)"
   ]
  },
  {
   "cell_type": "code",
   "execution_count": 143,
   "metadata": {},
   "outputs": [],
   "source": [
    "st = 3\n",
    "ano= 15\n",
    "x1 = taus(st)\n",
    "pars(ano)\n",
    "matrix()\n",
    "get_W_i(ano)\n",
    "get_p_i(ano)\n",
    "cc=0\n",
    "\n",
    "#optim_results = tfp.optimizer.lbfgs_minimize(\n",
    "#      tflow,\n",
    "#      x1,\n",
    "#      num_correction_pairs=10,\n",
    "#      tolerance=1e-8)\n",
    "\n",
    "\n",
    "dtype= x1.dtype\n",
    "start = tf.constant(x1, dtype=dtype)\n",
    "\n",
    "\n",
    "def nelder_mead():\n",
    "  return tfp.optimizer.nelder_mead_minimize(\n",
    "  tflow,\n",
    "  initial_vertex=start,\n",
    "  parallel_iterations =10,\n",
    "  shrinkage=0.9,\n",
    "  func_tolerance=0)"
   ]
  },
  {
   "cell_type": "code",
   "execution_count": 144,
   "metadata": {},
   "outputs": [],
   "source": [
    "sol = run(nelder_mead)\n",
    "print('Nelder-Mead')\n",
    "print('Converged:', sol.converged)\n",
    "print('Location of the minimum:', sol.position)\n",
    "print('Number of iterations:', sol.num_iterations)\n",
    "print('Objetive value:',sol.objective_value)"
   ]
  },
  {
   "cell_type": "code",
   "execution_count": 145,
   "metadata": {},
   "outputs": [],
   "source": [
    "sol = run(nelder_mead)\n",
    "print('Nelder-Mead')\n",
    "print('Converged:', sol.converged)\n",
    "print('Location of the minimum:', sol.position)\n",
    "print('Number of iterations:', sol.num_iterations)\n",
    "print('Objetive value:',sol.objective_value)"
   ]
  },
  {
   "cell_type": "code",
   "execution_count": 146,
   "metadata": {},
   "outputs": [],
   "source": [
    "sol = run(quadratic_with_lbfgs)\n",
    "print('LBFGS')\n",
    "print('Converged:', sol.converged)\n",
    "print('Location of the minimum:', sol.position)\n",
    "print('Number of iterations:', sol.num_iterations)\n",
    "print('Objetive value:',sol.objective_value)"
   ]
  },
  {
   "cell_type": "code",
   "execution_count": 147,
   "metadata": {},
   "outputs": [],
   "source": [
    "sol = run(quadratic_with_lbfgs)\n",
    "print('LBFGS')\n",
    "print('Converged:', sol.converged)\n",
    "print('Location of the minimum:', sol.position)\n",
    "print('Number of iterations:', sol.num_iterations)\n",
    "print('Objetive value:',sol.objective_value)"
   ]
  },
  {
   "cell_type": "code",
   "execution_count": 148,
   "metadata": {},
   "outputs": [],
   "source": [
    "sol = run(quadratic_with_lbfgs)\n",
    "print('LBFGS')\n",
    "print('Converged:', sol.converged)\n",
    "print('Location of the minimum:', sol.position)\n",
    "print('Number of iterations:', sol.num_iterations)\n",
    "print('Objetive value:',sol.objective_value)"
   ]
  },
  {
   "cell_type": "code",
   "execution_count": 149,
   "metadata": {},
   "outputs": [],
   "source": [
    "sol.position"
   ]
  },
  {
   "cell_type": "code",
   "execution_count": 150,
   "metadata": {},
   "outputs": [],
   "source": [
    "st = 3\n",
    "ano= 15\n",
    "x1 = taus(st)\n",
    "pars(ano)\n",
    "matrix()\n",
    "get_W_i(ano)\n",
    "get_p_i(ano)\n",
    "cc=0\n",
    "\n",
    "#optim_results = tfp.optimizer.lbfgs_minimize(\n",
    "#      tflow,\n",
    "#      x1,\n",
    "#      num_correction_pairs=10,\n",
    "#      tolerance=1e-8)\n",
    "\n",
    "\n",
    "dtype= x1.dtype\n",
    "start = tf.constant(sol.position, dtype=dtype)\n",
    "\n",
    "\n",
    "def nelder_mead():\n",
    "  return tfp.optimizer.nelder_mead_minimize(\n",
    "  tflow,\n",
    "  initial_vertex=start,\n",
    "  parallel_iterations =10,\n",
    "  shrinkage=0.9,\n",
    "  func_tolerance=0)"
   ]
  },
  {
   "cell_type": "code",
   "execution_count": 151,
   "metadata": {},
   "outputs": [],
   "source": [
    "sol = run(nelder_mead)\n",
    "print('Nelder-Mead')\n",
    "print('Converged:', sol.converged)\n",
    "print('Location of the minimum:', sol.position)\n",
    "print('Number of iterations:', sol.num_iterations)\n",
    "print('Objetive value:',sol.objective_value)"
   ]
  },
  {
   "cell_type": "code",
   "execution_count": 152,
   "metadata": {},
   "outputs": [],
   "source": [
    "sol.position"
   ]
  },
  {
   "cell_type": "code",
   "execution_count": 153,
   "metadata": {},
   "outputs": [],
   "source": [
    "dtype"
   ]
  },
  {
   "cell_type": "code",
   "execution_count": 154,
   "metadata": {},
   "outputs": [],
   "source": [
    "st = 3\n",
    "ano= 15\n",
    "x1 = taus(st)\n",
    "pars(ano)\n",
    "matrix()\n",
    "get_W_i(ano)\n",
    "get_p_i(ano)\n",
    "cc=0\n",
    "\n",
    "#optim_results = tfp.optimizer.lbfgs_minimize(\n",
    "#      tflow,\n",
    "#      x1,\n",
    "#      num_correction_pairs=10,\n",
    "#      tolerance=1e-8)\n",
    "\n",
    "\n",
    "dtype= tf.float64\n",
    "start = tf.constant(sol.position, dtype=dtype)\n",
    "\n",
    "\n",
    "def nelder_mead():\n",
    "  return tfp.optimizer.nelder_mead_minimize(\n",
    "  tflow,\n",
    "  initial_vertex=start,\n",
    "  parallel_iterations =10,\n",
    "  shrinkage=0.9,\n",
    "  func_tolerance=0)"
   ]
  },
  {
   "cell_type": "code",
   "execution_count": 155,
   "metadata": {},
   "outputs": [],
   "source": [
    "st = 3\n",
    "ano= 15\n",
    "x1 = taus(st)\n",
    "pars(ano)\n",
    "matrix()\n",
    "get_W_i(ano)\n",
    "get_p_i(ano)\n",
    "cc=0\n",
    "\n",
    "#optim_results = tfp.optimizer.lbfgs_minimize(\n",
    "#      tflow,\n",
    "#      x1,\n",
    "#      num_correction_pairs=10,\n",
    "#      tolerance=1e-8)\n",
    "\n",
    "\n",
    "dtype= tf.float64\n",
    "start = tf.constant(np.array([-9, 0.56, 6.3]), dtype=dtype)\n",
    "\n",
    "\n",
    "def nelder_mead():\n",
    "  return tfp.optimizer.nelder_mead_minimize(\n",
    "  tflow,\n",
    "  initial_vertex=start,\n",
    "  parallel_iterations =10,\n",
    "  shrinkage=0.9,\n",
    "  func_tolerance=0)"
   ]
  },
  {
   "cell_type": "code",
   "execution_count": 156,
   "metadata": {},
   "outputs": [],
   "source": [
    "sol = run(nelder_mead)\n",
    "print('Nelder-Mead')\n",
    "print('Converged:', sol.converged)\n",
    "print('Location of the minimum:', sol.position)\n",
    "print('Number of iterations:', sol.num_iterations)\n",
    "print('Objetive value:',sol.objective_value)"
   ]
  },
  {
   "cell_type": "code",
   "execution_count": 157,
   "metadata": {},
   "outputs": [],
   "source": [
    "st = 3\n",
    "ano= 15\n",
    "x1 = taus(st)\n",
    "pars(ano)\n",
    "matrix()\n",
    "get_W_i(ano)\n",
    "get_p_i(ano)\n",
    "cc=0\n",
    "\n",
    "#optim_results = tfp.optimizer.lbfgs_minimize(\n",
    "#      tflow,\n",
    "#      x1,\n",
    "#      num_correction_pairs=10,\n",
    "#      tolerance=1e-8)\n",
    "\n",
    "\n",
    "dtype= tf.float64\n",
    "start = tf.constant(np.array([-9, 0.56, 8.3]), dtype=dtype)\n",
    "\n",
    "\n",
    "def nelder_mead():\n",
    "  return tfp.optimizer.nelder_mead_minimize(\n",
    "  tflow,\n",
    "  initial_vertex=start,\n",
    "  parallel_iterations =10,\n",
    "  shrinkage=0.9,\n",
    "  func_tolerance=0)"
   ]
  },
  {
   "cell_type": "code",
   "execution_count": 158,
   "metadata": {},
   "outputs": [],
   "source": [
    "sol = run(nelder_mead)\n",
    "print('Nelder-Mead')\n",
    "print('Converged:', sol.converged)\n",
    "print('Location of the minimum:', sol.position)\n",
    "print('Number of iterations:', sol.num_iterations)\n",
    "print('Objetive value:',sol.objective_value)"
   ]
  },
  {
   "cell_type": "code",
   "execution_count": 159,
   "metadata": {},
   "outputs": [],
   "source": [
    "st = 3\n",
    "ano= 15\n",
    "x1 = taus(st)\n",
    "pars(ano)\n",
    "matrix()\n",
    "get_W_i(ano)\n",
    "get_p_i(ano)\n",
    "cc=0\n",
    "\n",
    "#optim_results = tfp.optimizer.lbfgs_minimize(\n",
    "#      tflow,\n",
    "#      x1,\n",
    "#      num_correction_pairs=10,\n",
    "#      tolerance=1e-8)\n",
    "\n",
    "\n",
    "dtype= tf.float64\n",
    "start = tf.constant(np.array([-9, 0.56, 8.3]), dtype=dtype)\n",
    "\n",
    "\n",
    "def nelder_mead():\n",
    "  return tfp.optimizer.nelder_mead_minimize(\n",
    "  tflow,\n",
    "  initial_vertex=start,\n",
    "  parallel_iterations =100,\n",
    "  shrinkage=0.9,\n",
    "  func_tolerance=0)"
   ]
  },
  {
   "cell_type": "code",
   "execution_count": 160,
   "metadata": {},
   "outputs": [],
   "source": [
    "sol = run(nelder_mead)\n",
    "print('Nelder-Mead')\n",
    "print('Converged:', sol.converged)\n",
    "print('Location of the minimum:', sol.position)\n",
    "print('Number of iterations:', sol.num_iterations)\n",
    "print('Objetive value:',sol.objective_value)"
   ]
  },
  {
   "cell_type": "code",
   "execution_count": 161,
   "metadata": {},
   "outputs": [],
   "source": [
    "st = 3\n",
    "ano= 15\n",
    "x1 = taus(st)\n",
    "pars(ano)\n",
    "matrix()\n",
    "get_W_i(ano)\n",
    "get_p_i(ano)\n",
    "cc=0\n",
    "\n",
    "#optim_results = tfp.optimizer.lbfgs_minimize(\n",
    "#      tflow,\n",
    "#      x1,\n",
    "#      num_correction_pairs=10,\n",
    "#      tolerance=1e-8)\n",
    "\n",
    "\n",
    "dtype= tf.float64\n",
    "start = tf.constant(np.array([-9, 0.56, 8.3]), dtype=dtype)\n",
    "\n",
    "\n",
    "def nelder_mead():\n",
    "  return tfp.optimizer.nelder_mead_minimize(\n",
    "  tflow,\n",
    "  initial_vertex=start,\n",
    "  parallel_iterations =100,\n",
    "  shrinkage=0.9,\n",
    "  func_tolerance=0,\n",
    "  position_tolerance=0)"
   ]
  },
  {
   "cell_type": "code",
   "execution_count": 162,
   "metadata": {},
   "outputs": [],
   "source": [
    "sol = run(nelder_mead)\n",
    "print('Nelder-Mead')\n",
    "print('Converged:', sol.converged)\n",
    "print('Location of the minimum:', sol.position)\n",
    "print('Number of iterations:', sol.num_iterations)\n",
    "print('Objetive value:',sol.objective_value)"
   ]
  },
  {
   "cell_type": "code",
   "execution_count": 163,
   "metadata": {},
   "outputs": [],
   "source": [
    "st = 3\n",
    "ano= 15\n",
    "x1 = taus(st)\n",
    "pars(ano)\n",
    "matrix()\n",
    "get_W_i(ano)\n",
    "get_p_i(ano)\n",
    "cc=0\n",
    "\n",
    "#optim_results = tfp.optimizer.lbfgs_minimize(\n",
    "#      tflow,\n",
    "#      x1,\n",
    "#      num_correction_pairs=10,\n",
    "#      tolerance=1e-8)\n",
    "\n",
    "\n",
    "dtype= tf.float64\n",
    "start = tf.constant(np.array([-9, 0.56, 8.3]), dtype=dtype)\n",
    "\n",
    "\n",
    "def nelder_mead():\n",
    "  return tfp.optimizer.nelder_mead_minimize(\n",
    "  tflow,\n",
    "  initial_vertex=start,\n",
    "  parallel_iterations =100,\n",
    "  shrinkage=0.9,\n",
    "  func_tolerance=0,\n",
    "  position_tolerance=1e-20)"
   ]
  },
  {
   "cell_type": "code",
   "execution_count": 164,
   "metadata": {},
   "outputs": [],
   "source": [
    "sol = run(nelder_mead)\n",
    "print('Nelder-Mead')\n",
    "print('Converged:', sol.converged)\n",
    "print('Location of the minimum:', sol.position)\n",
    "print('Number of iterations:', sol.num_iterations)\n",
    "print('Objetive value:',sol.objective_value)"
   ]
  },
  {
   "cell_type": "code",
   "execution_count": 165,
   "metadata": {},
   "outputs": [],
   "source": [
    "st = 3\n",
    "ano= 15\n",
    "x1 = taus(st)\n",
    "pars(ano)\n",
    "matrix()\n",
    "get_W_i(ano)\n",
    "get_p_i(ano)\n",
    "cc=0\n",
    "\n",
    "#optim_results = tfp.optimizer.lbfgs_minimize(\n",
    "#      tflow,\n",
    "#      x1,\n",
    "#      num_correction_pairs=10,\n",
    "#      tolerance=1e-8)\n",
    "\n",
    "\n",
    "dtype= tf.float64\n",
    "start = tf.constant(np.array([-9, 0.56, 8.3]), dtype=dtype)\n",
    "\n",
    "\n",
    "def nelder_mead():\n",
    "  return tfp.optimizer.nelder_mead_minimize(\n",
    "  tflow,\n",
    "  initial_vertex=start,\n",
    "  parallel_iterations =100,\n",
    "  shrinkage=0.9,\n",
    "  func_tolerance=0,\n",
    "  position_tolerance=1e-10)"
   ]
  },
  {
   "cell_type": "code",
   "execution_count": 166,
   "metadata": {},
   "outputs": [],
   "source": [
    "sol = run(nelder_mead)\n",
    "print('Nelder-Mead')\n",
    "print('Converged:', sol.converged)\n",
    "print('Location of the minimum:', sol.position)\n",
    "print('Number of iterations:', sol.num_iterations)\n",
    "print('Objetive value:',sol.objective_value)"
   ]
  },
  {
   "cell_type": "code",
   "execution_count": 167,
   "metadata": {},
   "outputs": [],
   "source": [
    "st = 3\n",
    "ano= 15\n",
    "x1 = taus(st)\n",
    "pars(ano)\n",
    "matrix()\n",
    "get_W_i(ano)\n",
    "get_p_i(ano)\n",
    "cc=0\n",
    "\n",
    "#optim_results = tfp.optimizer.lbfgs_minimize(\n",
    "#      tflow,\n",
    "#      x1,\n",
    "#      num_correction_pairs=10,\n",
    "#      tolerance=1e-8)\n",
    "\n",
    "\n",
    "dtype= tf.float64\n",
    "start = tf.constant(np.array([-9, 0.56, 8.3]), dtype=dtype)\n",
    "\n",
    "\n",
    "def nelder_mead():\n",
    "  return tfp.optimizer.nelder_mead_minimize(\n",
    "  tflow,\n",
    "  initial_vertex=start,\n",
    "  parallel_iterations =100,\n",
    "  shrinkage=0.9,\n",
    "  func_tolerance=0,\n",
    "  position_tolerance=1e-12)"
   ]
  },
  {
   "cell_type": "code",
   "execution_count": 168,
   "metadata": {},
   "outputs": [],
   "source": [
    "sol = run(nelder_mead)\n",
    "print('Nelder-Mead')\n",
    "print('Converged:', sol.converged)\n",
    "print('Location of the minimum:', sol.position)\n",
    "print('Number of iterations:', sol.num_iterations)\n",
    "print('Objetive value:',sol.objective_value)"
   ]
  },
  {
   "cell_type": "code",
   "execution_count": 169,
   "metadata": {},
   "outputs": [],
   "source": [
    "st = 3\n",
    "ano= 15\n",
    "x1 = taus(st)\n",
    "pars(ano)\n",
    "matrix()\n",
    "get_W_i(ano)\n",
    "get_p_i(ano)\n",
    "cc=0\n",
    "\n",
    "#optim_results = tfp.optimizer.lbfgs_minimize(\n",
    "#      tflow,\n",
    "#      x1,\n",
    "#      num_correction_pairs=10,\n",
    "#      tolerance=1e-8)\n",
    "\n",
    "\n",
    "dtype= tf.float64\n",
    "start = tf.constant(np.array([-9, 0.56, 8.3]), dtype=dtype)\n",
    "\n",
    "\n",
    "def nelder_mead():\n",
    "  return tfp.optimizer.nelder_mead_minimize(\n",
    "  tflow,\n",
    "  initial_vertex=start,\n",
    "  parallel_iterations =100,\n",
    "  shrinkage=0.9,\n",
    "  func_tolerance=0,\n",
    "  position_tolerance=1e-13)"
   ]
  },
  {
   "cell_type": "code",
   "execution_count": 170,
   "metadata": {},
   "outputs": [],
   "source": [
    "sol = run(nelder_mead)\n",
    "print('Nelder-Mead')\n",
    "print('Converged:', sol.converged)\n",
    "print('Location of the minimum:', sol.position)\n",
    "print('Number of iterations:', sol.num_iterations)\n",
    "print('Objetive value:',sol.objective_value)"
   ]
  },
  {
   "cell_type": "code",
   "execution_count": 171,
   "metadata": {},
   "outputs": [],
   "source": [
    "st = 3\n",
    "ano= 15\n",
    "x1 = taus(st)\n",
    "pars(ano)\n",
    "matrix()\n",
    "get_W_i(ano)\n",
    "get_p_i(ano)\n",
    "cc=0\n",
    "\n",
    "#optim_results = tfp.optimizer.lbfgs_minimize(\n",
    "#      tflow,\n",
    "#      x1,\n",
    "#      num_correction_pairs=10,\n",
    "#      tolerance=1e-8)\n",
    "\n",
    "\n",
    "dtype= tf.float64\n",
    "start = tf.constant(np.array([-5, 0.56, 2.3]), dtype=dtype)\n",
    "\n",
    "\n",
    "def nelder_mead():\n",
    "  return tfp.optimizer.nelder_mead_minimize(\n",
    "  tflow,\n",
    "  initial_vertex=start,\n",
    "  parallel_iterations =100,\n",
    "  shrinkage=0.9,\n",
    "  func_tolerance=0,\n",
    "  position_tolerance=1e-13)"
   ]
  },
  {
   "cell_type": "code",
   "execution_count": 172,
   "metadata": {},
   "outputs": [],
   "source": [
    "sol = run(nelder_mead)\n",
    "print('Nelder-Mead')\n",
    "print('Converged:', sol.converged)\n",
    "print('Location of the minimum:', sol.position)\n",
    "print('Number of iterations:', sol.num_iterations)\n",
    "print('Objetive value:',sol.objective_value)"
   ]
  },
  {
   "cell_type": "code",
   "execution_count": 173,
   "metadata": {},
   "outputs": [],
   "source": [
    "sol = run(nelder_mead)\n",
    "print('Nelder-Mead')\n",
    "print('Converged:', sol.converged)\n",
    "print('Location of the minimum:', sol.position)\n",
    "print('Number of iterations:', sol.num_iterations)\n",
    "print('Objetive value:',sol.objective_value)"
   ]
  },
  {
   "cell_type": "code",
   "execution_count": 174,
   "metadata": {},
   "outputs": [],
   "source": [
    "st = 3\n",
    "ano= 15\n",
    "x1 = taus(st)\n",
    "pars(ano)\n",
    "matrix()\n",
    "get_W_i(ano)\n",
    "get_p_i(ano)\n",
    "cc=0\n",
    "\n",
    "#optim_results = tfp.optimizer.lbfgs_minimize(\n",
    "#      tflow,\n",
    "#      x1,\n",
    "#      num_correction_pairs=10,\n",
    "#      tolerance=1e-8)\n",
    "\n",
    "\n",
    "dtype= tf.float64\n",
    "start = tf.constant(np.array([-5, 0.56, 8.3]), dtype=dtype)\n",
    "\n",
    "\n",
    "def nelder_mead():\n",
    "  return tfp.optimizer.nelder_mead_minimize(\n",
    "  tflow,\n",
    "  initial_vertex=start,\n",
    "  parallel_iterations =100,\n",
    "  shrinkage=0.9,\n",
    "  func_tolerance=0,\n",
    "  position_tolerance=1e-13)"
   ]
  },
  {
   "cell_type": "code",
   "execution_count": 175,
   "metadata": {},
   "outputs": [],
   "source": [
    "sol = run(nelder_mead)\n",
    "print('Nelder-Mead')\n",
    "print('Converged:', sol.converged)\n",
    "print('Location of the minimum:', sol.position)\n",
    "print('Number of iterations:', sol.num_iterations)\n",
    "print('Objetive value:',sol.objective_value)"
   ]
  },
  {
   "cell_type": "code",
   "execution_count": 176,
   "metadata": {},
   "outputs": [],
   "source": [
    "st = 3\n",
    "ano= 15\n",
    "x1 = taus(st)\n",
    "pars(ano)\n",
    "matrix()\n",
    "get_W_i(ano)\n",
    "get_p_i(ano)\n",
    "cc=0\n",
    "\n",
    "#optim_results = tfp.optimizer.lbfgs_minimize(\n",
    "#      tflow,\n",
    "#      x1,\n",
    "#      num_correction_pairs=10,\n",
    "#      tolerance=1e-8)\n",
    "\n",
    "\n",
    "dtype= tf.float64\n",
    "start = tf.constant(np.array([-5, 0.56, 8.3]), dtype=dtype)\n",
    "\n",
    "\n",
    "def nelder_mead():\n",
    "  return tfp.optimizer.nelder_mead_minimize(\n",
    "  tflow,\n",
    "  initial_vertex=start,\n",
    "  parallel_iterations =100,\n",
    "  shrinkage=0.9,\n",
    "  func_tolerance=0,\n",
    "  position_tolerance=1e-14)"
   ]
  },
  {
   "cell_type": "code",
   "execution_count": 177,
   "metadata": {},
   "outputs": [],
   "source": [
    "sol = run(nelder_mead)\n",
    "print('Nelder-Mead')\n",
    "print('Converged:', sol.converged)\n",
    "print('Location of the minimum:', sol.position)\n",
    "print('Number of iterations:', sol.num_iterations)\n",
    "print('Objetive value:',sol.objective_value)"
   ]
  },
  {
   "cell_type": "code",
   "execution_count": 178,
   "metadata": {},
   "outputs": [],
   "source": [
    "st = 3\n",
    "ano= 15\n",
    "x1 = taus(st)\n",
    "pars(ano)\n",
    "matrix()\n",
    "get_W_i(ano)\n",
    "get_p_i(ano)\n",
    "cc=0\n",
    "\n",
    "#optim_results = tfp.optimizer.lbfgs_minimize(\n",
    "#      tflow,\n",
    "#      x1,\n",
    "#      num_correction_pairs=10,\n",
    "#      tolerance=1e-8)\n",
    "\n",
    "\n",
    "dtype= tf.float64\n",
    "start = tf.constant(np.array([-5, 0.56, 8.3]), dtype=dtype)\n",
    "\n",
    "\n",
    "def nelder_mead():\n",
    "  return tfp.optimizer.nelder_mead_minimize(\n",
    "  tflow,\n",
    "  initial_vertex=start,\n",
    "  parallel_iterations =100,\n",
    "  shrinkage=0.9,\n",
    "  func_tolerance=0,\n",
    "  position_tolerance=1e-14)"
   ]
  },
  {
   "cell_type": "code",
   "execution_count": 179,
   "metadata": {},
   "outputs": [],
   "source": [
    "sol = run(nelder_mead)\n",
    "print('Nelder-Mead')\n",
    "print('Converged:', sol.converged)\n",
    "print('Location of the minimum:', sol.position)\n",
    "print('Number of iterations:', sol.num_iterations)\n",
    "print('Objetive value:',sol.objective_value)\n",
    "\n",
    "# -9.37196472 -8.44134184 10.66419531"
   ]
  },
  {
   "cell_type": "code",
   "execution_count": 180,
   "metadata": {},
   "outputs": [],
   "source": [
    "st = 3\n",
    "ano= 15\n",
    "x1 = taus(st)\n",
    "pars(ano)\n",
    "matrix()\n",
    "get_W_i(ano)\n",
    "get_p_i(ano)\n",
    "cc=0\n",
    "\n",
    "#optim_results = tfp.optimizer.lbfgs_minimize(\n",
    "#      tflow,\n",
    "#      x1,\n",
    "#      num_correction_pairs=10,\n",
    "#      tolerance=1e-8)\n",
    "\n",
    "\n",
    "dtype= tf.float64\n",
    "start = tf.constant(np.array([-2, 0.56, 1.3]), dtype=dtype)\n",
    "\n",
    "\n",
    "def nelder_mead():\n",
    "  return tfp.optimizer.nelder_mead_minimize(\n",
    "  tflow,\n",
    "  initial_vertex=start,\n",
    "  parallel_iterations =100,\n",
    "  shrinkage=0.9,\n",
    "  func_tolerance=0,\n",
    "  position_tolerance=1e-14)"
   ]
  },
  {
   "cell_type": "code",
   "execution_count": 181,
   "metadata": {},
   "outputs": [],
   "source": [
    "sol = run(nelder_mead)\n",
    "print('Nelder-Mead')\n",
    "print('Converged:', sol.converged)\n",
    "print('Location of the minimum:', sol.position)\n",
    "print('Number of iterations:', sol.num_iterations)\n",
    "print('Objetive value:',sol.objective_value)\n",
    "\n",
    "# -9.37196472 -8.44134184 10.66419531"
   ]
  },
  {
   "cell_type": "code",
   "execution_count": 182,
   "metadata": {},
   "outputs": [],
   "source": [
    "st = 3\n",
    "ano= 15\n",
    "x1 = taus(st)\n",
    "pars(ano)\n",
    "matrix()\n",
    "get_W_i(ano)\n",
    "get_p_i(ano)\n",
    "cc=0\n",
    "\n",
    "#optim_results = tfp.optimizer.lbfgs_minimize(\n",
    "#      tflow,\n",
    "#      x1,\n",
    "#      num_correction_pairs=10,\n",
    "#      tolerance=1e-8)\n",
    "\n",
    "\n",
    "dtype= tf.float64\n",
    "start = tf.constant(np.array([-200, 0.56, 11.3]), dtype=dtype)\n",
    "\n",
    "\n",
    "def nelder_mead():\n",
    "  return tfp.optimizer.nelder_mead_minimize(\n",
    "  tflow,\n",
    "  initial_vertex=start,\n",
    "  parallel_iterations =100,\n",
    "  shrinkage=0.9,\n",
    "  func_tolerance=0,\n",
    "  position_tolerance=1e-14)"
   ]
  },
  {
   "cell_type": "code",
   "execution_count": 183,
   "metadata": {},
   "outputs": [],
   "source": [
    "sol = run(nelder_mead)\n",
    "print('Nelder-Mead')\n",
    "print('Converged:', sol.converged)\n",
    "print('Location of the minimum:', sol.position)\n",
    "print('Number of iterations:', sol.num_iterations)\n",
    "print('Objetive value:',sol.objective_value)\n",
    "\n",
    "# -9.37196472 -8.44134184 10.66419531"
   ]
  },
  {
   "cell_type": "code",
   "execution_count": 184,
   "metadata": {},
   "outputs": [],
   "source": [
    "st = 3\n",
    "ano= 15\n",
    "x1 = taus(st)\n",
    "pars(ano)\n",
    "matrix()\n",
    "get_W_i(ano)\n",
    "get_p_i(ano)\n",
    "cc=0\n",
    "\n",
    "#optim_results = tfp.optimizer.lbfgs_minimize(\n",
    "#      tflow,\n",
    "#      x1,\n",
    "#      num_correction_pairs=10,\n",
    "#      tolerance=1e-8)\n",
    "\n",
    "\n",
    "dtype= tf.float64\n",
    "start = tf.constant(np.array([-200, 100.56, 11.3]), dtype=dtype)\n",
    "\n",
    "\n",
    "def nelder_mead():\n",
    "  return tfp.optimizer.nelder_mead_minimize(\n",
    "  tflow,\n",
    "  initial_vertex=start,\n",
    "  parallel_iterations =100,\n",
    "  shrinkage=0.9,\n",
    "  func_tolerance=0,\n",
    "  position_tolerance=1e-14)"
   ]
  },
  {
   "cell_type": "code",
   "execution_count": 185,
   "metadata": {},
   "outputs": [],
   "source": [
    "sol = run(nelder_mead)\n",
    "print('Nelder-Mead')\n",
    "print('Converged:', sol.converged)\n",
    "print('Location of the minimum:', sol.position)\n",
    "print('Number of iterations:', sol.num_iterations)\n",
    "print('Objetive value:',sol.objective_value)\n",
    "\n",
    "# -9.37196472 -8.44134184 10.66419531"
   ]
  },
  {
   "cell_type": "code",
   "execution_count": 186,
   "metadata": {},
   "outputs": [],
   "source": [
    "st = 3\n",
    "ano= 15\n",
    "x1 = taus(st)\n",
    "pars(ano)\n",
    "matrix()\n",
    "get_W_i(ano)\n",
    "get_p_i(ano)\n",
    "cc=0\n",
    "\n",
    "#optim_results = tfp.optimizer.lbfgs_minimize(\n",
    "#      tflow,\n",
    "#      x1,\n",
    "#      num_correction_pairs=10,\n",
    "#      tolerance=1e-8)\n",
    "\n",
    "\n",
    "dtype= tf.float64\n",
    "start = tf.constant(np.array([-200, 100.56, 11.3]), dtype=dtype)\n",
    "\n",
    "\n",
    "def nelder_mead():\n",
    "  return tfp.optimizer.nelder_mead_minimize(\n",
    "  tflow,\n",
    "  initial_vertex=start,\n",
    "  parallel_iterations =100,\n",
    "  shrinkage=0.9,\n",
    "  func_tolerance=0,\n",
    "  position_tolerance=1e-14)"
   ]
  },
  {
   "cell_type": "code",
   "execution_count": 187,
   "metadata": {},
   "outputs": [],
   "source": [
    "sol = run(nelder_mead)\n",
    "print('Nelder-Mead')\n",
    "print('Converged:', sol.converged)\n",
    "print('Location of the minimum:', sol.position)\n",
    "print('Number of iterations:', sol.num_iterations)\n",
    "print('Objetive value:',sol.objective_value)\n",
    "\n",
    "# -9.37196472 -8.44134184 10.66419531"
   ]
  },
  {
   "cell_type": "code",
   "execution_count": 188,
   "metadata": {},
   "outputs": [],
   "source": [
    "st = 3\n",
    "ano= 15\n",
    "x1 = taus(st)\n",
    "pars(ano)\n",
    "matrix()\n",
    "get_W_i(ano)\n",
    "get_p_i(ano)\n",
    "cc=0\n",
    "\n",
    "#optim_results = tfp.optimizer.lbfgs_minimize(\n",
    "#      tflow,\n",
    "#      x1,\n",
    "#      num_correction_pairs=10,\n",
    "#      tolerance=1e-8)\n",
    "\n",
    "\n",
    "dtype= tf.float64\n",
    "start = tf.constant(np.array([-200, 0.56, 11.3]), dtype=dtype)\n",
    "\n",
    "\n",
    "def nelder_mead():\n",
    "  return tfp.optimizer.nelder_mead_minimize(\n",
    "  tflow,\n",
    "  initial_vertex=start,\n",
    "  parallel_iterations =100,\n",
    "  shrinkage=0.9,\n",
    "  func_tolerance=0,\n",
    "  position_tolerance=1e-14)"
   ]
  },
  {
   "cell_type": "code",
   "execution_count": 189,
   "metadata": {},
   "outputs": [],
   "source": [
    "sol = run(nelder_mead)\n",
    "print('Nelder-Mead')\n",
    "print('Converged:', sol.converged)\n",
    "print('Location of the minimum:', sol.position)\n",
    "print('Number of iterations:', sol.num_iterations)\n",
    "print('Objetive value:',sol.objective_value)\n",
    "\n",
    "# -9.37196472 -8.44134184 10.66419531"
   ]
  },
  {
   "cell_type": "code",
   "execution_count": 190,
   "metadata": {},
   "outputs": [],
   "source": [
    "st = 3\n",
    "ano= 15\n",
    "x1 = taus(st)\n",
    "pars(ano)\n",
    "matrix()\n",
    "get_W_i(ano)\n",
    "get_p_i(ano)\n",
    "cc=0\n",
    "\n",
    "#optim_results = tfp.optimizer.lbfgs_minimize(\n",
    "#      tflow,\n",
    "#      x1,\n",
    "#      num_correction_pairs=10,\n",
    "#      tolerance=1e-8)\n",
    "\n",
    "\n",
    "dtype= tf.float64\n",
    "start = tf.constant(np.array([200, 0.56, 11.3]), dtype=dtype)\n",
    "\n",
    "\n",
    "def nelder_mead():\n",
    "  return tfp.optimizer.nelder_mead_minimize(\n",
    "  tflow,\n",
    "  initial_vertex=start,\n",
    "  parallel_iterations =100,\n",
    "  shrinkage=0.9,\n",
    "  func_tolerance=0,\n",
    "  position_tolerance=1e-14)"
   ]
  },
  {
   "cell_type": "code",
   "execution_count": 191,
   "metadata": {},
   "outputs": [],
   "source": [
    "sol = run(nelder_mead)\n",
    "print('Nelder-Mead')\n",
    "print('Converged:', sol.converged)\n",
    "print('Location of the minimum:', sol.position)\n",
    "print('Number of iterations:', sol.num_iterations)\n",
    "print('Objetive value:',sol.objective_value)\n",
    "\n",
    "# -9.37196472 -8.44134184 10.66419531"
   ]
  },
  {
   "cell_type": "code",
   "execution_count": 192,
   "metadata": {},
   "outputs": [],
   "source": [
    "sol = run(nelder_mead)\n",
    "print('Nelder-Mead')\n",
    "print('Converged:', sol.converged)\n",
    "print('Location of the minimum:', sol.position)\n",
    "print('Number of iterations:', sol.num_iterations)\n",
    "print('Objetive value:',sol.objective_value)\n",
    "\n",
    "# -9.37196472 -8.44134184 10.66419531"
   ]
  },
  {
   "cell_type": "code",
   "execution_count": 193,
   "metadata": {},
   "outputs": [],
   "source": [
    "st = 3\n",
    "ano= 15\n",
    "x1 = taus(st)\n",
    "pars(ano)\n",
    "matrix()\n",
    "get_W_i(ano)\n",
    "get_p_i(ano)\n",
    "cc=0\n",
    "\n",
    "#optim_results = tfp.optimizer.lbfgs_minimize(\n",
    "#      tflow,\n",
    "#      x1,\n",
    "#      num_correction_pairs=10,\n",
    "#      tolerance=1e-8)\n",
    "\n",
    "\n",
    "dtype= tf.float64\n",
    "start = tf.constant(np.array([200, 0.56, 11.3]), dtype=dtype)\n",
    "\n",
    "\n",
    "def nelder_mead():\n",
    "  return tfp.optimizer.nelder_mead_minimize(\n",
    "  tflow,\n",
    "  initial_vertex=start,\n",
    "  parallel_iterations =100,\n",
    "  shrinkage=0.9,\n",
    "  func_tolerance=0,\n",
    "  position_tolerance=1e-14)"
   ]
  },
  {
   "cell_type": "code",
   "execution_count": 194,
   "metadata": {},
   "outputs": [],
   "source": [
    "sol = run(nelder_mead)\n",
    "print('Nelder-Mead')\n",
    "print('Converged:', sol.converged)\n",
    "print('Location of the minimum:', sol.position)\n",
    "print('Number of iterations:', sol.num_iterations)\n",
    "print('Objetive value:',sol.objective_value)\n",
    "\n",
    "# -9.37196472 -8.44134184 10.66419531"
   ]
  },
  {
   "cell_type": "code",
   "execution_count": 195,
   "metadata": {},
   "outputs": [],
   "source": [
    "st = 3\n",
    "ano= 15\n",
    "x1 = taus(st)\n",
    "pars(ano)\n",
    "matrix()\n",
    "get_W_i(ano)\n",
    "get_p_i(ano)\n",
    "cc=0\n",
    "\n",
    "#optim_results = tfp.optimizer.lbfgs_minimize(\n",
    "#      tflow,\n",
    "#      x1,\n",
    "#      num_correction_pairs=10,\n",
    "#      tolerance=1e-8)\n",
    "\n",
    "\n",
    "dtype= tf.float64\n",
    "start = tf.constant(np.array([-200, 0.56, 11.3]), dtype=dtype)\n",
    "\n",
    "\n",
    "def nelder_mead():\n",
    "  return tfp.optimizer.nelder_mead_minimize(\n",
    "  tflow,\n",
    "  initial_vertex=start,\n",
    "  parallel_iterations =100,\n",
    "  shrinkage=0.9,\n",
    "  func_tolerance=0,\n",
    "  position_tolerance=1e-14)"
   ]
  },
  {
   "cell_type": "code",
   "execution_count": 196,
   "metadata": {},
   "outputs": [],
   "source": [
    "sol = run(nelder_mead)\n",
    "print('Nelder-Mead')\n",
    "print('Converged:', sol.converged)\n",
    "print('Location of the minimum:', sol.position)\n",
    "print('Number of iterations:', sol.num_iterations)\n",
    "print('Objetive value:',sol.objective_value)\n",
    "\n",
    "# -9.37196472 -8.44134184 10.66419531"
   ]
  },
  {
   "cell_type": "code",
   "execution_count": 197,
   "metadata": {},
   "outputs": [],
   "source": [
    "st = 3\n",
    "ano= 15\n",
    "x1 = taus(st)\n",
    "pars(ano)\n",
    "matrix()\n",
    "get_W_i(ano)\n",
    "get_p_i(ano)\n",
    "cc=0\n",
    "\n",
    "#optim_results = tfp.optimizer.lbfgs_minimize(\n",
    "#      tflow,\n",
    "#      x1,\n",
    "#      num_correction_pairs=10,\n",
    "#      tolerance=1e-8)\n",
    "\n",
    "\n",
    "dtype= tf.float64\n",
    "start = tf.constant(np.array([-200, 0.56, 200.3]), dtype=dtype)\n",
    "\n",
    "\n",
    "def nelder_mead():\n",
    "  return tfp.optimizer.nelder_mead_minimize(\n",
    "  tflow,\n",
    "  initial_vertex=start,\n",
    "  parallel_iterations =100,\n",
    "  shrinkage=0.9,\n",
    "  func_tolerance=0,\n",
    "  position_tolerance=1e-14)"
   ]
  },
  {
   "cell_type": "code",
   "execution_count": 198,
   "metadata": {},
   "outputs": [],
   "source": [
    "sol = run(nelder_mead)\n",
    "print('Nelder-Mead')\n",
    "print('Converged:', sol.converged)\n",
    "print('Location of the minimum:', sol.position)\n",
    "print('Number of iterations:', sol.num_iterations)\n",
    "print('Objetive value:',sol.objective_value)\n",
    "\n",
    "# -9.37196472 -8.44134184 10.66419531"
   ]
  },
  {
   "cell_type": "code",
   "execution_count": 199,
   "metadata": {},
   "outputs": [],
   "source": [
    "sol = run(nelder_mead)\n",
    "print('Nelder-Mead')\n",
    "print('Converged:', sol.converged)\n",
    "print('Location of the minimum:', sol.position)\n",
    "print('Number of iterations:', sol.num_iterations)\n",
    "print('Objetive value:',sol.objective_value)\n",
    "\n",
    "# -9.37196472 -8.44134184 10.66419531"
   ]
  },
  {
   "cell_type": "code",
   "execution_count": 200,
   "metadata": {},
   "outputs": [],
   "source": [
    "st = 3\n",
    "ano= 15\n",
    "x1 = taus(st)\n",
    "pars(ano)\n",
    "matrix()\n",
    "get_W_i(ano)\n",
    "get_p_i(ano)\n",
    "cc=0\n",
    "\n",
    "#optim_results = tfp.optimizer.lbfgs_minimize(\n",
    "#      tflow,\n",
    "#      x1,\n",
    "#      num_correction_pairs=10,\n",
    "#      tolerance=1e-8)\n",
    "\n",
    "\n",
    "dtype= tf.float64\n",
    "start = tf.constant(np.array([-200, 0.56, 200.3]), dtype=dtype)\n",
    "\n",
    "\n",
    "def nelder_mead():\n",
    "  return tfp.optimizer.nelder_mead_minimize(\n",
    "  tflow,\n",
    "  initial_vertex=start,\n",
    "  parallel_iterations =100,\n",
    "  shrinkage=0.9,\n",
    "  func_tolerance=0,\n",
    "  position_tolerance=1e-15)"
   ]
  },
  {
   "cell_type": "code",
   "execution_count": 201,
   "metadata": {},
   "outputs": [],
   "source": [
    "st = 3\n",
    "ano= 15\n",
    "x1 = taus(st)\n",
    "pars(ano)\n",
    "matrix()\n",
    "get_W_i(ano)\n",
    "get_p_i(ano)\n",
    "cc=0\n",
    "\n",
    "#optim_results = tfp.optimizer.lbfgs_minimize(\n",
    "#      tflow,\n",
    "#      x1,\n",
    "#      num_correction_pairs=10,\n",
    "#      tolerance=1e-8)\n",
    "\n",
    "\n",
    "dtype= tf.float64\n",
    "start = tf.constant(np.array([-200, 0.56, 200.3]), dtype=dtype)\n",
    "\n",
    "\n",
    "def nelder_mead():\n",
    "  return tfp.optimizer.nelder_mead_minimize(\n",
    "  tflow,\n",
    "  initial_vertex=start,\n",
    "  parallel_iterations =100,\n",
    "  shrinkage=0.9,\n",
    "  func_tolerance=0,\n",
    "  position_tolerance=1e-15)"
   ]
  },
  {
   "cell_type": "code",
   "execution_count": 202,
   "metadata": {},
   "outputs": [],
   "source": [
    "sol = run(nelder_mead)\n",
    "print('Nelder-Mead')\n",
    "print('Converged:', sol.converged)\n",
    "print('Location of the minimum:', sol.position)\n",
    "print('Number of iterations:', sol.num_iterations)\n",
    "print('Objetive value:',sol.objective_value)\n",
    "\n",
    "# -9.37196472 -8.44134184 10.66419531"
   ]
  },
  {
   "cell_type": "code",
   "execution_count": 203,
   "metadata": {},
   "outputs": [],
   "source": [
    "st = 3\n",
    "ano= 15\n",
    "x1 = taus(st)\n",
    "pars(ano)\n",
    "matrix()\n",
    "get_W_i(ano)\n",
    "get_p_i(ano)\n",
    "cc=0\n",
    "\n",
    "#optim_results = tfp.optimizer.lbfgs_minimize(\n",
    "#      tflow,\n",
    "#      x1,\n",
    "#      num_correction_pairs=10,\n",
    "#      tolerance=1e-8)\n",
    "\n",
    "\n",
    "dtype= tf.float64\n",
    "start = tf.constant(np.array([-200, 0.56, 200.3]), dtype=dtype)\n",
    "\n",
    "\n",
    "def nelder_mead():\n",
    "  return tfp.optimizer.nelder_mead_minimize(\n",
    "  tflow,\n",
    "  initial_vertex=start,\n",
    "  parallel_iterations =100,\n",
    "  shrinkage=0.9,\n",
    "  func_tolerance=0,\n",
    "  position_tolerance=1e-141)"
   ]
  },
  {
   "cell_type": "code",
   "execution_count": 204,
   "metadata": {},
   "outputs": [],
   "source": [
    "sol = run(nelder_mead)\n",
    "print('Nelder-Mead')\n",
    "print('Converged:', sol.converged)\n",
    "print('Location of the minimum:', sol.position)\n",
    "print('Number of iterations:', sol.num_iterations)\n",
    "print('Objetive value:',sol.objective_value)\n",
    "\n",
    "# -9.37196472 -8.44134184 10.66419531"
   ]
  },
  {
   "cell_type": "code",
   "execution_count": 205,
   "metadata": {},
   "outputs": [],
   "source": [
    "st = 3\n",
    "ano= 15\n",
    "x1 = taus(st)\n",
    "pars(ano)\n",
    "matrix()\n",
    "get_W_i(ano)\n",
    "get_p_i(ano)\n",
    "cc=0\n",
    "\n",
    "#optim_results = tfp.optimizer.lbfgs_minimize(\n",
    "#      tflow,\n",
    "#      x1,\n",
    "#      num_correction_pairs=10,\n",
    "#      tolerance=1e-8)\n",
    "\n",
    "\n",
    "dtype= tf.float64\n",
    "start = tf.constant(np.array([-200, 0.56, 200.3]), dtype=dtype)\n",
    "\n",
    "\n",
    "def nelder_mead():\n",
    "  return tfp.optimizer.nelder_mead_minimize(\n",
    "  tflow,\n",
    "  initial_vertex=start,\n",
    "  parallel_iterations =100,\n",
    "  shrinkage=0.9,\n",
    "  func_tolerance=0,\n",
    "  position_tolerance=1e-14.1)"
   ]
  },
  {
   "cell_type": "code",
   "execution_count": 206,
   "metadata": {},
   "outputs": [],
   "source": [
    "st = 3\n",
    "ano= 15\n",
    "x1 = taus(st)\n",
    "pars(ano)\n",
    "matrix()\n",
    "get_W_i(ano)\n",
    "get_p_i(ano)\n",
    "cc=0\n",
    "\n",
    "#optim_results = tfp.optimizer.lbfgs_minimize(\n",
    "#      tflow,\n",
    "#      x1,\n",
    "#      num_correction_pairs=10,\n",
    "#      tolerance=1e-8)\n",
    "\n",
    "\n",
    "dtype= tf.float64\n",
    "start = tf.constant(np.array([-200, 0.56, 200.3]), dtype=dtype)\n",
    "\n",
    "\n",
    "def nelder_mead():\n",
    "  return tfp.optimizer.nelder_mead_minimize(\n",
    "  tflow,\n",
    "  initial_vertex=start,\n",
    "  parallel_iterations =100,\n",
    "  shrinkage=0.9,\n",
    "  func_tolerance=0,\n",
    "  position_tolerance=1.1e-14)"
   ]
  },
  {
   "cell_type": "code",
   "execution_count": 207,
   "metadata": {},
   "outputs": [],
   "source": [
    "sol = run(nelder_mead)\n",
    "print('Nelder-Mead')\n",
    "print('Converged:', sol.converged)\n",
    "print('Location of the minimum:', sol.position)\n",
    "print('Number of iterations:', sol.num_iterations)\n",
    "print('Objetive value:',sol.objective_value)\n",
    "\n",
    "# -9.37196472 -8.44134184 10.66419531"
   ]
  },
  {
   "cell_type": "code",
   "execution_count": 208,
   "metadata": {},
   "outputs": [],
   "source": [
    "sol = run(nelder_mead)\n",
    "print('Nelder-Mead')\n",
    "print('Converged:', sol.converged)\n",
    "print('Location of the minimum:', sol.position)\n",
    "print('Number of iterations:', sol.num_iterations)\n",
    "print('Objetive value:',sol.objective_value)\n",
    "\n",
    "# -9.37196472 -8.44134184 10.66419531"
   ]
  },
  {
   "cell_type": "code",
   "execution_count": 209,
   "metadata": {},
   "outputs": [],
   "source": [
    "0.9e-3"
   ]
  },
  {
   "cell_type": "code",
   "execution_count": 210,
   "metadata": {},
   "outputs": [],
   "source": [
    "#0.0009\n",
    "\n",
    "1e-3"
   ]
  },
  {
   "cell_type": "code",
   "execution_count": 211,
   "metadata": {},
   "outputs": [],
   "source": [
    "st = 3\n",
    "ano= 15\n",
    "x1 = taus(st)\n",
    "pars(ano)\n",
    "matrix()\n",
    "get_W_i(ano)\n",
    "get_p_i(ano)\n",
    "cc=0\n",
    "\n",
    "#optim_results = tfp.optimizer.lbfgs_minimize(\n",
    "#      tflow,\n",
    "#      x1,\n",
    "#      num_correction_pairs=10,\n",
    "#      tolerance=1e-8)\n",
    "\n",
    "\n",
    "dtype= tf.float64\n",
    "start = tf.constant(np.array([-200, 0.56, 200.3]), dtype=dtype)\n",
    "\n",
    "\n",
    "def nelder_mead():\n",
    "  return tfp.optimizer.nelder_mead_minimize(\n",
    "  tflow,\n",
    "  initial_vertex=start,\n",
    "  parallel_iterations =100,\n",
    "  shrinkage=0.9,\n",
    "  func_tolerance=0,\n",
    "  position_tolerance=0.9e-14)"
   ]
  },
  {
   "cell_type": "code",
   "execution_count": 212,
   "metadata": {},
   "outputs": [],
   "source": [
    "sol = run(nelder_mead)\n",
    "print('Nelder-Mead')\n",
    "print('Converged:', sol.converged)\n",
    "print('Location of the minimum:', sol.position)\n",
    "print('Number of iterations:', sol.num_iterations)\n",
    "print('Objetive value:',sol.objective_value)\n",
    "\n",
    "# -9.37196472 -8.44134184 10.66419531"
   ]
  },
  {
   "cell_type": "code",
   "execution_count": 213,
   "metadata": {},
   "outputs": [],
   "source": [
    "#0.0009"
   ]
  },
  {
   "cell_type": "code",
   "execution_count": 214,
   "metadata": {},
   "outputs": [],
   "source": [
    "st = 3\n",
    "ano= 15\n",
    "x1 = taus(st)\n",
    "pars(ano)\n",
    "matrix()\n",
    "get_W_i(ano)\n",
    "get_p_i(ano)\n",
    "cc=0\n",
    "\n",
    "#optim_results = tfp.optimizer.lbfgs_minimize(\n",
    "#      tflow,\n",
    "#      x1,\n",
    "#      num_correction_pairs=10,\n",
    "#      tolerance=1e-8)\n",
    "\n",
    "\n",
    "dtype= tf.float64\n",
    "start = tf.constant(np.array([-200, 0.56, 200.3]), dtype=dtype)\n",
    "\n",
    "\n",
    "def nelder_mead():\n",
    "  return tfp.optimizer.nelder_mead_minimize(\n",
    "  tflow,\n",
    "  initial_vertex=start,\n",
    "  parallel_iterations =100,\n",
    "  shrinkage=0.9,\n",
    "  func_tolerance=0,\n",
    "  position_tolerance=0.8e-14)"
   ]
  },
  {
   "cell_type": "code",
   "execution_count": 215,
   "metadata": {},
   "outputs": [],
   "source": [
    "sol = run(nelder_mead)\n",
    "print('Nelder-Mead')\n",
    "print('Converged:', sol.converged)\n",
    "print('Location of the minimum:', sol.position)\n",
    "print('Number of iterations:', sol.num_iterations)\n",
    "print('Objetive value:',sol.objective_value)\n",
    "\n",
    "# -9.37196472 -8.44134184 10.66419531"
   ]
  },
  {
   "cell_type": "code",
   "execution_count": 216,
   "metadata": {},
   "outputs": [],
   "source": [
    "st = 3\n",
    "ano= 15\n",
    "x1 = taus(st)\n",
    "pars(ano)\n",
    "matrix()\n",
    "get_W_i(ano)\n",
    "get_p_i(ano)\n",
    "cc=0\n",
    "\n",
    "#optim_results = tfp.optimizer.lbfgs_minimize(\n",
    "#      tflow,\n",
    "#      x1,\n",
    "#      num_correction_pairs=10,\n",
    "#      tolerance=1e-8)\n",
    "\n",
    "\n",
    "dtype= tf.float64\n",
    "start = tf.constant(np.array([-200, 0.56, 200.3]), dtype=dtype)\n",
    "\n",
    "\n",
    "def nelder_mead():\n",
    "  return tfp.optimizer.nelder_mead_minimize(\n",
    "  tflow,\n",
    "  initial_vertex=start,\n",
    "  parallel_iterations =100,\n",
    "  shrinkage=0.9,\n",
    "  func_tolerance=0,\n",
    "  position_tolerance=0.7e-14)"
   ]
  },
  {
   "cell_type": "code",
   "execution_count": 217,
   "metadata": {},
   "outputs": [],
   "source": [
    "sol = run(nelder_mead)\n",
    "print('Nelder-Mead')\n",
    "print('Converged:', sol.converged)\n",
    "print('Location of the minimum:', sol.position)\n",
    "print('Number of iterations:', sol.num_iterations)\n",
    "print('Objetive value:',sol.objective_value)\n",
    "\n",
    "# -9.37196472 -8.44134184 10.66419531"
   ]
  },
  {
   "cell_type": "code",
   "execution_count": 218,
   "metadata": {},
   "outputs": [],
   "source": [
    "st = 3\n",
    "ano= 15\n",
    "x1 = taus(st)\n",
    "pars(ano)\n",
    "matrix()\n",
    "get_W_i(ano)\n",
    "get_p_i(ano)\n",
    "cc=0\n",
    "\n",
    "#optim_results = tfp.optimizer.lbfgs_minimize(\n",
    "#      tflow,\n",
    "#      x1,\n",
    "#      num_correction_pairs=10,\n",
    "#      tolerance=1e-8)\n",
    "\n",
    "\n",
    "dtype= tf.float64\n",
    "start = tf.constant(np.array([-20, 0.56, 20.3]), dtype=dtype)\n",
    "\n",
    "\n",
    "def nelder_mead():\n",
    "  return tfp.optimizer.nelder_mead_minimize(\n",
    "  tflow,\n",
    "  initial_vertex=start,\n",
    "  parallel_iterations =100,\n",
    "  shrinkage=0.9,\n",
    "  func_tolerance=0,\n",
    "  position_tolerance=0.7e-14)"
   ]
  },
  {
   "cell_type": "code",
   "execution_count": 219,
   "metadata": {},
   "outputs": [],
   "source": [
    "sol = run(nelder_mead)\n",
    "print('Nelder-Mead')\n",
    "print('Converged:', sol.converged)\n",
    "print('Location of the minimum:', sol.position)\n",
    "print('Number of iterations:', sol.num_iterations)\n",
    "print('Objetive value:',sol.objective_value)\n",
    "\n",
    "#11.37196472 10.44134184 -8.66419531"
   ]
  },
  {
   "cell_type": "code",
   "execution_count": 220,
   "metadata": {},
   "outputs": [],
   "source": [
    "st = 3\n",
    "ano= 15\n",
    "x1 = taus(st)\n",
    "pars(ano)\n",
    "matrix()\n",
    "get_W_i(ano)\n",
    "get_p_i(ano)\n",
    "cc=0\n",
    "\n",
    "#optim_results = tfp.optimizer.lbfgs_minimize(\n",
    "#      tflow,\n",
    "#      x1,\n",
    "#      num_correction_pairs=10,\n",
    "#      tolerance=1e-8)\n",
    "\n",
    "\n",
    "dtype= tf.float64\n",
    "start = tf.constant(np.array([-20, 0.56, 20.3]), dtype=dtype)\n",
    "\n",
    "\n",
    "def nelder_mead():\n",
    "  return tfp.optimizer.nelder_mead_minimize(\n",
    "  tflow,\n",
    "  initial_vertex=start,\n",
    "  parallel_iterations =100,\n",
    "  shrinkage=0.9,\n",
    "  func_tolerance=0,\n",
    "  position_tolerance=0.9e-14)"
   ]
  },
  {
   "cell_type": "code",
   "execution_count": 221,
   "metadata": {},
   "outputs": [],
   "source": [
    "sol = run(nelder_mead)\n",
    "print('Nelder-Mead')\n",
    "print('Converged:', sol.converged)\n",
    "print('Location of the minimum:', sol.position)\n",
    "print('Number of iterations:', sol.num_iterations)\n",
    "print('Objetive value:',sol.objective_value)\n",
    "\n",
    "#11.37196472 10.44134184 -8.66419531"
   ]
  },
  {
   "cell_type": "code",
   "execution_count": 222,
   "metadata": {},
   "outputs": [],
   "source": [
    "st = 3\n",
    "ano= 15\n",
    "x1 = taus(st)\n",
    "pars(ano)\n",
    "matrix()\n",
    "get_W_i(ano)\n",
    "get_p_i(ano)\n",
    "cc=0\n",
    "\n",
    "#optim_results = tfp.optimizer.lbfgs_minimize(\n",
    "#      tflow,\n",
    "#      x1,\n",
    "#      num_correction_pairs=10,\n",
    "#      tolerance=1e-8)\n",
    "\n",
    "\n",
    "dtype= tf.float64\n",
    "start = tf.constant(np.array([-20, 0.56, 20.3]), dtype=dtype)\n",
    "\n",
    "\n",
    "def nelder_mead():\n",
    "  return tfp.optimizer.nelder_mead_minimize(\n",
    "  tflow,\n",
    "  initial_vertex=start,\n",
    "  parallel_iterations =100,\n",
    "  shrinkage=0.3,\n",
    "  func_tolerance=0,\n",
    "  position_tolerance=0.9e-14)"
   ]
  },
  {
   "cell_type": "code",
   "execution_count": 223,
   "metadata": {},
   "outputs": [],
   "source": [
    "sol = run(nelder_mead)\n",
    "print('Nelder-Mead')\n",
    "print('Converged:', sol.converged)\n",
    "print('Location of the minimum:', sol.position)\n",
    "print('Number of iterations:', sol.num_iterations)\n",
    "print('Objetive value:',sol.objective_value)\n",
    "\n",
    "#-9.37196472 -8.44134184 10.66419531 # 7.878255910098147e-62"
   ]
  },
  {
   "cell_type": "code",
   "execution_count": 224,
   "metadata": {},
   "outputs": [],
   "source": [
    "sol = run(quadratic_with_lbfgs)\n",
    "print('LBFGS')\n",
    "print('Converged:', sol.converged)\n",
    "print('Location of the minimum:', sol.position)\n",
    "print('Number of iterations:', sol.num_iterations)\n",
    "print('Objetive value:',sol.objective_value)"
   ]
  },
  {
   "cell_type": "code",
   "execution_count": 225,
   "metadata": {},
   "outputs": [],
   "source": [
    "@tf.function\n",
    "def quadratic_with_lbfgs():\n",
    "  return tfp.optimizer.lbfgs_minimize(\n",
    "  tflow2,\n",
    "  initial_position=tf.constant(np.array([-10.0, 5.0, -2.0]), dtype=dtype),\n",
    "  parallel_iterations =100,\n",
    "  tolerance=0,\n",
    "    max_iterations=10000,\n",
    "  max_line_search_iterations=5000)"
   ]
  },
  {
   "cell_type": "code",
   "execution_count": 226,
   "metadata": {},
   "outputs": [],
   "source": [
    "sol = run(quadratic_with_lbfgs)\n",
    "print('LBFGS')\n",
    "print('Converged:', sol.converged)\n",
    "print('Location of the minimum:', sol.position)\n",
    "print('Number of iterations:', sol.num_iterations)\n",
    "print('Objetive value:',sol.objective_value)"
   ]
  },
  {
   "cell_type": "code",
   "execution_count": 227,
   "metadata": {},
   "outputs": [],
   "source": [
    "@tf.function\n",
    "def quadratic_with_lbfgs():\n",
    "  return tfp.optimizer.lbfgs_minimize(\n",
    "  tflow2,\n",
    "  initial_position=tf.constant(np.array([-10.0, 5.0, 10.0]), dtype=dtype),\n",
    "  parallel_iterations =100,\n",
    "  tolerance=0,\n",
    "    max_iterations=10000,\n",
    "  max_line_search_iterations=5000)"
   ]
  },
  {
   "cell_type": "code",
   "execution_count": 228,
   "metadata": {},
   "outputs": [],
   "source": [
    "sol = run(quadratic_with_lbfgs)\n",
    "print('LBFGS')\n",
    "print('Converged:', sol.converged)\n",
    "print('Location of the minimum:', sol.position)\n",
    "print('Number of iterations:', sol.num_iterations)\n",
    "print('Objetive value:',sol.objective_value)"
   ]
  },
  {
   "cell_type": "code",
   "execution_count": 229,
   "metadata": {},
   "outputs": [],
   "source": [
    "@tf.function\n",
    "def quadratic_with_lbfgs():\n",
    "  return tfp.optimizer.lbfgs_minimize(\n",
    "  tflow2,\n",
    "  initial_position=tf.constant(np.array([-10.0, 5.0, 10.0]), dtype=dtype),\n",
    "  parallel_iterations =10,\n",
    "  tolerance=0,\n",
    "    max_iterations=10000,\n",
    "  max_line_search_iterations=5000)"
   ]
  },
  {
   "cell_type": "code",
   "execution_count": 230,
   "metadata": {},
   "outputs": [],
   "source": [
    "sol = run(quadratic_with_lbfgs)\n",
    "print('LBFGS')\n",
    "print('Converged:', sol.converged)\n",
    "print('Location of the minimum:', sol.position)\n",
    "print('Number of iterations:', sol.num_iterations)\n",
    "print('Objetive value:',sol.objective_value)"
   ]
  },
  {
   "cell_type": "code",
   "execution_count": 231,
   "metadata": {},
   "outputs": [],
   "source": [
    "@tf.function\n",
    "def quadratic_with_lbfgs():\n",
    "  return tfp.optimizer.lbfgs_minimize(\n",
    "  tflow2,\n",
    "  initial_position=tf.constant(np.array([-10.0, 0.43, 10.0]), dtype=dtype),\n",
    "  parallel_iterations =10,\n",
    "  tolerance=0,\n",
    "    max_iterations=10000,\n",
    "  max_line_search_iterations=5000)"
   ]
  },
  {
   "cell_type": "code",
   "execution_count": 232,
   "metadata": {},
   "outputs": [],
   "source": [
    "sol = run(quadratic_with_lbfgs)\n",
    "print('LBFGS')\n",
    "print('Converged:', sol.converged)\n",
    "print('Location of the minimum:', sol.position)\n",
    "print('Number of iterations:', sol.num_iterations)\n",
    "print('Objetive value:',sol.objective_value)"
   ]
  },
  {
   "cell_type": "code",
   "execution_count": 233,
   "metadata": {},
   "outputs": [],
   "source": [
    "tf.graph_util()"
   ]
  },
  {
   "cell_type": "code",
   "execution_count": 234,
   "metadata": {},
   "outputs": [],
   "source": [
    "tf.graph_util"
   ]
  },
  {
   "cell_type": "code",
   "execution_count": 235,
   "metadata": {},
   "outputs": [],
   "source": [
    "sol = run(quadratic_with_lbfgs)\n",
    "print('LBFGS')\n",
    "print('Converged:', sol.converged)\n",
    "print('Location of the minimum:', sol.position)\n",
    "print('Number of iterations:', sol.num_iterations)\n",
    "print('Objetive value:',sol.objective_value)"
   ]
  },
  {
   "cell_type": "code",
   "execution_count": 236,
   "metadata": {},
   "outputs": [],
   "source": [
    "sol = run(quadratic_with_lbfgs)\n",
    "print('LBFGS')\n",
    "print('Converged:', sol.converged)\n",
    "print('Location of the minimum:', sol.position)\n",
    "print('Number of iterations:', sol.num_iterations)\n",
    "print('Objetive value:',sol.objective_value)"
   ]
  },
  {
   "cell_type": "code",
   "execution_count": 237,
   "metadata": {},
   "outputs": [],
   "source": [
    "@tf.function\n",
    "def quadratic_with_lbfgs():\n",
    "  return tfp.optimizer.lbfgs_minimize(\n",
    "  tflow2,\n",
    "  initial_position=tf.constant(np.array([10.0, 0.43, 10.0]), dtype=dtype),\n",
    "  parallel_iterations =10,\n",
    "  tolerance=0,\n",
    "    max_iterations=10000,\n",
    "  max_line_search_iterations=5000)"
   ]
  },
  {
   "cell_type": "code",
   "execution_count": 238,
   "metadata": {},
   "outputs": [],
   "source": [
    "sol = run(quadratic_with_lbfgs)\n",
    "print('LBFGS')\n",
    "print('Converged:', sol.converged)\n",
    "print('Location of the minimum:', sol.position)\n",
    "print('Number of iterations:', sol.num_iterations)\n",
    "print('Objetive value:',sol.objective_value)"
   ]
  },
  {
   "cell_type": "code",
   "execution_count": 239,
   "metadata": {},
   "outputs": [],
   "source": [
    "sol = run(quadratic_with_lbfgs)\n",
    "print('LBFGS')\n",
    "print('Converged:', sol.converged)\n",
    "print('Location of the minimum:', sol.position)\n",
    "print('Number of iterations:', sol.num_iterations)\n",
    "print('Objetive value:',sol.objective_value)"
   ]
  },
  {
   "cell_type": "code",
   "execution_count": 240,
   "metadata": {},
   "outputs": [],
   "source": [
    "@tf.function\n",
    "def quadratic_with_lbfgs():\n",
    "  return tfp.optimizer.lbfgs_minimize(\n",
    "  tflow2,\n",
    "  initial_position=tf.constant(np.array([10.0, 0.43, 10.0]), dtype=dtype),\n",
    "  parallel_iterations =10,\n",
    " num_correction_pairs=100,\n",
    "  tolerance=0,\n",
    "    max_iterations=10000,\n",
    "  max_line_search_iterations=5000)"
   ]
  },
  {
   "cell_type": "code",
   "execution_count": 241,
   "metadata": {},
   "outputs": [],
   "source": [
    "sol = run(quadratic_with_lbfgs)\n",
    "print('LBFGS')\n",
    "print('Converged:', sol.converged)\n",
    "print('Location of the minimum:', sol.position)\n",
    "print('Number of iterations:', sol.num_iterations)\n",
    "print('Objetive value:',sol.objective_value)"
   ]
  },
  {
   "cell_type": "code",
   "execution_count": 242,
   "metadata": {},
   "outputs": [],
   "source": [
    "@tf.function\n",
    "def quadratic_with_lbfgs():\n",
    "  return tfp.optimizer.lbfgs_minimize(\n",
    "  tflow2,\n",
    "  initial_position=tf.constant(np.array([10.0, 0.43, 10.0]), dtype=dtype),\n",
    "  parallel_iterations =10,\n",
    " num_correction_pairs=5,\n",
    "  tolerance=0,\n",
    "    max_iterations=10000,\n",
    "  max_line_search_iterations=5000)"
   ]
  },
  {
   "cell_type": "code",
   "execution_count": 243,
   "metadata": {},
   "outputs": [],
   "source": [
    "sol = run(quadratic_with_lbfgs)\n",
    "print('LBFGS')\n",
    "print('Converged:', sol.converged)\n",
    "print('Location of the minimum:', sol.position)\n",
    "print('Number of iterations:', sol.num_iterations)\n",
    "print('Objetive value:',sol.objective_value)"
   ]
  },
  {
   "cell_type": "code",
   "execution_count": 244,
   "metadata": {},
   "outputs": [],
   "source": [
    "@tf.function\n",
    "def quadratic_with_lbfgs():\n",
    "  return tfp.optimizer.lbfgs_minimize(\n",
    "  tflow2,\n",
    "  initial_position=tf.constant(np.array([10.0, 0.43, 10.0]), dtype=dtype),\n",
    "  parallel_iterations =10,\n",
    " num_correction_pairs=5,\n",
    "  tolerance=0,\n",
    "    max_iterations=10000,\n",
    "  max_line_search_iterations=50000)"
   ]
  },
  {
   "cell_type": "code",
   "execution_count": 245,
   "metadata": {},
   "outputs": [],
   "source": [
    "sol = run(quadratic_with_lbfgs)\n",
    "print('LBFGS')\n",
    "print('Converged:', sol.converged)\n",
    "print('Location of the minimum:', sol.position)\n",
    "print('Number of iterations:', sol.num_iterations)\n",
    "print('Objetive value:',sol.objective_value)"
   ]
  },
  {
   "cell_type": "code",
   "execution_count": 246,
   "metadata": {},
   "outputs": [],
   "source": [
    "@tf.function\n",
    "def quadratic_with_lbfgs():\n",
    "  return tfp.optimizer.lbfgs_minimize(\n",
    "  tflow2,\n",
    "  initial_position=tf.constant(np.array([10.0, 10.0, 10.0]), dtype=dtype),\n",
    "  parallel_iterations =10,\n",
    " num_correction_pairs=5,\n",
    "  tolerance=0,\n",
    "    max_iterations=10000,\n",
    "  max_line_search_iterations=50000)"
   ]
  },
  {
   "cell_type": "code",
   "execution_count": 247,
   "metadata": {},
   "outputs": [],
   "source": [
    "sol = run(quadratic_with_lbfgs)\n",
    "print('LBFGS')\n",
    "print('Converged:', sol.converged)\n",
    "print('Location of the minimum:', sol.position)\n",
    "print('Number of iterations:', sol.num_iterations)\n",
    "print('Objetive value:',sol.objective_value)"
   ]
  },
  {
   "cell_type": "code",
   "execution_count": 248,
   "metadata": {},
   "outputs": [],
   "source": [
    "@tf.function\n",
    "def quadratic_with_lbfgs():\n",
    "  return tfp.optimizer.lbfgs_minimize(\n",
    "  tflow2,\n",
    "  initial_position=tf.constant(np.array([-10.0, 10.0, 10.0]), dtype=dtype),\n",
    "  parallel_iterations =10,\n",
    " num_correction_pairs=5,\n",
    "  tolerance=0,\n",
    "    max_iterations=10000,\n",
    "  max_line_search_iterations=50000)"
   ]
  },
  {
   "cell_type": "code",
   "execution_count": 249,
   "metadata": {},
   "outputs": [],
   "source": [
    "sol = run(quadratic_with_lbfgs)\n",
    "print('LBFGS')\n",
    "print('Converged:', sol.converged)\n",
    "print('Location of the minimum:', sol.position)\n",
    "print('Number of iterations:', sol.num_iterations)\n",
    "print('Objetive value:',sol.objective_value)"
   ]
  },
  {
   "cell_type": "code",
   "execution_count": 250,
   "metadata": {},
   "outputs": [],
   "source": [
    "st = 3\n",
    "x1 = taus(st)\n",
    "ano= 15\n",
    "pars(ano)\n",
    "matrix()\n",
    "get_W_i(ano)\n",
    "get_p_i(ano)\n",
    "cc=0\n",
    "\n",
    "sol= minimize(tflow, x1,  method='L-BFGS-B', bounds=Bd,\n",
    "              callback=callback,\n",
    "              tol=1e-250, options={'maxiter':1e3}) "
   ]
  },
  {
   "cell_type": "code",
   "execution_count": 251,
   "metadata": {},
   "outputs": [],
   "source": [
    "sol.x    \n",
    " \n",
    "# ----> 95 "
   ]
  },
  {
   "cell_type": "code",
   "execution_count": 252,
   "metadata": {},
   "outputs": [],
   "source": [
    "sol.fun\n",
    " \n",
    "# ----> 95 "
   ]
  },
  {
   "cell_type": "code",
   "execution_count": 253,
   "metadata": {},
   "outputs": [],
   "source": [
    "st = 3\n",
    "x1 = taus(st)\n",
    "ano= 15\n",
    "pars(ano)\n",
    "matrix()\n",
    "get_W_i(ano)\n",
    "get_p_i(ano)\n",
    "cc=0\n",
    "\n",
    "sol= minimize(tflow, x1,  method='L-BFGS-B', bounds=Bd,\n",
    "              callback=callback,\n",
    "              tol=0, options={'maxiter':1e3}) "
   ]
  },
  {
   "cell_type": "code",
   "execution_count": 254,
   "metadata": {},
   "outputs": [],
   "source": [
    "sol.fun\n",
    " \n",
    "# ----> 95 "
   ]
  },
  {
   "cell_type": "code",
   "execution_count": 255,
   "metadata": {},
   "outputs": [],
   "source": [
    "st = 3\n",
    "x1 = taus(st)\n",
    "ano= 15\n",
    "pars(ano)\n",
    "matrix()\n",
    "get_W_i(ano)\n",
    "get_p_i(ano)\n",
    "cc=0\n",
    "\n",
    "sol= minimize(tflow, np.array([-10.0, 10.0, 10.0]),  method='L-BFGS-B', bounds=Bd,\n",
    "              callback=callback,\n",
    "              tol=0, options={'maxiter':1e3}) "
   ]
  },
  {
   "cell_type": "code",
   "execution_count": 256,
   "metadata": {},
   "outputs": [],
   "source": [
    "sol.fun\n",
    " \n",
    "# ----> 95 "
   ]
  },
  {
   "cell_type": "code",
   "execution_count": 257,
   "metadata": {},
   "outputs": [],
   "source": [
    "sol.x\n",
    " \n",
    "# ----> 95 "
   ]
  },
  {
   "cell_type": "code",
   "execution_count": 258,
   "metadata": {},
   "outputs": [],
   "source": [
    "@tf.function\n",
    "def quadratic_with_lbfgs():\n",
    "  return tfp.optimizer.lbfgs_minimize(\n",
    "  tflow2,\n",
    "  initial_position=tf.constant(np.array([-10.0, 10.0, 10.0]), dtype=dtype),\n",
    "  parallel_iterations =10,\n",
    " num_correction_pairs=5,\n",
    "  tolerance=0,\n",
    "    max_iterations=10000,\n",
    "  max_line_search_iterations=50000)"
   ]
  },
  {
   "cell_type": "code",
   "execution_count": 259,
   "metadata": {},
   "outputs": [],
   "source": [
    "sol = run(quadratic_with_lbfgs)\n",
    "print('LBFGS')\n",
    "print('Converged:', sol.converged)\n",
    "print('Location of the minimum:', sol.position)\n",
    "print('Number of iterations:', sol.num_iterations)\n",
    "print('Objetive value:',sol.objective_value)"
   ]
  },
  {
   "cell_type": "code",
   "execution_count": 260,
   "metadata": {},
   "outputs": [],
   "source": [
    "@tf.function\n",
    "def quadratic_with_lbfgs():\n",
    "  return tfp.optimizer.lbfgs_minimize(\n",
    "  tflow2,\n",
    "  initial_position=tf.constant(np.array([10.0, 10.0, 10.0]), dtype=dtype),\n",
    "  parallel_iterations =10,\n",
    " num_correction_pairs=5,\n",
    "  tolerance=0,\n",
    "    max_iterations=10000,\n",
    "  max_line_search_iterations=50000)"
   ]
  },
  {
   "cell_type": "code",
   "execution_count": 261,
   "metadata": {},
   "outputs": [],
   "source": [
    "sol = run(quadratic_with_lbfgs)\n",
    "print('LBFGS')\n",
    "print('Converged:', sol.converged)\n",
    "print('Location of the minimum:', sol.position)\n",
    "print('Number of iterations:', sol.num_iterations)\n",
    "print('Objetive value:',sol.objective_value)"
   ]
  },
  {
   "cell_type": "code",
   "execution_count": 262,
   "metadata": {},
   "outputs": [],
   "source": [
    "@tf.function\n",
    "def quadratic_with_lbfgs():\n",
    "  return tfp.optimizer.lbfgs_minimize(\n",
    "  tflow2,\n",
    "  initial_position=tf.constant(np.array([0.0, 0.0, 0.0]), dtype=dtype),\n",
    "  parallel_iterations =10,\n",
    " num_correction_pairs=5,\n",
    "  tolerance=0,\n",
    "    max_iterations=10000,\n",
    "  max_line_search_iterations=50000)"
   ]
  },
  {
   "cell_type": "code",
   "execution_count": 263,
   "metadata": {},
   "outputs": [],
   "source": [
    "sol = run(quadratic_with_lbfgs)\n",
    "print('LBFGS')\n",
    "print('Converged:', sol.converged)\n",
    "print('Location of the minimum:', sol.position)\n",
    "print('Number of iterations:', sol.num_iterations)\n",
    "print('Objetive value:',sol.objective_value)"
   ]
  },
  {
   "cell_type": "code",
   "execution_count": 264,
   "metadata": {},
   "outputs": [],
   "source": [
    "3.695661944942129e-62"
   ]
  },
  {
   "cell_type": "code",
   "execution_count": 265,
   "metadata": {},
   "outputs": [],
   "source": [
    "sol = run(quadratic_with_lbfgs)\n",
    "print('LBFGS')\n",
    "print('Converged:', sol.converged)\n",
    "print('Location of the minimum:', sol.position)\n",
    "print('Number of iterations:', sol.num_iterations)\n",
    "print('Objetive value:',sol.objective_value)\n",
    "\n",
    "\n",
    "#-9.37196472 -8.44134184 -8.66419531\n",
    "#3.695661944942129e-62"
   ]
  },
  {
   "cell_type": "code",
   "execution_count": 266,
   "metadata": {},
   "outputs": [],
   "source": [
    "@tf.function\n",
    "def quadratic_with_lbfgs():\n",
    "  return tfp.optimizer.lbfgs_minimize(\n",
    "  tflow2,\n",
    "  initial_position=tf.constant(np.array([1.0, 0.0, 0.0]), dtype=dtype),\n",
    "  parallel_iterations =10,\n",
    " num_correction_pairs=5,\n",
    "  tolerance=0,\n",
    "    max_iterations=10000,\n",
    "  max_line_search_iterations=50000)"
   ]
  },
  {
   "cell_type": "code",
   "execution_count": 267,
   "metadata": {},
   "outputs": [],
   "source": [
    "sol = run(quadratic_with_lbfgs)\n",
    "print('LBFGS')\n",
    "print('Converged:', sol.converged)\n",
    "print('Location of the minimum:', sol.position)\n",
    "print('Number of iterations:', sol.num_iterations)\n",
    "print('Objetive value:',sol.objective_value)\n",
    "\n",
    "\n",
    "#-9.37196472 -8.44134184 -8.66419531\n",
    "#3.695661944942129e-62"
   ]
  },
  {
   "cell_type": "code",
   "execution_count": 268,
   "metadata": {},
   "outputs": [],
   "source": [
    "@tf.function\n",
    "def quadratic_with_lbfgs():\n",
    "  return tfp.optimizer.lbfgs_minimize(\n",
    "  tflow2,\n",
    "  initial_position=tf.constant(np.array([1.0, 0.0, 0.0]), dtype=dtype),\n",
    "  parallel_iterations =10,\n",
    " num_correction_pairs=5,\n",
    "  tolerance=0,\n",
    "    max_iterations=10000,\n",
    "  max_line_search_iterations=50000)"
   ]
  },
  {
   "cell_type": "code",
   "execution_count": 269,
   "metadata": {},
   "outputs": [],
   "source": [
    "sol = run(quadratic_with_lbfgs)\n",
    "print('LBFGS')\n",
    "print('Converged:', sol.converged)\n",
    "print('Location of the minimum:', sol.position)\n",
    "print('Number of iterations:', sol.num_iterations)\n",
    "print('Objetive value:',sol.objective_value)\n",
    "\n",
    "\n",
    "#-9.37196472 -8.44134184 -8.66419531\n",
    "#3.695661944942129e-62"
   ]
  },
  {
   "cell_type": "code",
   "execution_count": 270,
   "metadata": {},
   "outputs": [],
   "source": [
    "@tf.function\n",
    "def quadratic_with_lbfgs():\n",
    "  return tfp.optimizer.lbfgs_minimize(\n",
    "  tflow2,\n",
    "  initial_position=tf.constant(np.array([-1.0, 5.0, 5.0]), dtype=dtype),\n",
    "  parallel_iterations =10,\n",
    " num_correction_pairs=5,\n",
    "  tolerance=0,\n",
    "    max_iterations=10000,\n",
    "  max_line_search_iterations=50000)"
   ]
  },
  {
   "cell_type": "code",
   "execution_count": 271,
   "metadata": {},
   "outputs": [],
   "source": [
    "sol = run(quadratic_with_lbfgs)\n",
    "print('LBFGS')\n",
    "print('Converged:', sol.converged)\n",
    "print('Location of the minimum:', sol.position)\n",
    "print('Number of iterations:', sol.num_iterations)\n",
    "print('Objetive value:',sol.objective_value)\n",
    "\n",
    "\n",
    "#-9.37196472 -8.44134184 -8.66419531\n",
    "#3.695661944942129e-62"
   ]
  },
  {
   "cell_type": "code",
   "execution_count": 272,
   "metadata": {},
   "outputs": [],
   "source": [
    "sol = run(quadratic_with_lbfgs)\n",
    "print('LBFGS')\n",
    "print('Converged:', sol.converged)\n",
    "print('Location of the minimum:', sol.position)\n",
    "print('Number of iterations:', sol.num_iterations)\n",
    "print('Objetive value:',sol.objective_value)\n",
    "\n",
    "\n",
    "#-9.37196472 -8.44134184 -8.66419531  #3.695661944942129e-62 \n",
    "-9.37196472 10.44134184 10.66419531   #3.695661944942129e-62"
   ]
  },
  {
   "cell_type": "code",
   "execution_count": 273,
   "metadata": {},
   "outputs": [],
   "source": [
    "sol = run(quadratic_with_lbfgs)\n",
    "print('LBFGS')\n",
    "print('Converged:', sol.converged)\n",
    "print('Location of the minimum:', sol.position)\n",
    "print('Number of iterations:', sol.num_iterations)\n",
    "print('Objetive value:',sol.objective_value)\n",
    "\n",
    "\n",
    "#-9.37196472 -8.44134184 -8.66419531  #3.695661944942129e-62 \n",
    "#-9.37196472 10.44134184 10.66419531   #3.695661944942129e-62"
   ]
  },
  {
   "cell_type": "code",
   "execution_count": 274,
   "metadata": {},
   "outputs": [],
   "source": [
    "@tf.function\n",
    "def quadratic_with_lbfgs():\n",
    "  return tfp.optimizer.lbfgs_minimize(\n",
    "  tflow2,\n",
    "  initial_position=tf.constant(np.array([-1.0, 0.0, 5.0]), dtype=dtype),\n",
    "  parallel_iterations =10,\n",
    " num_correction_pairs=5,\n",
    "  tolerance=0,\n",
    "    max_iterations=10000,\n",
    "  max_line_search_iterations=50000)"
   ]
  },
  {
   "cell_type": "code",
   "execution_count": 275,
   "metadata": {},
   "outputs": [],
   "source": [
    "sol = run(quadratic_with_lbfgs)\n",
    "print('LBFGS')\n",
    "print('Converged:', sol.converged)\n",
    "print('Location of the minimum:', sol.position)\n",
    "print('Number of iterations:', sol.num_iterations)\n",
    "print('Objetive value:',sol.objective_value)\n",
    "\n",
    "\n",
    "#-9.37196472 -8.44134184 -8.66419531  #3.695661944942129e-62 \n",
    "#-9.37196472 10.44134184 10.66419531   #3.695661944942129e-62"
   ]
  },
  {
   "cell_type": "code",
   "execution_count": 276,
   "metadata": {},
   "outputs": [],
   "source": [
    "tf.random.uniform(maxval=10, minval=-10, shape=[1, st], dtype='float64')"
   ]
  },
  {
   "cell_type": "code",
   "execution_count": 277,
   "metadata": {},
   "outputs": [],
   "source": [
    "np.random.uniform(-10, 10, s=2)"
   ]
  },
  {
   "cell_type": "code",
   "execution_count": 278,
   "metadata": {},
   "outputs": [],
   "source": [
    "np.random.uniform(-10, 10, size=2)"
   ]
  },
  {
   "cell_type": "code",
   "execution_count": 279,
   "metadata": {},
   "outputs": [],
   "source": [
    "np.random.uniform(-10, 10, size=3)"
   ]
  },
  {
   "cell_type": "code",
   "execution_count": 280,
   "metadata": {},
   "outputs": [],
   "source": [
    "\n",
    "\n",
    "init = tf.constant(np.random.uniform(-10, 10, size=3), dtype=dtype)\n",
    "\n",
    "\n",
    "sol = run(quadratic_with_lbfgs)\n",
    "print('LBFGS')\n",
    "print('Converged:', sol.converged)\n",
    "print('Location of the minimum:', sol.position)\n",
    "print('Number of iterations:', sol.num_iterations)\n",
    "print('Objetive value:',sol.objective_value)\n",
    "\n",
    "\n",
    "#-9.37196472 -8.44134184 -8.66419531  #3.695661944942129e-62 \n",
    "#-9.37196472 10.44134184 10.66419531   #3.695661944942129e-62"
   ]
  },
  {
   "cell_type": "code",
   "execution_count": 281,
   "metadata": {},
   "outputs": [],
   "source": [
    "\n",
    "tol_m = 7.163690026134705e-60\n",
    "init = tf.constant(np.random.uniform(-10, 10, size=3), dtype=dtype)\n",
    "\n",
    "while val>tol_m:\n",
    "    sol = run(quadratic_with_lbfgs)\n",
    "    print('LBFGS')\n",
    "    print('Converged:', sol.converged)\n",
    "    print('Location of the minimum:', sol.position)\n",
    "    print('Number of iterations:', sol.num_iterations)\n",
    "    print('Objetive value:', sol.objective_value)\n",
    "    val =  sol.objective_value\n",
    "\n",
    "\n",
    "#-9.37196472 -8.44134184 -8.66419531  #3.695661944942129e-62 \n",
    "#-9.37196472 10.44134184 10.66419531   #3.695661944942129e-62"
   ]
  },
  {
   "cell_type": "code",
   "execution_count": 282,
   "metadata": {},
   "outputs": [],
   "source": [
    "\n",
    "tol_m = 7.163690026134705e-60\n",
    "init = tf.constant(np.random.uniform(-10, 10, size=3), dtype=dtype)\n",
    "val=1e-10\n",
    "\n",
    "while val>tol_m:\n",
    "    sol = run(quadratic_with_lbfgs)\n",
    "    print('LBFGS')\n",
    "    print('Converged:', sol.converged)\n",
    "    print('Location of the minimum:', sol.position)\n",
    "    print('Number of iterations:', sol.num_iterations)\n",
    "    print('Objetive value:', sol.objective_value)\n",
    "    val =  sol.objective_value\n",
    "\n",
    "\n",
    "#-9.37196472 -8.44134184 -8.66419531  #3.695661944942129e-62 \n",
    "#-9.37196472 10.44134184 10.66419531   #3.695661944942129e-62"
   ]
  },
  {
   "cell_type": "code",
   "execution_count": 283,
   "metadata": {},
   "outputs": [],
   "source": [
    "\n",
    "tol_m = 7.163690026134705e-60\n",
    "init = tf.constant(np.random.uniform(-10, 10, size=3), dtype=dtype)\n",
    "val=1e-10\n",
    "\n",
    "while val<tol_m:\n",
    "    sol = run(quadratic_with_lbfgs)\n",
    "    print('LBFGS')\n",
    "    print('Converged:', sol.converged)\n",
    "    print('Location of the minimum:', sol.position)\n",
    "    print('Number of iterations:', sol.num_iterations)\n",
    "    print('Objetive value:', sol.objective_value)\n",
    "    val =  sol.objective_value\n",
    "\n",
    "\n",
    "#-9.37196472 -8.44134184 -8.66419531  #3.695661944942129e-62 \n",
    "#-9.37196472 10.44134184 10.66419531   #3.695661944942129e-62"
   ]
  },
  {
   "cell_type": "code",
   "execution_count": 284,
   "metadata": {},
   "outputs": [],
   "source": [
    "\n",
    "tol_m = 7.163690026134705e-60\n",
    "init = tf.constant(np.random.uniform(-10, 10, size=3), dtype=dtype)\n",
    "val=1\n",
    "\n",
    "while val>tol_m:\n",
    "    sol = run(quadratic_with_lbfgs)\n",
    "    print('LBFGS')\n",
    "    print('Converged:', sol.converged)\n",
    "    print('Location of the minimum:', sol.position)\n",
    "    print('Number of iterations:', sol.num_iterations)\n",
    "    print('Objetive value:', sol.objective_value)\n",
    "    val =  sol.objective_value\n",
    "\n",
    "\n",
    "#-9.37196472 -8.44134184 -8.66419531  #3.695661944942129e-62 \n",
    "#-9.37196472 10.44134184 10.66419531   #3.695661944942129e-62"
   ]
  },
  {
   "cell_type": "code",
   "execution_count": 285,
   "metadata": {},
   "outputs": [],
   "source": [
    "val"
   ]
  },
  {
   "cell_type": "code",
   "execution_count": 286,
   "metadata": {},
   "outputs": [],
   "source": [
    "\n",
    "tol_m = 7.163690026134705e-62\n",
    "init = tf.constant(np.random.uniform(-10, 10, size=3), dtype=dtype)\n",
    "val=1\n",
    "\n",
    "while val>tol_m:\n",
    "    sol = run(quadratic_with_lbfgs)\n",
    "    print('LBFGS')\n",
    "    print('Converged:', sol.converged)\n",
    "    print('Location of the minimum:', sol.position)\n",
    "    print('Number of iterations:', sol.num_iterations)\n",
    "    print('Objetive value:', sol.objective_value)\n",
    "    val =  sol.objective_value\n",
    "\n",
    "\n",
    "#-9.37196472 -8.44134184 -8.66419531  #3.695661944942129e-62 \n",
    "#-9.37196472 10.44134184 10.66419531   #3.695661944942129e-62"
   ]
  },
  {
   "cell_type": "code",
   "execution_count": 287,
   "metadata": {},
   "outputs": [],
   "source": [
    "\n",
    "tol_m = 7.163690026134705e-62\n",
    "val=1\n",
    "\n",
    "while val>tol_m:\n",
    "    init = tf.constant(np.random.uniform(-10, 10, size=3), dtype=dtype)\n",
    "    sol = run(quadratic_with_lbfgs)\n",
    "    print('----LBFGS----')\n",
    "    print('Converged:', sol.converged)\n",
    "    print('Location of the minimum:', sol.position)\n",
    "    print('Number of iterations:', sol.num_iterations)\n",
    "    print('Objetive value:', sol.objective_value)\n",
    "    val =  sol.objective_value\n",
    "\n",
    "\n",
    "#-9.37196472 -8.44134184 -8.66419531  #3.695661944942129e-62 \n",
    "#-9.37196472 10.44134184 10.66419531   #3.695661944942129e-62"
   ]
  },
  {
   "cell_type": "code",
   "execution_count": 288,
   "metadata": {},
   "outputs": [],
   "source": [
    "\n",
    "tol_m = 7.163690026134705e-62\n",
    "val=1\n",
    "\n",
    "while val>tol_m:\n",
    "    init = tf.constant(np.random.uniform(-10, 10, size=3), dtype=dtype)\n",
    "    print(f'init= {init}')\n",
    "    sol = run(quadratic_with_lbfgs)\n",
    "    print('----LBFGS----')\n",
    "    print('Converged:', sol.converged)\n",
    "    print('Location of the minimum:', sol.position)\n",
    "    print('Number of iterations:', sol.num_iterations)\n",
    "    print('Objetive value:', sol.objective_value)\n",
    "    val =  sol.objective_value\n",
    "\n",
    "\n",
    "#-9.37196472 -8.44134184 -8.66419531  #3.695661944942129e-62 \n",
    "#-9.37196472 10.44134184 10.66419531   #3.695661944942129e-62"
   ]
  },
  {
   "cell_type": "code",
   "execution_count": 289,
   "metadata": {},
   "outputs": [],
   "source": [
    "\n",
    "tol_m = 7.163690026134705e-62\n",
    "val=1\n",
    "\n",
    "while val>tol_m:\n",
    "    init = tf.constant(np.random.uniform(-1, 10, size=3), dtype=dtype)\n",
    "    print(f'init= {init}')\n",
    "    sol = run(quadratic_with_lbfgs)\n",
    "    print('----LBFGS----')\n",
    "    print('Converged:', sol.converged)\n",
    "    print('Location of the minimum:', sol.position)\n",
    "    print('Number of iterations:', sol.num_iterations)\n",
    "    print('Objetive value:', sol.objective_value)\n",
    "    val =  sol.objective_value\n",
    "\n",
    "\n",
    "#-9.37196472 -8.44134184 -8.66419531  #3.695661944942129e-62 \n",
    "#-9.37196472 10.44134184 10.66419531   #3.695661944942129e-62"
   ]
  },
  {
   "cell_type": "code",
   "execution_count": 290,
   "metadata": {},
   "outputs": [],
   "source": [
    "@tf.function\n",
    "def quadratic_with_lbfgs():\n",
    "  return tfp.optimizer.lbfgs_minimize(\n",
    "  tflow2,\n",
    "print(f'init= {init}'),\n",
    "  initial_position=init,\n",
    "  parallel_iterations =10,\n",
    " num_correction_pairs=5,\n",
    "  tolerance=0,\n",
    "    max_iterations=10000,\n",
    "  max_line_search_iterations=50000)"
   ]
  },
  {
   "cell_type": "code",
   "execution_count": 291,
   "metadata": {},
   "outputs": [],
   "source": [
    "\n",
    "tol_m = 7.163690026134705e-62\n",
    "val=1\n",
    "\n",
    "while val>tol_m:\n",
    "    init = tf.constant(np.random.uniform(-1, 10, size=3), dtype=dtype)\n",
    "   \n",
    "    sol = run(quadratic_with_lbfgs)\n",
    "    print('----LBFGS----')\n",
    "    print('Converged:', sol.converged)\n",
    "    print('Location of the minimum:', sol.position)\n",
    "    print('Number of iterations:', sol.num_iterations)\n",
    "    print('Objetive value:', sol.objective_value)\n",
    "    val =  sol.objective_value\n",
    "\n",
    "\n",
    "#-9.37196472 -8.44134184 -8.66419531  #3.695661944942129e-62 \n",
    "#-9.37196472 10.44134184 10.66419531   #3.695661944942129e-62"
   ]
  },
  {
   "cell_type": "code",
   "execution_count": 292,
   "metadata": {},
   "outputs": [],
   "source": [
    "@tf.function\n",
    "def quadratic_with_lbfgs():\n",
    "     print(f'init= {init}')\n",
    "  return tfp.optimizer.lbfgs_minimize(\n",
    "  tflow2,\n",
    "  initial_position=init,\n",
    "  parallel_iterations =10,\n",
    " num_correction_pairs=5,\n",
    "  tolerance=0,\n",
    "    max_iterations=10000,\n",
    "  max_line_search_iterations=50000)"
   ]
  },
  {
   "cell_type": "code",
   "execution_count": 293,
   "metadata": {},
   "outputs": [],
   "source": [
    "@tf.function\n",
    "def quadratic_with_lbfgs():\n",
    "  return tfp.optimizer.lbfgs_minimize(\n",
    "  tflow2,\n",
    "  initial_position=init,\n",
    "  parallel_iterations =10,\n",
    " num_correction_pairs=5,\n",
    "  tolerance=0,\n",
    "    max_iterations=10000,\n",
    "  max_line_search_iterations=50000)\n",
    "    print(f'init= {init}')"
   ]
  },
  {
   "cell_type": "code",
   "execution_count": 294,
   "metadata": {},
   "outputs": [],
   "source": [
    "@tf.function\n",
    "def quadratic_with_lbfgs():\n",
    "  return tfp.optimizer.lbfgs_minimize(\n",
    "  tflow2,\n",
    "  initial_position=init,\n",
    "  parallel_iterations =10,\n",
    "  num_correction_pairs=5,\n",
    "  tolerance=0,\n",
    "  max_iterations=10000,\n",
    "  max_line_search_iterations=50000)\n",
    "  print(f'init= {init}')"
   ]
  },
  {
   "cell_type": "code",
   "execution_count": 295,
   "metadata": {},
   "outputs": [],
   "source": [
    "\n",
    "tol_m = 7.163690026134705e-62\n",
    "val=1\n",
    "\n",
    "while val>tol_m:\n",
    "    init = tf.constant(np.random.uniform(-1, 10, size=3), dtype=dtype)\n",
    "   \n",
    "    sol = run(quadratic_with_lbfgs)\n",
    "    print('----LBFGS----')\n",
    "    print('Converged:', sol.converged)\n",
    "    print('Location of the minimum:', sol.position)\n",
    "    print('Number of iterations:', sol.num_iterations)\n",
    "    print('Objetive value:', sol.objective_value)\n",
    "    val =  sol.objective_value\n",
    "\n",
    "\n",
    "#-9.37196472 -8.44134184 -8.66419531  #3.695661944942129e-62 \n",
    "#-9.37196472 10.44134184 10.66419531   #3.695661944942129e-62"
   ]
  },
  {
   "cell_type": "code",
   "execution_count": 296,
   "metadata": {},
   "outputs": [],
   "source": [
    "@tf.function\n",
    "def quadratic_with_lbfgs(init):\n",
    "  return tfp.optimizer.lbfgs_minimize(\n",
    "  tflow2,\n",
    "  initial_position=init,\n",
    "  parallel_iterations =10,\n",
    "  num_correction_pairs=5,\n",
    "  tolerance=0,\n",
    "  max_iterations=10000,\n",
    "  max_line_search_iterations=50000)"
   ]
  },
  {
   "cell_type": "code",
   "execution_count": 297,
   "metadata": {},
   "outputs": [],
   "source": [
    "\n",
    "tol_m = 7.163690026134705e-62\n",
    "val=1\n",
    "\n",
    "while val>tol_m:\n",
    "    init = tf.constant(np.random.uniform(-1, 10, size=3), dtype=dtype)\n",
    "    sol = run(quadratic_with_lbfgs(init))\n",
    "    print('----LBFGS----')\n",
    "    print('Converged:', sol.converged)\n",
    "    print('Location of the minimum:', sol.position)\n",
    "    print('Number of iterations:', sol.num_iterations)\n",
    "    print('Objetive value:', sol.objective_value)\n",
    "    val =  sol.objective_value\n",
    "\n",
    "\n",
    "#-9.37196472 -8.44134184 -8.66419531  #3.695661944942129e-62 \n",
    "#-9.37196472 10.44134184 10.66419531   #3.695661944942129e-62"
   ]
  },
  {
   "cell_type": "code",
   "execution_count": 298,
   "metadata": {},
   "outputs": [],
   "source": [
    "\n",
    "tol_m = 7.163690026134705e-62\n",
    "val=1\n",
    "\n",
    "while val>tol_m:\n",
    "    init = tf.constant(np.random.uniform(-1, 10, size=3), dtype=dtype)\n",
    "    sol = run(quadratic_with_lbfgs)\n",
    "    print('----LBFGS----')\n",
    "    print('Converged:', sol.converged)\n",
    "    print('Location of the minimum:', sol.position)\n",
    "    print('Number of iterations:', sol.num_iterations)\n",
    "    print('Objetive value:', sol.objective_value)\n",
    "    val =  sol.objective_value\n",
    "\n",
    "\n",
    "#-9.37196472 -8.44134184 -8.66419531  #3.695661944942129e-62 \n",
    "#-9.37196472 10.44134184 10.66419531   #3.695661944942129e-62"
   ]
  },
  {
   "cell_type": "code",
   "execution_count": 299,
   "metadata": {},
   "outputs": [],
   "source": [
    "\n",
    "tol_m = 7.163690026134705e-62\n",
    "val=1\n",
    "\n",
    "while val>tol_m:\n",
    "    init = tf.constant(np.random.uniform(-1, 10, size=3), dtype=dtype)\n",
    "    sol = run(quadratic_with_lbfgs(init))\n",
    "    print('----LBFGS----')\n",
    "    print('Converged:', sol.converged)\n",
    "    print('Location of the minimum:', sol.position)\n",
    "    print('Number of iterations:', sol.num_iterations)\n",
    "    print('Objetive value:', sol.objective_value)\n",
    "    val =  sol.objective_value\n",
    "\n",
    "\n",
    "#-9.37196472 -8.44134184 -8.66419531  #3.695661944942129e-62 \n",
    "#-9.37196472 10.44134184 10.66419531   #3.695661944942129e-62"
   ]
  },
  {
   "cell_type": "code",
   "execution_count": 300,
   "metadata": {},
   "outputs": [],
   "source": [
    "def make_val_and_grad_fn(value_fn):\n",
    "  @functools.wraps(value_fn)\n",
    "  def val_and_grad(x):\n",
    "    return tfp.math.value_and_gradient(value_fn, x)\n",
    "  return val_and_grad\n",
    "\n",
    "\n",
    "\n",
    "@contextlib.contextmanager\n",
    "def timed_execution():\n",
    "  t0 = time.time()\n",
    "  yield\n",
    "  dt = time.time() - t0\n",
    "  print('Evaluation took: %f seconds' % dt)\n",
    "\n",
    "\n",
    "def np_value(tensor):\n",
    "  \"\"\"Get numpy value out of possibly nested tuple of tensors.\"\"\"\n",
    "  if isinstance(tensor, tuple):\n",
    "    return type(tensor)(*(np_value(t) for t in tensor))\n",
    "  else:\n",
    "    return tensor.numpy()\n",
    "\n",
    "def run(optimizer):\n",
    "  \"\"\"Run an optimizer and measure it's evaluation time.\"\"\"\n",
    "  optimizer(x)  # Warmup.\n",
    "  with timed_execution():\n",
    "    result = optimizer(x)\n",
    "  return np_value(result)"
   ]
  },
  {
   "cell_type": "code",
   "execution_count": 301,
   "metadata": {},
   "outputs": [],
   "source": [
    "\n",
    "tol_m = 7.163690026134705e-62\n",
    "val=1\n",
    "\n",
    "while val>tol_m:\n",
    "    init = tf.constant(np.random.uniform(-1, 10, size=3), dtype=dtype)\n",
    "    sol = run(quadratic_with_lbfgs(init))\n",
    "    print('----LBFGS----')\n",
    "    print('Converged:', sol.converged)\n",
    "    print('Location of the minimum:', sol.position)\n",
    "    print('Number of iterations:', sol.num_iterations)\n",
    "    print('Objetive value:', sol.objective_value)\n",
    "    val =  sol.objective_value\n",
    "\n",
    "\n",
    "#-9.37196472 -8.44134184 -8.66419531  #3.695661944942129e-62 \n",
    "#-9.37196472 10.44134184 10.66419531   #3.695661944942129e-62"
   ]
  },
  {
   "cell_type": "code",
   "execution_count": 302,
   "metadata": {},
   "outputs": [],
   "source": [
    "def make_val_and_grad_fn(value_fn):\n",
    "  @functools.wraps(value_fn)\n",
    "  def val_and_grad(x):\n",
    "    return tfp.math.value_and_gradient(value_fn, x)\n",
    "  return val_and_grad\n",
    "\n",
    "\n",
    "\n",
    "@contextlib.contextmanager\n",
    "def timed_execution():\n",
    "  t0 = time.time()\n",
    "  yield\n",
    "  dt = time.time() - t0\n",
    "  print('Evaluation took: %f seconds' % dt)\n",
    "\n",
    "\n",
    "def np_value(tensor):\n",
    "  \"\"\"Get numpy value out of possibly nested tuple of tensors.\"\"\"\n",
    "  if isinstance(tensor, tuple):\n",
    "    return type(tensor)(*(np_value(t) for t in tensor))\n",
    "  else:\n",
    "    return tensor.numpy()\n",
    "\n",
    "def run(optimizer):\n",
    "  \"\"\"Run an optimizer and measure it's evaluation time.\"\"\"\n",
    "  optimizer()  # Warmup.\n",
    "  with timed_execution():\n",
    "    result = optimizer()\n",
    "  return np_value(result)"
   ]
  },
  {
   "cell_type": "code",
   "execution_count": 303,
   "metadata": {},
   "outputs": [],
   "source": [
    "\n",
    "tol_m = 7.163690026134705e-62\n",
    "val=1\n",
    "\n",
    "while val>tol_m:\n",
    "    init = tf.constant(np.random.uniform(-1, 10, size=3), dtype=dtype)\n",
    "    sol = run(quadratic_with_lbfgs(init))\n",
    "    print('----LBFGS----')\n",
    "    print('Converged:', sol.converged)\n",
    "    print('Location of the minimum:', sol.position)\n",
    "    print('Number of iterations:', sol.num_iterations)\n",
    "    print('Objetive value:', sol.objective_value)\n",
    "    val =  sol.objective_value\n",
    "\n",
    "\n",
    "#-9.37196472 -8.44134184 -8.66419531  #3.695661944942129e-62 \n",
    "#-9.37196472 10.44134184 10.66419531   #3.695661944942129e-62"
   ]
  },
  {
   "cell_type": "code",
   "execution_count": 304,
   "metadata": {},
   "outputs": [],
   "source": [
    "\n",
    "tol_m = 7.163690026134705e-62\n",
    "val=1\n",
    "\n",
    "while val>tol_m:\n",
    "    init = tf.constant(np.random.uniform(-1, 10, size=3), dtype=dtype)\n",
    "    sol = quadratic_with_lbfgs(init)\n",
    "    print('----LBFGS----')\n",
    "    print('Converged:', sol.converged)\n",
    "    print('Location of the minimum:', sol.position)\n",
    "    print('Number of iterations:', sol.num_iterations)\n",
    "    print('Objetive value:', sol.objective_value)\n",
    "    val =  sol.objective_value\n",
    "\n",
    "\n",
    "#-9.37196472 -8.44134184 -8.66419531  #3.695661944942129e-62 \n",
    "#-9.37196472 10.44134184 10.66419531   #3.695661944942129e-62"
   ]
  },
  {
   "cell_type": "code",
   "execution_count": 305,
   "metadata": {},
   "outputs": [],
   "source": [
    "\n",
    "tol_m = 7.163690026134705e-62\n",
    "val=1\n",
    "\n",
    "while val>tol_m:\n",
    "    init = tf.constant(np.random.uniform(-1, 10, size=3), dtype=dtype)\n",
    "    sol = np_value(quadratic_with_lbfgs(init))\n",
    "    print('----LBFGS----')\n",
    "    print('Converged:', sol.converged)\n",
    "    print('Location of the minimum:', sol.position)\n",
    "    print('Number of iterations:', sol.num_iterations)\n",
    "    print('Objetive value:', sol.objective_value)\n",
    "    val =  sol.objective_value\n",
    "\n",
    "\n",
    "#-9.37196472 -8.44134184 -8.66419531  #3.695661944942129e-62 \n",
    "#-9.37196472 10.44134184 10.66419531   #3.695661944942129e-62"
   ]
  },
  {
   "cell_type": "code",
   "execution_count": 306,
   "metadata": {},
   "outputs": [],
   "source": [
    "\n",
    "tol_m = 7.163690026134705e-65\n",
    "val=1\n",
    "\n",
    "while val>tol_m:\n",
    "    init = tf.constant(np.random.uniform(-1, 10, size=3), dtype=dtype)\n",
    "    sol = np_value(quadratic_with_lbfgs(init))\n",
    "    print('----LBFGS----')\n",
    "    print('Converged:', sol.converged)\n",
    "    print('Location of the minimum:', sol.position)\n",
    "    print('Number of iterations:', sol.num_iterations)\n",
    "    print('Objetive value:', sol.objective_value)\n",
    "    val =  sol.objective_value\n",
    "\n",
    "\n",
    "#-9.37196472 -8.44134184 -8.66419531  #3.695661944942129e-62 \n",
    "#-9.37196472 10.44134184 10.66419531   #3.695661944942129e-62"
   ]
  },
  {
   "cell_type": "code",
   "execution_count": 307,
   "metadata": {},
   "outputs": [],
   "source": [
    "\n",
    "tol_m = 7.163690026134705e-65\n",
    "val=1\n",
    "\n",
    "while val>tol_m:\n",
    "    init = tf.constant(np.random.uniform(-10, 10, size=3), dtype=dtype)\n",
    "    sol = np_value(quadratic_with_lbfgs(init))\n",
    "    print('----LBFGS----')\n",
    "    print(f'init = {init}')\n",
    "    print('Converged:', sol.converged)\n",
    "    print('Location of the minimum:', sol.position)\n",
    "    print('Number of iterations:', sol.num_iterations)\n",
    "    print('Objetive value:', sol.objective_value)\n",
    "    val =  sol.objective_value\n",
    "\n",
    "\n",
    "#-9.37196472 -8.44134184 -8.66419531  #3.695661944942129e-62 \n",
    "#-9.37196472 10.44134184 10.66419531   #3.695661944942129e-62"
   ]
  },
  {
   "cell_type": "code",
   "execution_count": 308,
   "metadata": {},
   "outputs": [],
   "source": [
    "\n",
    "tol_m = 5e-63\n",
    "val=1\n",
    "\n",
    "while val>tol_m:\n",
    "    init = tf.constant(np.random.uniform(-10, 10, size=3), dtype=dtype)\n",
    "    sol = np_value(quadratic_with_lbfgs(init))\n",
    "    print('----LBFGS----')\n",
    "    print(f'init = {init}')\n",
    "    print('Converged:', sol.converged)\n",
    "    print('Location of the minimum:', sol.position)\n",
    "    print('Number of iterations:', sol.num_iterations)\n",
    "    print('Objetive value:', sol.objective_value)\n",
    "    val =  sol.objective_value\n",
    "\n",
    "\n",
    "#-9.37196472 -8.44134184 -8.66419531  #3.695661944942129e-62 \n",
    "#-9.37196472 10.44134184 10.66419531   #3.695661944942129e-62"
   ]
  },
  {
   "cell_type": "code",
   "execution_count": 309,
   "metadata": {},
   "outputs": [],
   "source": [
    "@tf.function\n",
    "def quadratic_with_lbfgs(init):\n",
    "  return tfp.optimizer.lbfgs_minimize(\n",
    "  tflow2,\n",
    "  initial_position=init,\n",
    "  parallel_iterations =10,\n",
    "  num_correction_pairs=5,\n",
    "  tolerance=0,\n",
    "  max_iterations=10000,\n",
    "  max_line_search_iterations=50000)\n",
    "\n",
    "print(10*'-' + 'LBFGS' + 10*'-')"
   ]
  },
  {
   "cell_type": "code",
   "execution_count": 310,
   "metadata": {},
   "outputs": [],
   "source": [
    "@tf.function\n",
    "def quadratic_with_lbfgs(init):\n",
    "  return tfp.optimizer.lbfgs_minimize(\n",
    "  tflow2,\n",
    "  initial_position=init,\n",
    "  parallel_iterations =10,\n",
    "  num_correction_pairs=5,\n",
    "  tolerance=0,\n",
    "  max_iterations=10000,\n",
    "  max_line_search_iterations=50000)"
   ]
  },
  {
   "cell_type": "code",
   "execution_count": 311,
   "metadata": {},
   "outputs": [],
   "source": [
    "\n",
    "tol_m = 5e-62\n",
    "val=1\n",
    "\n",
    "while val>tol_m:\n",
    "    init = tf.constant(np.random.uniform(-10, 10, size=3), dtype=dtype)\n",
    "    sol = np_value(quadratic_with_lbfgs(init))\n",
    "    print(15*'-' + 'LBFGS' + 15*'-')\n",
    "    print(f'init = {init}')\n",
    "    print('Converged:', sol.converged)\n",
    "    print('Location of the minimum:', sol.position)\n",
    "    print('Number of iterations:', sol.num_iterations)\n",
    "    print('Objetive value:', sol.objective_value)\n",
    "    val =  sol.objective_value\n",
    "\n",
    "\n",
    "#-9.37196472 -8.44134184 -8.66419531  #3.695661944942129e-62 \n",
    "#-9.37196472 10.44134184 10.66419531   #3.695661944942129e-62"
   ]
  },
  {
   "cell_type": "code",
   "execution_count": 312,
   "metadata": {},
   "outputs": [],
   "source": [
    "\n",
    "tol_m = 3e-62\n",
    "val=1\n",
    "\n",
    "while val>tol_m:\n",
    "    init = tf.constant(np.random.uniform(-10, 10, size=3), dtype=dtype)\n",
    "    sol = np_value(quadratic_with_lbfgs(init))\n",
    "    print(15*'-' + 'LBFGS' + 15*'-')\n",
    "    print(f'init = {init}')\n",
    "    print('Converged:', sol.converged)\n",
    "    print('Location of the minimum:', sol.position)\n",
    "    print('Number of iterations:', sol.num_iterations)\n",
    "    print('Objetive value:', sol.objective_value)\n",
    "    val =  sol.objective_value\n",
    "\n",
    "\n",
    "#-9.37196472 -8.44134184 -8.66419531  #3.695661944942129e-62 \n",
    "#-9.37196472 10.44134184 10.66419531   #3.695661944942129e-62"
   ]
  },
  {
   "cell_type": "code",
   "execution_count": 313,
   "metadata": {},
   "outputs": [],
   "source": [
    "\n",
    "tol_m = 3.5e-62\n",
    "val=1\n",
    "\n",
    "while val>tol_m:\n",
    "    init = tf.constant(np.random.uniform(-10, 10, size=3), dtype=dtype)\n",
    "    sol = np_value(quadratic_with_lbfgs(init))\n",
    "    print(15*'-' + 'LBFGS' + 15*'-')\n",
    "    print(f'init = {init}')\n",
    "    print('Converged:', sol.converged)\n",
    "    print('Location of the minimum:', sol.position)\n",
    "    print('Number of iterations:', sol.num_iterations)\n",
    "    print('Objetive value:', sol.objective_value)\n",
    "    val =  sol.objective_value\n",
    "\n",
    "\n",
    "#-9.37196472 -8.44134184 -8.66419531  #3.695661944942129e-62 \n",
    "#-9.37196472 10.44134184 10.66419531   #3.695661944942129e-62"
   ]
  },
  {
   "cell_type": "code",
   "execution_count": 314,
   "metadata": {},
   "outputs": [],
   "source": [
    "\n",
    "tol_m = 3e-62\n",
    "val=1\n",
    "\n",
    "while val>tol_m:\n",
    "    init = tf.constant(np.random.uniform(-10, 10, size=3), dtype=dtype)\n",
    "    sol = np_value(quadratic_with_lbfgs(init))\n",
    "    print(15*'-' + 'LBFGS' + 15*'-')\n",
    "    print(f'init = {init}')\n",
    "    print('Converged:', sol.converged)\n",
    "    print('Location of the minimum:', sol.position)\n",
    "    print('Number of iterations:', sol.num_iterations)\n",
    "    print('Objetive value:', sol.objective_value)\n",
    "    val =  sol.objective_value"
   ]
  },
  {
   "cell_type": "code",
   "execution_count": 315,
   "metadata": {},
   "outputs": [],
   "source": [
    "\n",
    "tol_m = 3.5e-62\n",
    "val=1\n",
    "\n",
    "while val>tol_m:\n",
    "    init = tf.constant(np.random.uniform(-10, 10, size=3), dtype=dtype)\n",
    "    sol = np_value(quadratic_with_lbfgs(init))\n",
    "    print(15*'-' + 'LBFGS' + 15*'-')\n",
    "    print(f'init = {init}')\n",
    "    print('Converged:', sol.converged)\n",
    "    print('Location of the minimum:', sol.position)\n",
    "    print('Number of iterations:', sol.num_iterations)\n",
    "    print('Objetive value:', sol.objective_value)\n",
    "    val =  sol.objective_value"
   ]
  },
  {
   "cell_type": "code",
   "execution_count": 316,
   "metadata": {},
   "outputs": [],
   "source": [
    "@tf.function\n",
    "def quadratic_with_lbfgs(init):\n",
    "  return tfp.optimizer.lbfgs_minimize(\n",
    "  tflow2,\n",
    "  initial_position=init,\n",
    "  parallel_iterations =100,\n",
    "  num_correction_pairs=5,\n",
    "  tolerance=0,\n",
    "  max_iterations=10000,\n",
    "  max_line_search_iterations=50000)"
   ]
  },
  {
   "cell_type": "code",
   "execution_count": 317,
   "metadata": {},
   "outputs": [],
   "source": [
    "\n",
    "tol_m = 3.5e-62\n",
    "val=1\n",
    "\n",
    "while val>tol_m:\n",
    "    init = tf.constant(np.random.uniform(-10, 10, size=3), dtype=dtype)\n",
    "    sol = np_value(quadratic_with_lbfgs(init))\n",
    "    print(15*'-' + 'LBFGS' + 15*'-')\n",
    "    print(f'init = {init}')\n",
    "    print('Converged:', sol.converged)\n",
    "    print('Location of the minimum:', sol.position)\n",
    "    print('Number of iterations:', sol.num_iterations)\n",
    "    print('Objetive value:', sol.objective_value)\n",
    "    val =  sol.objective_value"
   ]
  },
  {
   "cell_type": "code",
   "execution_count": 318,
   "metadata": {},
   "outputs": [],
   "source": [
    "\n",
    "tol_m = 4.5e-62\n",
    "val=1\n",
    "c = 0\n",
    "while val>tol_m:\n",
    "    c += 1\n",
    "    init = tf.constant(np.random.uniform(-10, 10, size=3), dtype=dtype)\n",
    "    sol = np_value(quadratic_with_lbfgs(init))\n",
    "    print(15*'-' + 'LBFGS' + 15*'-'+ f('Iteração: {c}'))\n",
    "    print(f'init = {init}')\n",
    "    print('Converged:', sol.converged)\n",
    "    print('Location of the minimum:', sol.position)\n",
    "    print('Number of iterations:', sol.num_iterations)\n",
    "    print('Objetive value:', sol.objective_value)\n",
    "    val =  sol.objective_value"
   ]
  },
  {
   "cell_type": "code",
   "execution_count": 319,
   "metadata": {},
   "outputs": [],
   "source": [
    "\n",
    "tol_m = 4.5e-62\n",
    "val=1\n",
    "c = 0\n",
    "while val>tol_m:\n",
    "    c += 1\n",
    "    init = tf.constant(np.random.uniform(-10, 10, size=3), dtype=dtype)\n",
    "    sol = np_value(quadratic_with_lbfgs(init))\n",
    "    print(15*'-' + 'LBFGS' + 15*'-'+ (f'Iteração: {c}'))\n",
    "    print(f'init = {init}')\n",
    "    print('Converged:', sol.converged)\n",
    "    print('Location of the minimum:', sol.position)\n",
    "    print('Number of iterations:', sol.num_iterations)\n",
    "    print('Objetive value:', sol.objective_value)\n",
    "    val =  sol.objective_value"
   ]
  },
  {
   "cell_type": "code",
   "execution_count": 320,
   "metadata": {},
   "outputs": [],
   "source": [
    "\n",
    "tol_m = 4e-62\n",
    "val=1\n",
    "c = 0\n",
    "while val>tol_m:\n",
    "    c += 1\n",
    "    init = tf.constant(np.random.uniform(-10, 10, size=3), dtype=dtype)\n",
    "    sol = np_value(quadratic_with_lbfgs(init))\n",
    "    print(15*'-' + 'LBFGS' + 15*'-'+ ' ' + (f'Iteração: {c}'))\n",
    "    print(f'init = {init}')\n",
    "    print('Converged:', sol.converged)\n",
    "    print('Location of the minimum:', sol.position)\n",
    "    print('Number of iterations:', sol.num_iterations)\n",
    "    print('Objetive value:', sol.objective_value)\n",
    "    val =  sol.objective_value"
   ]
  },
  {
   "cell_type": "code",
   "execution_count": 321,
   "metadata": {},
   "outputs": [],
   "source": [
    "\n",
    "tol_m = 3.695661944942129e-62\n",
    "val=1\n",
    "c = 0\n",
    "while val>tol_m:\n",
    "    c += 1\n",
    "    init = tf.constant(np.random.uniform(-10, 10, size=3), dtype=dtype)\n",
    "    sol = np_value(quadratic_with_lbfgs(init))\n",
    "    print(15*'-' + 'LBFGS' + 15*'-'+ ' ' + (f'Iteração: {c}'))\n",
    "    print(f'init = {init}')\n",
    "    print('Converged:', sol.converged)\n",
    "    print('Location of the minimum:', sol.position)\n",
    "    print('Number of iterations:', sol.num_iterations)\n",
    "    print('Objetive value:', sol.objective_value)\n",
    "    val =  sol.objective_value"
   ]
  },
  {
   "cell_type": "code",
   "execution_count": 322,
   "metadata": {},
   "outputs": [],
   "source": [
    "\n",
    "tol_m = 3.68e-62\n",
    "\n",
    "val=1\n",
    "c = 0\n",
    "while val>tol_m:\n",
    "    c += 1\n",
    "    init = tf.constant(np.random.uniform(-10, 10, size=3), dtype=dtype)\n",
    "    sol = np_value(quadratic_with_lbfgs(init))\n",
    "    print(15*'-' + 'LBFGS' + 15*'-'+ ' ' + (f'Iteração: {c}'))\n",
    "    print(f'init = {init}')\n",
    "    print('Converged:', sol.converged)\n",
    "    print('Location of the minimum:', sol.position)\n",
    "    print('Number of iterations:', sol.num_iterations)\n",
    "    print('Objetive value:', sol.objective_value)\n",
    "    val =  sol.objective_value"
   ]
  },
  {
   "cell_type": "code",
   "execution_count": 323,
   "metadata": {},
   "outputs": [],
   "source": [
    "@make_val_and_grad_fn\n",
    "def tflow2(x1):    \n",
    "    global w   \n",
    "    w=lin_sys(x1)\n",
    "    x1=tf.reshape(x1, (1, 3))\n",
    "    tf.convert_to_tensor(x1, tf.float64)\n",
    "    W_im = W_i_f(x1)[0]    \n",
    "    D = 100000*tf.reduce_sum(tf.pow( tf.divide(tf.math.squared_difference(W_id, W_im), W_id ) , 2)) \n",
    "    #D = tf.math.log(D)\n",
    "    return D"
   ]
  },
  {
   "cell_type": "code",
   "execution_count": 324,
   "metadata": {},
   "outputs": [],
   "source": [
    "@tf.function\n",
    "def quadratic_with_lbfgs(init):\n",
    "  return tfp.optimizer.lbfgs_minimize(\n",
    "  tflow2,\n",
    "  initial_position=init,\n",
    "  parallel_iterations =100,\n",
    "  num_correction_pairs=5,\n",
    "  tolerance=0,\n",
    "  max_iterations=10000,\n",
    "  max_line_search_iterations=50000)"
   ]
  },
  {
   "cell_type": "code",
   "execution_count": 325,
   "metadata": {},
   "outputs": [],
   "source": [
    "\n",
    "tol_m = 3.58e-62\n",
    "\n",
    "val=1\n",
    "c = 0\n",
    "while val>tol_m:\n",
    "    c += 1\n",
    "    init = tf.constant(np.random.uniform(-10, 10, size=3), dtype=dtype)\n",
    "    sol = np_value(quadratic_with_lbfgs(init))\n",
    "    print(15*'-' + 'LBFGS' + 15*'-'+ ' ' + (f'Iteração: {c}'))\n",
    "    print(f'init = {init}')\n",
    "    print('Converged:', sol.converged)\n",
    "    print('Location of the minimum:', sol.position)\n",
    "    print('Number of iterations:', sol.num_iterations)\n",
    "    print('Objetive value:', sol.objective_value)\n",
    "    val =  sol.objective_value"
   ]
  },
  {
   "cell_type": "code",
   "execution_count": 326,
   "metadata": {},
   "outputs": [],
   "source": [
    "st = 3\n",
    "ano= 15\n",
    "x1 = taus(st)\n",
    "pars(ano)\n",
    "matrix()\n",
    "get_W_i(ano)\n",
    "get_p_i(ano)\n",
    "cc=0\n",
    "\n",
    "#optim_results = tfp.optimizer.lbfgs_minimize(\n",
    "#      tflow,\n",
    "#      x1,\n",
    "#      num_correction_pairs=10,\n",
    "#      tolerance=1e-8)\n",
    "\n",
    "\n",
    "dtype= tf.float64\n",
    "start = tf.constant(np.array([-20, 0.56, 20.3]), dtype=dtype)\n",
    "\n",
    "\n",
    "def nelder_mead():\n",
    "  return tfp.optimizer.nelder_mead_minimize(\n",
    "  tflow,\n",
    "  initial_vertex=start,\n",
    "  parallel_iterations =100,\n",
    "  shrinkage=0.3,\n",
    "  func_tolerance=0,\n",
    "  position_tolerance=0.9e-14)"
   ]
  },
  {
   "cell_type": "code",
   "execution_count": 327,
   "metadata": {},
   "outputs": [],
   "source": [
    "sol = run(nelder_mead)\n",
    "print('Nelder-Mead')\n",
    "print('Converged:', sol.converged)\n",
    "print('Location of the minimum:', sol.position)\n",
    "print('Number of iterations:', sol.num_iterations)\n",
    "print('Objetive value:',sol.objective_value)\n",
    "\n",
    "#-9.37196472 -8.44134184 10.66419531 # 7.878255910098147e-62"
   ]
  },
  {
   "cell_type": "code",
   "execution_count": 328,
   "metadata": {},
   "outputs": [],
   "source": [
    "sol = run(nelder_mead)\n",
    "print('Nelder-Mead')\n",
    "print('Converged:', sol.converged)\n",
    "print('Location of the minimum:', sol.position)\n",
    "print('Number of iterations:', sol.num_iterations)\n",
    "print('Objetive value:',sol.objective_value)\n",
    "\n",
    "#-9.37196472 -8.44134184 10.66419531 # 7.878255910098147e-62"
   ]
  },
  {
   "cell_type": "code",
   "execution_count": 329,
   "metadata": {},
   "outputs": [],
   "source": [
    "def N_if(x1):\n",
    "    S = tf.pow(s, phi*(theta*lamb+ kappa) )\n",
    "    S2 =tf.pow((1 - s), ( (theta*lamb)/(beta*kappa) ) )\n",
    "    H = tf.pow((1 + x1[0]), (theta*lamb + kappa))    \n",
    "    C = tf.multiply(tf.multiply(tf.pow(psi, theta*lamb), eta**gamma1 ), G )\n",
    "    N_i = tf.multiply(S, tf.multiply(S2, tf.multiply(H, C)) )\n",
    "    return N_i"
   ]
  },
  {
   "cell_type": "code",
   "execution_count": 330,
   "metadata": {},
   "outputs": [],
   "source": [
    "def w_til_f(x1):\n",
    "    #w = lin_sys(x1)\n",
    "    #print(f'w = {w}')\n",
    "    S = tf.pow(s, phi)\n",
    "    S2 = tf.pow( (1 - s), 1/(beta*kappa) )\n",
    "    H = 1 + x1[0]\n",
    "    w_til = tf.multiply(psi, tf.multiply(H, tf.multiply(S, tf.multiply(w , S2))))\n",
    "    return w_til\n",
    "\n",
    "   "
   ]
  },
  {
   "cell_type": "code",
   "execution_count": 331,
   "metadata": {},
   "outputs": [],
   "source": [
    "sol = run(nelder_mead)\n",
    "print('Nelder-Mead')\n",
    "print('Converged:', sol.converged)\n",
    "print('Location of the minimum:', sol.position)\n",
    "print('Number of iterations:', sol.num_iterations)\n",
    "print('Objetive value:',sol.objective_value)\n",
    "\n",
    "#-9.37196472 -8.44134184 10.66419531 # 7.878255910098147e-62"
   ]
  },
  {
   "cell_type": "code",
   "execution_count": 332,
   "metadata": {},
   "outputs": [],
   "source": [
    "sol = run(nelder_mead)\n",
    "print('Nelder-Mead')\n",
    "print('Converged:', sol.converged)\n",
    "print('Location of the minimum:', sol.position)\n",
    "print('Number of iterations:', sol.num_iterations)\n",
    "print('Objetive value:',sol.objective_value)\n",
    "\n",
    "#-9.37196472 -8.44134184 10.66419531 # 7.878255910098147e-62"
   ]
  },
  {
   "cell_type": "code",
   "execution_count": 333,
   "metadata": {},
   "outputs": [],
   "source": [
    "sol = run(nelder_mead)\n",
    "print('Nelder-Mead')\n",
    "print('Converged:', sol.converged)\n",
    "print('Location of the minimum:', sol.position)\n",
    "print('Number of iterations:', sol.num_iterations)\n",
    "print('Objetive value:',sol.objective_value)\n",
    "\n",
    "#-11.37196472   8.44134184   8.66419531 # 4.231891940474952e-62"
   ]
  },
  {
   "cell_type": "code",
   "execution_count": 334,
   "metadata": {},
   "outputs": [],
   "source": [
    "st = 3\n",
    "ano= 15\n",
    "x1 = taus(st)\n",
    "pars(ano)\n",
    "matrix()\n",
    "get_W_i(ano)\n",
    "get_p_i(ano)\n",
    "cc=0\n",
    "\n",
    "\n",
    "\n",
    "dtype= tf.float64\n",
    "start = tf.constant(np.array([20, 0.56, 20.3]), dtype=dtype)\n",
    "\n",
    "\n",
    "def nelder_mead():\n",
    "  return tfp.optimizer.nelder_mead_minimize(\n",
    "  tflow,\n",
    "  initial_vertex=start,\n",
    "  parallel_iterations =100,\n",
    "  shrinkage=0.3,\n",
    "  func_tolerance=0,\n",
    "  position_tolerance=0.9e-14)"
   ]
  },
  {
   "cell_type": "code",
   "execution_count": 335,
   "metadata": {},
   "outputs": [],
   "source": [
    "sol = run(nelder_mead)\n",
    "print('Nelder-Mead')\n",
    "print('Converged:', sol.converged)\n",
    "print('Location of the minimum:', sol.position)\n",
    "print('Number of iterations:', sol.num_iterations)\n",
    "print('Objetive value:',sol.objective_value)\n",
    "\n",
    "#-11.37196472   8.44134184   8.66419531 # 4.231891940474952e-62"
   ]
  },
  {
   "cell_type": "code",
   "execution_count": 336,
   "metadata": {},
   "outputs": [],
   "source": [
    "st = 3\n",
    "ano= 15\n",
    "x1 = taus(st)\n",
    "pars(ano)\n",
    "matrix()\n",
    "get_W_i(ano)\n",
    "get_p_i(ano)\n",
    "cc=0\n",
    "\n",
    "\n",
    "\n",
    "dtype= tf.float64\n",
    "start = tf.constant(np.array([10, -0.56, 20.3]), dtype=dtype)\n",
    "\n",
    "\n",
    "def nelder_mead():\n",
    "  return tfp.optimizer.nelder_mead_minimize(\n",
    "  tflow,\n",
    "  initial_vertex=start,\n",
    "  parallel_iterations =100,\n",
    "  shrinkage=0.3,\n",
    "  func_tolerance=0,\n",
    "  position_tolerance=0.9e-14)"
   ]
  },
  {
   "cell_type": "code",
   "execution_count": 337,
   "metadata": {},
   "outputs": [],
   "source": [
    "sol = run(nelder_mead)\n",
    "print('Nelder-Mead')\n",
    "print('Converged:', sol.converged)\n",
    "print('Location of the minimum:', sol.position)\n",
    "print('Number of iterations:', sol.num_iterations)\n",
    "print('Objetive value:',sol.objective_value)\n",
    "\n",
    "#-11.37196472   8.44134184   8.66419531 # 4.231891940474952e-62"
   ]
  },
  {
   "cell_type": "code",
   "execution_count": 338,
   "metadata": {},
   "outputs": [],
   "source": [
    "sol = run(nelder_mead)\n",
    "print('Nelder-Mead')\n",
    "print('Converged:', sol.converged)\n",
    "print('Location of the minimum:', sol.position)\n",
    "print('Number of iterations:', sol.num_iterations)\n",
    "print('Objetive value:',sol.objective_value)\n",
    "\n",
    "#-11.37196472   8.44134184   8.66419531 # 4.231891940474952e-62"
   ]
  },
  {
   "cell_type": "code",
   "execution_count": 339,
   "metadata": {},
   "outputs": [],
   "source": [
    "st = 3\n",
    "ano= 15\n",
    "x1 = taus(st)\n",
    "pars(ano)\n",
    "matrix()\n",
    "get_W_i(ano)\n",
    "get_p_i(ano)\n",
    "cc=0\n",
    "\n",
    "\n",
    "\n",
    "dtype= tf.float64\n",
    "start = tf.constant(np.array([10, -0.56, -20.3]), dtype=dtype)\n",
    "\n",
    "\n",
    "def nelder_mead():\n",
    "  return tfp.optimizer.nelder_mead_minimize(\n",
    "  tflow,\n",
    "  initial_vertex=start,\n",
    "  parallel_iterations =100,\n",
    "  shrinkage=0.3,\n",
    "  func_tolerance=0,\n",
    "  position_tolerance=0.9e-14)"
   ]
  },
  {
   "cell_type": "code",
   "execution_count": 340,
   "metadata": {},
   "outputs": [],
   "source": [
    "sol = run(nelder_mead)\n",
    "print('Nelder-Mead')\n",
    "print('Converged:', sol.converged)\n",
    "print('Location of the minimum:', sol.position)\n",
    "print('Number of iterations:', sol.num_iterations)\n",
    "print('Objetive value:',sol.objective_value)\n",
    "\n",
    "#-11.37196472   8.44134184   8.66419531 # 4.231891940474952e-62"
   ]
  },
  {
   "cell_type": "code",
   "execution_count": 341,
   "metadata": {},
   "outputs": [],
   "source": [
    "st = 3\n",
    "ano= 15\n",
    "x1 = taus(st)\n",
    "pars(ano)\n",
    "matrix()\n",
    "get_W_i(ano)\n",
    "get_p_i(ano)\n",
    "cc=0\n",
    "\n",
    "\n",
    "\n",
    "dtype= tf.float64\n",
    "start = tf.constant(np.array([0, -0.0, 0.3]), dtype=dtype)\n",
    "\n",
    "\n",
    "def nelder_mead():\n",
    "  return tfp.optimizer.nelder_mead_minimize(\n",
    "  tflow,\n",
    "  initial_vertex=start,\n",
    "  parallel_iterations =100,\n",
    "  shrinkage=0.3,\n",
    "  func_tolerance=0,\n",
    "  position_tolerance=0.9e-14)"
   ]
  },
  {
   "cell_type": "code",
   "execution_count": 342,
   "metadata": {},
   "outputs": [],
   "source": [
    "sol = run(nelder_mead)\n",
    "print('Nelder-Mead')\n",
    "print('Converged:', sol.converged)\n",
    "print('Location of the minimum:', sol.position)\n",
    "print('Number of iterations:', sol.num_iterations)\n",
    "print('Objetive value:',sol.objective_value)\n",
    "\n",
    "#-11.37196472   8.44134184   8.66419531 # 4.231891940474952e-62"
   ]
  },
  {
   "cell_type": "code",
   "execution_count": 343,
   "metadata": {},
   "outputs": [],
   "source": [
    "st = 3\n",
    "ano= 15\n",
    "x1 = taus(st)\n",
    "pars(ano)\n",
    "matrix()\n",
    "get_W_i(ano)\n",
    "get_p_i(ano)\n",
    "cc=0\n",
    "\n",
    "\n",
    "\n",
    "dtype= tf.float64\n",
    "start = tf.constant(np.array([0, -0.0, 0.3]), dtype=dtype)\n",
    "\n",
    "\n",
    "def nelder_mead():\n",
    "  return tfp.optimizer.nelder_mead_minimize(\n",
    "  tflow,\n",
    "  initial_vertex=start,\n",
    "  parallel_iterations =100,\n",
    "  shrinkage=0.3,\n",
    "  func_tolerance=0,\n",
    "  position_tolerance=0.9e-14)"
   ]
  },
  {
   "cell_type": "code",
   "execution_count": 344,
   "metadata": {},
   "outputs": [],
   "source": [
    "sol = run(nelder_mead)\n",
    "print('Nelder-Mead')\n",
    "print('Converged:', sol.converged)\n",
    "print('Location of the minimum:', sol.position)\n",
    "print('Number of iterations:', sol.num_iterations)\n",
    "print('Objetive value:',sol.objective_value)\n",
    "\n",
    "#-11.37196472   8.44134184   8.66419531 # 4.231891940474952e-62"
   ]
  },
  {
   "cell_type": "code",
   "execution_count": 345,
   "metadata": {},
   "outputs": [],
   "source": [
    "st = 3\n",
    "ano= 15\n",
    "x1 = taus(st)\n",
    "pars(ano)\n",
    "matrix()\n",
    "get_W_i(ano)\n",
    "get_p_i(ano)\n",
    "cc=0\n",
    "\n",
    "\n",
    "\n",
    "dtype= tf.float64\n",
    "start = tf.constant(np.array([0, -0.0, 0.0]), dtype=dtype)\n",
    "\n",
    "\n",
    "def nelder_mead():\n",
    "  return tfp.optimizer.nelder_mead_minimize(\n",
    "  tflow,\n",
    "  initial_vertex=start,\n",
    "  parallel_iterations =100,\n",
    "  shrinkage=0.3,\n",
    "  func_tolerance=0,\n",
    "  position_tolerance=0.9e-14)"
   ]
  },
  {
   "cell_type": "code",
   "execution_count": 346,
   "metadata": {},
   "outputs": [],
   "source": [
    "sol = run(nelder_mead)\n",
    "print('Nelder-Mead')\n",
    "print('Converged:', sol.converged)\n",
    "print('Location of the minimum:', sol.position)\n",
    "print('Number of iterations:', sol.num_iterations)\n",
    "print('Objetive value:',sol.objective_value)\n",
    "\n",
    "#-11.37196472   8.44134184   8.66419531 # 4.231891940474952e-62"
   ]
  },
  {
   "cell_type": "code",
   "execution_count": 347,
   "metadata": {},
   "outputs": [],
   "source": [
    "st = 3\n",
    "ano= 15\n",
    "x1 = taus(st)\n",
    "pars(ano)\n",
    "matrix()\n",
    "get_W_i(ano)\n",
    "get_p_i(ano)\n",
    "cc=0\n",
    "\n",
    "\n",
    "\n",
    "dtype= tf.float64\n",
    "start = tf.constant(np.array([0.0, 1.0, 0.0]), dtype=dtype)\n",
    "\n",
    "\n",
    "def nelder_mead():\n",
    "  return tfp.optimizer.nelder_mead_minimize(\n",
    "  tflow,\n",
    "  initial_vertex=start,\n",
    "  parallel_iterations =100,\n",
    "  shrinkage=0.3,\n",
    "  func_tolerance=0,\n",
    "  position_tolerance=0.9e-14)"
   ]
  },
  {
   "cell_type": "code",
   "execution_count": 348,
   "metadata": {},
   "outputs": [],
   "source": [
    "sol = run(nelder_mead)\n",
    "print('Nelder-Mead')\n",
    "print('Converged:', sol.converged)\n",
    "print('Location of the minimum:', sol.position)\n",
    "print('Number of iterations:', sol.num_iterations)\n",
    "print('Objetive value:',sol.objective_value)\n",
    "\n",
    "#-11.37196472   8.44134184   8.66419531 # 4.231891940474952e-62"
   ]
  },
  {
   "cell_type": "code",
   "execution_count": 349,
   "metadata": {},
   "outputs": [],
   "source": [
    "st = 3\n",
    "ano= 15\n",
    "x1 = taus(st)\n",
    "pars(ano)\n",
    "matrix()\n",
    "get_W_i(ano)\n",
    "get_p_i(ano)\n",
    "cc=0\n",
    "\n",
    "\n",
    "\n",
    "dtype= tf.float64\n",
    "start = tf.constant(np.array([0.0, 0.0, 0.0]), dtype=dtype)\n",
    "\n",
    "\n",
    "def nelder_mead():\n",
    "  return tfp.optimizer.nelder_mead_minimize(\n",
    "  tflow,\n",
    "  initial_vertex=start,\n",
    "  parallel_iterations =100,\n",
    "  shrinkage=0.3,\n",
    "  func_tolerance=0,\n",
    "  position_tolerance=0.9e-14)"
   ]
  },
  {
   "cell_type": "code",
   "execution_count": 350,
   "metadata": {},
   "outputs": [],
   "source": [
    "sol = run(nelder_mead)\n",
    "print('Nelder-Mead')\n",
    "print('Converged:', sol.converged)\n",
    "print('Location of the minimum:', sol.position)\n",
    "print('Number of iterations:', sol.num_iterations)\n",
    "print('Objetive value:',sol.objective_value)\n",
    "\n",
    "#-11.37196472   8.44134184   8.66419531 # 4.231891940474952e-62"
   ]
  },
  {
   "cell_type": "code",
   "execution_count": 351,
   "metadata": {},
   "outputs": [],
   "source": [
    "st = 3\n",
    "ano= 15\n",
    "x1 = taus(st)\n",
    "pars(ano)\n",
    "matrix()\n",
    "get_W_i(ano)\n",
    "get_p_i(ano)\n",
    "cc=0\n",
    "\n",
    "\n",
    "\n",
    "dtype= tf.float64\n",
    "start = tf.constant(np.array([1.0, 3.10, -1.20]), dtype=dtype)\n",
    "\n",
    "\n",
    "def nelder_mead():\n",
    "  return tfp.optimizer.nelder_mead_minimize(\n",
    "  tflow,\n",
    "  initial_vertex=start,\n",
    "  parallel_iterations =100,\n",
    "  shrinkage=0.3,\n",
    "  func_tolerance=0,\n",
    "  position_tolerance=0.9e-14)"
   ]
  },
  {
   "cell_type": "code",
   "execution_count": 352,
   "metadata": {},
   "outputs": [],
   "source": [
    "sol = run(nelder_mead)\n",
    "print('Nelder-Mead')\n",
    "print('Converged:', sol.converged)\n",
    "print('Location of the minimum:', sol.position)\n",
    "print('Number of iterations:', sol.num_iterations)\n",
    "print('Objetive value:',sol.objective_value)\n",
    "\n",
    "#-11.37196472   8.44134184   8.66419531 # 4.231891940474952e-62"
   ]
  },
  {
   "cell_type": "code",
   "execution_count": 353,
   "metadata": {},
   "outputs": [],
   "source": [
    "sol = run(nelder_mead)\n",
    "print('Nelder-Mead')\n",
    "print('Converged:', sol.converged)\n",
    "print('Location of the minimum:', sol.position)\n",
    "print('Number of iterations:', sol.num_iterations)\n",
    "print('Objetive value:',sol.objective_value)\n",
    "\n",
    "#-11.37196472   8.44134184   8.66419531 # 4.231891940474952e-62"
   ]
  },
  {
   "cell_type": "code",
   "execution_count": 354,
   "metadata": {},
   "outputs": [],
   "source": [
    "sol = run(nelder_mead)\n",
    "\n",
    "print(15*'-' + 'Nelder-Mead' + 15*'-'+ ' ' + (f'Iteração: {c}'))\n",
    "print('Converged:', sol.converged)\n",
    "print('Location of the minimum:', sol.position)\n",
    "print('Number of iterations:', sol.num_iterations)\n",
    "print('Objetive value:',sol.objective_value)\n",
    "\n",
    "#-11.37196472   8.44134184   8.66419531 # 4.231891940474952e-62"
   ]
  },
  {
   "cell_type": "code",
   "execution_count": 355,
   "metadata": {},
   "outputs": [],
   "source": [
    "sol = run(nelder_mead)\n",
    "\n",
    "print(15*'-' + 'Nelder-Mead' + 15*'-')\n",
    "print('Converged:', sol.converged)\n",
    "print('Location of the minimum:', sol.position)\n",
    "print('Number of iterations:', sol.num_iterations)\n",
    "print('Objetive value:',sol.objective_value)\n",
    "\n",
    "#-11.37196472   8.44134184   8.66419531 # 4.231891940474952e-62"
   ]
  }
 ],
 "metadata": {},
 "nbformat": 4,
 "nbformat_minor": 4
}
