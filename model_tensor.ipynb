{
 "cells": [
  {
   "cell_type": "code",
   "execution_count": 1,
   "metadata": {},
   "outputs": [],
   "source": [
    "import contextlib\n",
    "\n",
    "\n",
    "def make_val_and_grad_fn(value_fn):\n",
    "  @functools.wraps(value_fn)\n",
    "  def val_and_grad(x):\n",
    "    return tfp.math.value_and_gradient(value_fn, x)\n",
    "  return val_and_grad\n",
    "\n",
    "\n",
    "\n",
    "@contextlib.contextmanager\n",
    "def timed_execution():\n",
    "  t0 = time.time()\n",
    "  yield\n",
    "  dt = time.time() - t0\n",
    "  print('Evaluation took: %f seconds' % dt)\n",
    "\n",
    "\n",
    "def np_value(tensor):\n",
    "  \"\"\"Get numpy value out of possibly nested tuple of tensors.\"\"\"\n",
    "  if isinstance(tensor, tuple):\n",
    "    return type(tensor)(*(np_value(t) for t in tensor))\n",
    "  else:\n",
    "    return tensor.numpy()\n",
    "\n",
    "def run(optimizer):\n",
    "  \"\"\"Run an optimizer and measure it's evaluation time.\"\"\"\n",
    "  optimizer()  # Warmup.\n",
    "  with timed_execution():\n",
    "    result = optimizer()\n",
    "  return np_value(result)"
   ]
  },
  {
   "cell_type": "code",
   "execution_count": 2,
   "metadata": {},
   "outputs": [],
   "source": [
    "import numpy as np\n",
    "from math import gamma\n",
    "import matplotlib.pyplot as plt\n",
    "from scipy.optimize import minimize\n",
    "import time\n",
    "import pandas as pd\n",
    "\n",
    "import os\n",
    "os.chdir(\"C:\\\\Users\\\\user\\\\Downloads\\\\Thesis_paper_1\\\\calibration\")\n",
    "\n",
    "np.set_printoptions(suppress=True) # supress scientific notation\n",
    "\n",
    "import matplotlib.ticker as mtick\n",
    "import locale\n",
    "locale.setlocale(locale.LC_NUMERIC, \"de_DE\")\n",
    "\n",
    "\n",
    "plt.rcParams['axes.formatter.use_locale'] = True\n",
    "\n",
    "\n",
    "\n",
    "pd.set_option('display.max_columns', 50) "
   ]
  },
  {
   "cell_type": "code",
   "execution_count": 3,
   "metadata": {},
   "outputs": [],
   "source": [
    "%notebook \"C:\\Users\\user\\Downloads\\Thesis_paper_1\\calibration\\model_tensor.ipynb\""
   ]
  },
  {
   "cell_type": "code",
   "execution_count": 4,
   "metadata": {},
   "outputs": [],
   "source": [
    "\n",
    "import tensorflow as tf\n",
    "import tensorflow_probability as tfp\n",
    "\n",
    "import functools\n",
    "\n",
    "from scipy.optimize import differential_evolution\n",
    "from scipy.optimize import basinhopping\n",
    "from scipy.optimize import shgo"
   ]
  },
  {
   "cell_type": "code",
   "execution_count": 5,
   "metadata": {},
   "outputs": [],
   "source": [
    "## parameters\n",
    "\n",
    "\n",
    "\n",
    "def get_data(year):\n",
    "    w='data_' + str(year)\n",
    "    alfa = tf.convert_to_tensor(np.array(pd.read_excel(f'{w}.xlsx').iloc[:,5], dtype='float64').reshape(1,3) )\n",
    "    phi = tf.convert_to_tensor(np.array(pd.read_excel(f'{w}.xlsx').iloc[:,4], dtype='float64').reshape(1,3) )\n",
    "    return alfa, phi\n",
    "\n",
    "\n",
    "\n",
    "def pars(year):\n",
    "    global alfa, rho, beta, theta, eta, psi, kappa, lamb, gamma1, G, phi, s\n",
    "    rho = tf.constant(0.19, tf.float64)\n",
    "    beta = tf.constant(0.231, tf.float64)\n",
    "    theta = tf.constant(2.0, tf.float64)\n",
    "    eta = tf.constant(0.103, tf.float64)\n",
    "    psi = eta**eta*(1.0-eta)**(1.0-eta)\n",
    "    kappa = tf.divide(1.0, (1.0 - eta))\n",
    "    lamb = 1 - tf.divide(kappa, theta)\n",
    "    gamma1 = tf.multiply(eta, kappa)    \n",
    "    G = tf.constant(gamma(1 - tf.divide(kappa, tf.multiply(theta, (1-rho)) ) ), tf.float64  )      \n",
    "    alfa, phi = get_data(year)\n",
    "    s = tf.pow( (1 + tf.divide( (1-eta), ( tf.multiply(beta, phi) ) ) ), -1 )\n",
    "\n",
    "\n",
    "pars(15)"
   ]
  },
  {
   "cell_type": "code",
   "execution_count": 6,
   "metadata": {},
   "outputs": [],
   "source": [
    "\n",
    "df = pd.DataFrame()\n",
    "\n",
    "l = [92, 95, 2, 15]\n",
    "\n",
    "for i in l:\n",
    "    w='data_' + str(i)\n",
    "    k ='alfa_' + str(i)\n",
    "    df[k] = np.array(pd.read_excel(f'{w}.xlsx').iloc[:,5], dtype='float64').reshape(3)\n",
    "\n",
    "\n",
    "\n",
    "df"
   ]
  },
  {
   "cell_type": "code",
   "execution_count": 7,
   "metadata": {},
   "outputs": [],
   "source": [
    "df2 = pd.DataFrame()\n",
    "\n",
    "\n",
    "for i in l:\n",
    "    w='data_' + str(i)\n",
    "    j ='phi_' + str(i)\n",
    "    df2[j] = np.array(pd.read_excel(f'{w}.xlsx').iloc[:,4], dtype='float64').reshape(3)\n",
    "\n",
    "    \n",
    "df2"
   ]
  },
  {
   "cell_type": "code",
   "execution_count": 8,
   "metadata": {},
   "outputs": [],
   "source": [
    "def s_f(phi):\n",
    "    return tf.pow( (1 + tf.divide( (1-eta), ( tf.multiply(beta, phi) ) ) ), -1 )"
   ]
  },
  {
   "cell_type": "code",
   "execution_count": 9,
   "metadata": {},
   "outputs": [],
   "source": [
    "# taus\n",
    "\n",
    "\n",
    "\n",
    "def taus(st):\n",
    "    tau_h = tf.random.uniform(maxval=10, minval=-10, shape=[1, st], dtype='float64')\n",
    "    x = np.array([tau_h])\n",
    "    x = tf.convert_to_tensor(x, tf.float64)\n",
    "    return x\n",
    "    "
   ]
  },
  {
   "cell_type": "code",
   "execution_count": 10,
   "metadata": {},
   "outputs": [],
   "source": [
    "def N_if(x1):\n",
    "    S = tf.pow(s, phi*(theta*lamb+ kappa) )\n",
    "    S2 =tf.pow((1 - s), ( (theta*lamb)/(beta*kappa) ) )\n",
    "    H = tf.pow((1 + x1[0]), (theta*lamb + kappa))    \n",
    "    C = tf.multiply(tf.multiply(tf.pow(psi, theta*lamb), eta**gamma1 ), G )\n",
    "    N_i = tf.multiply(S, tf.multiply(S2, tf.multiply(H, C)) )\n",
    "    return N_i"
   ]
  },
  {
   "cell_type": "code",
   "execution_count": 11,
   "metadata": {},
   "outputs": [],
   "source": [
    "\n",
    "#  linear system \n",
    "\n",
    "def matrix():\n",
    "    global A, B\n",
    "    A = np.repeat(alfa, st).reshape(st, st).T       # Matriz de parâmetros    \n",
    "    B = np.repeat(alfa, st).reshape(st, st).T        # Matriz de alfas \n",
    "    for i in range(st):\n",
    "        for j in range(st):\n",
    "            if i==j:\n",
    "                A[i, j] = 1 - (A[i, j] - 1)*(theta*lamb + gamma1)\n",
    "                B[i, j] = B[i, j] - 1\n",
    "            if i != j:\n",
    "                A[i, j] = -A[i, j]*(theta*lamb + gamma1) \n",
    "    A = tf.convert_to_tensor(A, tf.float64)\n",
    "    B = tf.convert_to_tensor(B, tf.float64)\n",
    "    \n",
    "\n",
    "def lin_sys(x1):\n",
    "    #global N_i\n",
    "    #print(f'x1 = {x1}')\n",
    "    N_i = N_if(x1)\n",
    "    N_i2 = tf.math.log( N_i )                                                    # Logaritmo de N_i\n",
    "    C = tf.math.log(alfa)                                                        # Logaritmo dos alfas\n",
    "    D = tf.reshape(tf.tensordot(B, tf.reshape(N_i2, (3,1)) , 1), (1, 3) ) + C    # produto matricial                     \n",
    "    res = tf.reshape(tf.exp(tf.linalg.solve(A, tf.reshape(D, (3,1)) ) ), (1,3) )  # Resolvendo o sistema  A w = D\n",
    "    #res =tf.reshape(res, (1,3))\n",
    "    return res"
   ]
  },
  {
   "cell_type": "code",
   "execution_count": 12,
   "metadata": {},
   "outputs": [],
   "source": [
    "def w_til_f(x1):\n",
    "    S = tf.pow(s, phi)\n",
    "    S2 = tf.pow( (1 - s), 1/(beta*kappa) )\n",
    "    H = 1 + x1[0]\n",
    "    w_til = tf.multiply(psi, tf.multiply(H, tf.multiply(S, tf.multiply(w , S2))))\n",
    "    return w_til\n",
    "\n",
    "   "
   ]
  },
  {
   "cell_type": "code",
   "execution_count": 13,
   "metadata": {},
   "outputs": [],
   "source": [
    "# wages - model \n",
    "\n",
    "def W_i_f(x1):\n",
    "    w_til = w_til_f(x1)\n",
    "    sum_wtil = tf.pow( tf.reduce_sum( tf.pow(w_til, theta) ) , (kappa/theta) ) \n",
    "    S = tf.pow((1-s), (-1/beta))\n",
    "    p_i = tf.pow(w_til, theta)/ tf.reduce_sum( tf.pow(w_til, theta) )   \n",
    "    W_i = tf.multiply(kappa, tf.multiply(G, tf.multiply(S, tf.multiply(sum_wtil, p_i)) ) )    \n",
    "    return W_i, p_i"
   ]
  },
  {
   "cell_type": "code",
   "execution_count": 14,
   "metadata": {},
   "outputs": [],
   "source": [
    "# human capital\n",
    "\n",
    "def hc_f(x1):\n",
    "    W = tf.pow(w , (theta*lamb + gamma1) )\n",
    "    W_til = tf.pow(tf.reduce_sum(tf.pow(w_til_f(x1), theta) ), lamb)\n",
    "    N_i = N_if(x1)\n",
    "    Hc = tf.multiply(N_i, tf.divide(W, W_til))\n",
    "    return Hc"
   ]
  },
  {
   "cell_type": "code",
   "execution_count": 15,
   "metadata": {},
   "outputs": [],
   "source": [
    "# PNAD - DATA\n",
    "\n",
    "\n",
    "def get_p_i(year):\n",
    "    global p_s2\n",
    "    w='data_' + str(year)\n",
    "    p_i = tf.convert_to_tensor(np.array(pd.read_excel(f'{w}.xlsx').iloc[:,2]).reshape(1,3), tf.float64)\n",
    "    p_s2 = p_i[1:st]\n",
    "    return p_i\n",
    "\n",
    "\n",
    "def get_W_i(year):\n",
    "    p_i = get_p_i(year)\n",
    "    global W_id\n",
    "    w='data_' + str(year)\n",
    "    W_id = tf.convert_to_tensor(np.multiply(np.array(pd.read_excel(f'{w}.xlsx').iloc[:,1]), p_i).reshape(1,3), tf.float64)\n",
    "    return W_id"
   ]
  },
  {
   "cell_type": "code",
   "execution_count": 16,
   "metadata": {},
   "outputs": [],
   "source": [
    "#@tf.function\n",
    "def tflow(x1):    \n",
    "    global w     \n",
    "    w = lin_sys(x1)\n",
    "    x1 = tf.reshape(x1, (1, 3))\n",
    "    tf.convert_to_tensor(x1, tf.float64)\n",
    "    W_im = W_i_f(x1)[0]    \n",
    "    D = tf.reduce_sum(tf.pow( tf.divide(tf.math.squared_difference(W_id, W_im), W_id ) , 2)) \n",
    "    #D = tf.math.log(D)\n",
    "    return D"
   ]
  },
  {
   "cell_type": "code",
   "execution_count": 17,
   "metadata": {},
   "outputs": [],
   "source": [
    "st=3\n",
    "x1 = taus(st)\n",
    "ano = 15\n",
    "pars(15)\n",
    "matrix()\n",
    "get_W_i(ano)\n",
    "get_p_i(ano)\n",
    "\n",
    "tflow(taus(3))"
   ]
  },
  {
   "cell_type": "code",
   "execution_count": 18,
   "metadata": {},
   "outputs": [],
   "source": [
    "# bounds\n",
    "\n",
    "\n",
    "Bd =   ((-10.0, 10.0), )*st \n",
    "\n",
    "#Bd = (tf.constant(-20.0, dtype=tf.float64), tf.constant(20.0, dtype=tf.float64), )*st\n",
    "\n",
    "Bd = np.array(Bd, dtype=object)"
   ]
  },
  {
   "cell_type": "code",
   "execution_count": 19,
   "metadata": {},
   "outputs": [],
   "source": [
    "# callback\n",
    "\n",
    "\n",
    "cc = 0\n",
    "def callback(x):\n",
    "    global cc\n",
    "    cc += 1\n",
    "    fobj = tflow(x)\n",
    "    print(f'\\033[1;033mObjetivo: {np.around(fobj, 10)}, iter: {cc}') "
   ]
  },
  {
   "cell_type": "code",
   "execution_count": 20,
   "metadata": {},
   "outputs": [],
   "source": [
    "st = 3\n",
    "ano= 15\n",
    "x1 = taus(st)\n",
    "pars(ano)\n",
    "matrix()\n",
    "get_W_i(ano)\n",
    "get_p_i(ano)\n",
    "cc=0\n",
    "\n",
    "\n",
    "\n",
    "dtype= tf.float64\n",
    "start = tf.constant(np.array([1.0, 3.10, -1.20]), dtype=dtype)\n",
    "\n",
    "\n",
    "def nelder_mead():\n",
    "  return tfp.optimizer.nelder_mead_minimize(\n",
    "  tflow,\n",
    "  initial_vertex=start,\n",
    "  parallel_iterations =100,\n",
    "  shrinkage=0.3,\n",
    "  func_tolerance=0,\n",
    "  position_tolerance=0.9e-14)"
   ]
  },
  {
   "cell_type": "code",
   "execution_count": 21,
   "metadata": {},
   "outputs": [],
   "source": [
    "st = 3\n",
    "ano= 15\n",
    "x1 = taus(st)\n",
    "pars(ano)\n",
    "matrix()\n",
    "get_W_i(ano)\n",
    "get_p_i(ano)\n",
    "cc=0\n",
    "\n",
    "\n",
    "\n",
    "dtype= tf.float64\n",
    "start = tf.constant(np.array([1.0, 3.10, -1.20]), dtype=dtype)\n",
    "\n",
    "\n",
    "def nelder_mead():\n",
    "  return tfp.optimizer.nelder_mead_minimize(\n",
    "  tflow,\n",
    "  initial_vertex=start,\n",
    "  parallel_iterations =100,\n",
    "  shrinkage=0.3,\n",
    "  func_tolerance=0,\n",
    "  position_tolerance=0.9e-14)"
   ]
  },
  {
   "cell_type": "code",
   "execution_count": 22,
   "metadata": {},
   "outputs": [],
   "source": [
    "st = 3\n",
    "x1 = taus(st)\n",
    "ano= 15\n",
    "pars(ano)\n",
    "matrix()\n",
    "get_W_i(ano)\n",
    "get_p_i(ano)\n",
    "cc=0"
   ]
  },
  {
   "cell_type": "code",
   "execution_count": 23,
   "metadata": {},
   "outputs": [],
   "source": [
    "sol = differential_evolution(tflow, Bd, strategy='best1exp',\n",
    "                             tol=0,\n",
    "                             polish=True, \n",
    "                             popsize=100, \n",
    "                             maxiter=400,\n",
    "                             recombination =0.7,\n",
    "                             disp=True)"
   ]
  },
  {
   "cell_type": "code",
   "execution_count": 24,
   "metadata": {},
   "outputs": [],
   "source": [
    "\n",
    "print(10*'--'+ 'Distorções calibradas' + 10*'--')\n",
    "print(60*'*')\n",
    "print(f'Objective function: {sol.fun}' )\n",
    "print(f'Distortions: {sol.x.reshape(1,3)[0]}')\n",
    "\n",
    "\n",
    "\n",
    "\n",
    "#-----------------  (-10, 10)\n",
    "\n",
    "# 9.37196472 8.44134184 8.66419531 ----> 15"
   ]
  },
  {
   "cell_type": "code",
   "execution_count": 25,
   "metadata": {},
   "outputs": [],
   "source": [
    "d = sol.x.reshape(1, st)\n",
    "\n",
    "p_m = W_i_f(d)[1]\n",
    "p_d = get_p_i(ano)\n",
    "\n",
    "W_m = W_i_f(d)[0]\n",
    "W_d = get_W_i(ano)\n",
    "\n",
    "\n",
    "fig,ax = plt.subplots(1, 2, figsize=(14,8))\n",
    "ax[0].scatter(p_m, p_d, s=100, color='red')\n",
    "ax[0].plot([0.0, 0.7], [0.0, 0.7], 'k-', lw=2, label='linha de 45°', color='blue')\n",
    "ax[0].grid(True)\n",
    "ax[0].set_title(r'$p_i$', fontsize=20)\n",
    "ax[0].tick_params(axis='both', which='major', labelsize=20)\n",
    "\n",
    "ax[1].scatter(W_m, W_d, s=100, color='red')\n",
    "ax[1].plot([np.min(W_m), np.max(W_m)], [np.min(W_m), np.max(W_m)], 'k-', lw=2, label='linha de 45°', color='blue')\n",
    "ax[1].grid(True)\n",
    "ax[1].set_title(r'$W_i$', fontsize=20)\n",
    "ax[1].tick_params(axis='both', which='major', labelsize=20)"
   ]
  },
  {
   "cell_type": "code",
   "execution_count": 26,
   "metadata": {},
   "outputs": [],
   "source": [
    "d = sol.x.reshape(1, st)\n",
    "\n",
    "\n",
    "h = hc_f(d)"
   ]
  },
  {
   "cell_type": "code",
   "execution_count": 27,
   "metadata": {},
   "outputs": [],
   "source": [
    "cd = 2\n",
    "np.round(lin_sys(d), cd) "
   ]
  },
  {
   "cell_type": "code",
   "execution_count": 28,
   "metadata": {},
   "outputs": [],
   "source": [
    "np.round((alfa/h)*np.prod(np.power(h, alfa) ), cd)"
   ]
  },
  {
   "cell_type": "code",
   "execution_count": 29,
   "metadata": {},
   "outputs": [],
   "source": [
    "\n",
    "\n",
    "\n",
    "df3 = pd.DataFrame()\n",
    "\n",
    "l = [92, 95, 2, 15]\n",
    "\n",
    "for i in l:\n",
    "    pars(i)\n",
    "    #w='data_' + str(i)\n",
    "    k ='hc_' + str(i)\n",
    "    df3[k] = np.array(hc_f(d)).reshape(3)\n",
    "\n",
    "\n",
    "df3.index = ['AGR', 'IND', 'SERV']"
   ]
  },
  {
   "cell_type": "code",
   "execution_count": 30,
   "metadata": {},
   "outputs": [],
   "source": [
    "df3"
   ]
  },
  {
   "cell_type": "code",
   "execution_count": 31,
   "metadata": {},
   "outputs": [],
   "source": [
    "anos = [92, 95, '02', 15]\n",
    "up = 0.04\n",
    "\n",
    "fig, ax = plt.subplots(2, 2, figsize=(16,16))\n",
    "x = [ax[0,0], ax[0,1], ax[1,0], ax[1,1]]\n",
    "\n",
    "for i in range(len(x)):\n",
    "    a = df3.iloc[:,i].keys()\n",
    "    b = df3.iloc[:,i].values\n",
    "    x[i].bar(a, b, color ='cyan', width = 0.2)\n",
    "    x[i].set_title('Capital Humano'+ f' {anos[i]}', fontsize=20)\n",
    "    x[i].tick_params(axis='both', which='major', labelsize=20)\n",
    "    x[i].grid(b=True, which='major', color='k', linestyle=':', lw=.5, zorder=1)\n",
    "    for xi, yi, l in zip(*[a, b, list(map(str, np.round(b,2)))] ):\n",
    "        x[i].text(xi, yi + up, l,\n",
    "                  horizontalalignment='center',\n",
    "                #bbox=dict(facecolor='w', edgecolor='w', alpha=.5),\n",
    "               fontsize=16)\n",
    "    plt.tight_layout\n",
    "\n",
    "    "
   ]
  },
  {
   "cell_type": "code",
   "execution_count": 32,
   "metadata": {},
   "outputs": [],
   "source": [
    "# pegar os anos de estudo da pnad\n",
    "\n",
    "def get_est(year):\n",
    "    w='data_' + str(year)\n",
    "    est = np.array(pd.read_excel(f'{w}.xlsx').iloc[:,3], dtype='float64').reshape(3) \n",
    "    return est"
   ]
  },
  {
   "cell_type": "code",
   "execution_count": 33,
   "metadata": {},
   "outputs": [],
   "source": [
    "# calcular o capital humano do modelo\n",
    "\n",
    "def calc_hc(year, d):\n",
    "    pars(year)\n",
    "    return np.array(hc_f(d)).reshape(3)"
   ]
  },
  {
   "cell_type": "code",
   "execution_count": 34,
   "metadata": {},
   "outputs": [],
   "source": [
    "# cada ponto de dispersão é um ano \n",
    "# cada gráfico é de um setor\n",
    "\n",
    "sector = ['Agropecuária', 'Indústria', 'Serviços']\n",
    "anos = [92, 95, 2, 15]\n",
    "n=len(anos)    # quantidade de anos\n",
    "fig, ax = plt.subplots(3, 1, figsize=(8,16))\n",
    "\n",
    "for j in range(3):\n",
    "    ax[j].scatter([[calc_hc(i, d) for i in anos][k][j] for k in range(n) ] ,\n",
    "                  [[get_est(i) for i in anos][k][j] for k in range(n) ] , marker='o', s=200, color='maroon' )\n",
    "    ax[j].tick_params(axis='both', which='major', labelsize=20)\n",
    "    ax[j].set_xlabel('Capital humano - Modelo', fontsize=20)\n",
    "    ax[j].set_ylabel('Anos de estudo - PNAD', fontsize=20)\n",
    "    ax[j].grid(b=True, which='major', color='k', linestyle=':', lw=.5)\n",
    "    ax[j].set_title(f'{sector[j]}', fontsize=20)\n",
    "plt.tight_layout()"
   ]
  },
  {
   "cell_type": "code",
   "execution_count": 35,
   "metadata": {},
   "outputs": [],
   "source": [
    "# calcula o produto da economia\n",
    "\n",
    "def pib(x1, year):\n",
    "    Y = tf.math.reduce_prod(tf.pow(hc_f(x1), get_data(year)[0] ))\n",
    "    return Y\n",
    "\n",
    "    "
   ]
  },
  {
   "cell_type": "code",
   "execution_count": 36,
   "metadata": {},
   "outputs": [],
   "source": [
    "# pega o pib dos dados do ipea\n",
    "\n",
    "def pib_dados(year):\n",
    "    da = pd.read_excel('IPEA_PIBS.xls', sheet_name='s2').iloc[:,[9,10]]\n",
    "    da.set_index('index', inplace=True)\n",
    "    return np.array(np.log(da.loc[[year]] ) ).reshape(1)"
   ]
  },
  {
   "cell_type": "code",
   "execution_count": 37,
   "metadata": {},
   "outputs": [],
   "source": [
    "# cada ponto de dispersão é um ano diferente\n",
    "# aqui uso o loop dentro da lista\n",
    "\n",
    "anos = [92, 95, 2, 15]\n",
    "\n",
    "\n",
    "fig, ax = plt.subplots(1, figsize=(10,8))\n",
    "ax.scatter([pib_dados(i) for i in anos] , \n",
    "            [pib(d, i) for i in anos], marker='o', s=200, color='maroon' )\n",
    "ax.grid(b=True, which='major', color='k', linestyle=':', lw=.5)\n",
    "ax.tick_params(axis='both', which='major', labelsize=20)\n",
    "ax.set_xlabel('PIB - Dados', fontsize=20)\n",
    "ax.set_ylabel('PIB - Modelo', fontsize=20)"
   ]
  },
  {
   "cell_type": "code",
   "execution_count": 38,
   "metadata": {},
   "outputs": [],
   "source": [
    "anos = [92, 95, 2, 15]\n",
    "sector = ['Agropecuária', 'Indústria', 'Serviços']\n",
    "up = 0.01\n",
    "\n",
    "\n",
    "fig, ax = plt.subplots(2, 2, figsize=(16,16))\n",
    "x = [ax[0,0], ax[0,1], ax[1,0], ax[1,1]]\n",
    "\n",
    "\n",
    "for i in range(len(x)):\n",
    "    pars(anos[i])\n",
    "    b = np.array(lin_sys(d) ).reshape(3)\n",
    "    x[i].bar(sector, b, color ='gold', width = 0.2)\n",
    "    x[i].set_title('Salário'+ f' {anos[i]}', fontsize=20)\n",
    "    x[i].tick_params(axis='both', which='major', labelsize=20)\n",
    "    x[i].grid(b=True, which='major', color='k', linestyle=':', lw=.5, zorder=1)\n",
    "    for xi, yi, l in zip(*[sector, b, list(map(str, np.round(b,3)))] ):\n",
    "        x[i].text(xi, yi+up, l,\n",
    "                #bbox=dict(facecolor='w', edgecolor='w', alpha=.8),\n",
    "                  horizontalalignment='center',\n",
    "               fontsize=16)\n",
    "    plt.tight_layout"
   ]
  },
  {
   "cell_type": "code",
   "execution_count": 39,
   "metadata": {},
   "outputs": [],
   "source": [
    "\n",
    "df.describe()"
   ]
  },
  {
   "cell_type": "code",
   "execution_count": 40,
   "metadata": {},
   "outputs": [],
   "source": [
    "%notebook \"C:\\Users\\user\\Downloads\\Thesis_paper_1\\calibration\\model_tensor.ipynb\""
   ]
  },
  {
   "cell_type": "code",
   "execution_count": 41,
   "metadata": {},
   "outputs": [],
   "source": [
    "\n",
    "#\"C:\\\\Users\\\\user\\\\Downloads\\\\Thesis_paper_1\\\\dados\"\n",
    "\n",
    "pd.read_excel('C:\\Users\\user\\Downloads\\Thesis_paper_1\\dados\\prod_trab.xlsx', sheet_name='prod_hr')"
   ]
  },
  {
   "cell_type": "code",
   "execution_count": 42,
   "metadata": {},
   "outputs": [],
   "source": [
    "\n",
    "\n",
    "pd.read_excel('C:\\Users\\user\\Downloads\\Thesis_paper_1\\dados\\prod_trab.xlsx', sheet_name='prod_hr')"
   ]
  },
  {
   "cell_type": "code",
   "execution_count": 43,
   "metadata": {},
   "outputs": [],
   "source": [
    "\n",
    "\n",
    "pd.read_excel(r'C:\\Users\\user\\Downloads\\Thesis_paper_1\\dados\\prod_trab.xlsx', sheet_name='prod_hr')"
   ]
  },
  {
   "cell_type": "code",
   "execution_count": 44,
   "metadata": {},
   "outputs": [],
   "source": [
    "\n",
    "ibre = pd.read_excel(r'C:\\Users\\user\\Downloads\\Thesis_paper_1\\dados\\prod_trab.xlsx', sheet_name='prod_hr')"
   ]
  },
  {
   "cell_type": "code",
   "execution_count": 45,
   "metadata": {},
   "outputs": [],
   "source": [
    "df.index= df['Anos']\n",
    "#df.drop('Anos', axis=1, inplace=True) "
   ]
  },
  {
   "cell_type": "code",
   "execution_count": 46,
   "metadata": {},
   "outputs": [],
   "source": [
    "ibre.index= df['Anos']\n",
    "#df.drop('Anos', axis=1, inplace=True) "
   ]
  },
  {
   "cell_type": "code",
   "execution_count": 47,
   "metadata": {},
   "outputs": [],
   "source": [
    "ibre.index= ibre['Anos']\n",
    "#df.drop('Anos', axis=1, inplace=True) "
   ]
  },
  {
   "cell_type": "code",
   "execution_count": 48,
   "metadata": {},
   "outputs": [],
   "source": [
    "ibre.loc[[1995, 2002, 2015], ['Agropecuária', 'Industria Total', 'Serviços Total']]"
   ]
  },
  {
   "cell_type": "code",
   "execution_count": 49,
   "metadata": {},
   "outputs": [],
   "source": [
    "ibre.loc[[1995, 2002, 2015], ['Agropecuária', 'Industria Total', 'Serviços Total']].T"
   ]
  },
  {
   "cell_type": "code",
   "execution_count": 50,
   "metadata": {},
   "outputs": [],
   "source": [
    "ibre2 = ibre.loc[[1995, 2002, 2015], ['Agropecuária', 'Industria Total', 'Serviços Total']].T"
   ]
  },
  {
   "cell_type": "code",
   "execution_count": 51,
   "metadata": {},
   "outputs": [],
   "source": [
    "ibre2"
   ]
  },
  {
   "cell_type": "code",
   "execution_count": 52,
   "metadata": {},
   "outputs": [],
   "source": [
    "ibre2 = ibre.loc[[1995, 2002, 2015], ['Agropecuária', 'Industria Total', 'Serviços Total']].T\n",
    "ibre2"
   ]
  },
  {
   "cell_type": "code",
   "execution_count": 53,
   "metadata": {},
   "outputs": [],
   "source": [
    "ibre.index = ['AGR', 'IND', 'SERV']"
   ]
  },
  {
   "cell_type": "code",
   "execution_count": 54,
   "metadata": {},
   "outputs": [],
   "source": [
    "ibre2.index = ['AGR', 'IND', 'SERV']"
   ]
  },
  {
   "cell_type": "code",
   "execution_count": 55,
   "metadata": {},
   "outputs": [],
   "source": [
    "ibre2"
   ]
  },
  {
   "cell_type": "code",
   "execution_count": 56,
   "metadata": {},
   "outputs": [],
   "source": [
    "ibre2.index = ['AGR', 'IND', 'SERV']\n",
    "ibre2.rename(columns={'1995':'95'}, inplace=True)"
   ]
  },
  {
   "cell_type": "code",
   "execution_count": 57,
   "metadata": {},
   "outputs": [],
   "source": [
    "ibre2"
   ]
  },
  {
   "cell_type": "code",
   "execution_count": 58,
   "metadata": {},
   "outputs": [],
   "source": [
    "ibre2"
   ]
  },
  {
   "cell_type": "code",
   "execution_count": 59,
   "metadata": {},
   "outputs": [],
   "source": [
    "ibre2.index = ['AGR', 'IND', 'SERV']\n",
    "ibre2.rename(columns={'1995':'95'}, inplace=True)"
   ]
  },
  {
   "cell_type": "code",
   "execution_count": 60,
   "metadata": {},
   "outputs": [],
   "source": [
    "ibre2"
   ]
  },
  {
   "cell_type": "code",
   "execution_count": 61,
   "metadata": {},
   "outputs": [],
   "source": [
    "ibre2.index = ['AGR', 'IND', 'SERV']\n",
    "ibre2.rename(columns={'95':'1995'}, inplace=True)"
   ]
  },
  {
   "cell_type": "code",
   "execution_count": 62,
   "metadata": {},
   "outputs": [],
   "source": [
    "ibre2"
   ]
  },
  {
   "cell_type": "code",
   "execution_count": 63,
   "metadata": {},
   "outputs": [],
   "source": [
    "ibre2.columns"
   ]
  },
  {
   "cell_type": "code",
   "execution_count": 64,
   "metadata": {},
   "outputs": [],
   "source": [
    "ibre2.columns[1]"
   ]
  },
  {
   "cell_type": "code",
   "execution_count": 65,
   "metadata": {},
   "outputs": [],
   "source": [
    "ibre2.columns"
   ]
  },
  {
   "cell_type": "code",
   "execution_count": 66,
   "metadata": {},
   "outputs": [],
   "source": [
    "ibre2.columns = ['95', '2', '15']"
   ]
  },
  {
   "cell_type": "code",
   "execution_count": 67,
   "metadata": {},
   "outputs": [],
   "source": [
    "ibre2"
   ]
  },
  {
   "cell_type": "code",
   "execution_count": 68,
   "metadata": {},
   "outputs": [],
   "source": [
    "df3"
   ]
  },
  {
   "cell_type": "code",
   "execution_count": 69,
   "metadata": {},
   "outputs": [],
   "source": [
    "df3[::-1]"
   ]
  },
  {
   "cell_type": "code",
   "execution_count": 70,
   "metadata": {},
   "outputs": [],
   "source": [
    "df3[::1]"
   ]
  },
  {
   "cell_type": "code",
   "execution_count": 71,
   "metadata": {},
   "outputs": [],
   "source": [
    "df3[:-1]"
   ]
  },
  {
   "cell_type": "code",
   "execution_count": 72,
   "metadata": {},
   "outputs": [],
   "source": [
    "df3[:]"
   ]
  },
  {
   "cell_type": "code",
   "execution_count": 73,
   "metadata": {},
   "outputs": [],
   "source": [
    "df3[:, -1]"
   ]
  },
  {
   "cell_type": "code",
   "execution_count": 74,
   "metadata": {},
   "outputs": [],
   "source": [
    "df3[: -1]"
   ]
  },
  {
   "cell_type": "code",
   "execution_count": 75,
   "metadata": {},
   "outputs": [],
   "source": [
    "df3[:]"
   ]
  },
  {
   "cell_type": "code",
   "execution_count": 76,
   "metadata": {},
   "outputs": [],
   "source": [
    "df3[-1:]"
   ]
  },
  {
   "cell_type": "code",
   "execution_count": 77,
   "metadata": {},
   "outputs": [],
   "source": [
    "df3[-1:][0]"
   ]
  },
  {
   "cell_type": "code",
   "execution_count": 78,
   "metadata": {},
   "outputs": [],
   "source": [
    "df3.loc[:, 1]"
   ]
  },
  {
   "cell_type": "code",
   "execution_count": 79,
   "metadata": {},
   "outputs": [],
   "source": [
    "df3.loc[:, [1]]"
   ]
  },
  {
   "cell_type": "code",
   "execution_count": 80,
   "metadata": {},
   "outputs": [],
   "source": [
    "df3.iloc[:, [1]]"
   ]
  },
  {
   "cell_type": "code",
   "execution_count": 81,
   "metadata": {},
   "outputs": [],
   "source": [
    "df3.iloc[:, [1:3]]"
   ]
  },
  {
   "cell_type": "code",
   "execution_count": 82,
   "metadata": {},
   "outputs": [],
   "source": [
    "df3.iloc[:, :]"
   ]
  },
  {
   "cell_type": "code",
   "execution_count": 83,
   "metadata": {},
   "outputs": [],
   "source": [
    "df3.iloc[:, :-1]"
   ]
  },
  {
   "cell_type": "code",
   "execution_count": 84,
   "metadata": {},
   "outputs": [],
   "source": [
    "df3.iloc[:, :-4]"
   ]
  },
  {
   "cell_type": "code",
   "execution_count": 85,
   "metadata": {},
   "outputs": [],
   "source": [
    "df3.iloc[:, :-3]"
   ]
  },
  {
   "cell_type": "code",
   "execution_count": 86,
   "metadata": {},
   "outputs": [],
   "source": [
    "df3.iloc[:, :-1]"
   ]
  },
  {
   "cell_type": "code",
   "execution_count": 87,
   "metadata": {},
   "outputs": [],
   "source": [
    "df3.iloc[:, :-0]"
   ]
  },
  {
   "cell_type": "code",
   "execution_count": 88,
   "metadata": {},
   "outputs": [],
   "source": [
    "df3.iloc[:, :-2]"
   ]
  },
  {
   "cell_type": "code",
   "execution_count": 89,
   "metadata": {},
   "outputs": [],
   "source": [
    "df3.iloc[:, :-3]"
   ]
  },
  {
   "cell_type": "code",
   "execution_count": 90,
   "metadata": {},
   "outputs": [],
   "source": [
    "df3.iloc[:, -3:]"
   ]
  },
  {
   "cell_type": "code",
   "execution_count": 91,
   "metadata": {},
   "outputs": [],
   "source": [
    "ibre2 = ibre.loc[[1995, 2002, 2015], ['Agropecuária', 'Industria Total', 'Serviços Total']].T"
   ]
  },
  {
   "cell_type": "code",
   "execution_count": 92,
   "metadata": {},
   "outputs": [],
   "source": [
    "ibre2.index = ['AGR', 'IND', 'SERV']\n",
    "\n",
    "ibre2.columns = ['95', '2', '15']"
   ]
  },
  {
   "cell_type": "code",
   "execution_count": 93,
   "metadata": {},
   "outputs": [],
   "source": [
    "ibre2 = ibre.loc[[1995, 2002, 2015], ['Agropecuária', 'Industria Total', 'Serviços Total']].T"
   ]
  },
  {
   "cell_type": "code",
   "execution_count": 94,
   "metadata": {},
   "outputs": [],
   "source": [
    "ibre2.index = ['AGR', 'IND', 'SERV']\n",
    "\n",
    "ibre2.columns = ['95', '2', '15']\n",
    "ibre2"
   ]
  },
  {
   "cell_type": "code",
   "execution_count": 95,
   "metadata": {},
   "outputs": [],
   "source": [
    "prod = df3.iloc[:, -3:]"
   ]
  },
  {
   "cell_type": "code",
   "execution_count": 96,
   "metadata": {},
   "outputs": [],
   "source": [
    "prod = df3.iloc[:, -3:]\n",
    "prod"
   ]
  },
  {
   "cell_type": "code",
   "execution_count": 97,
   "metadata": {},
   "outputs": [],
   "source": [
    "prod = df3.iloc[:, -3:]\n",
    "np.array(prod)"
   ]
  },
  {
   "cell_type": "code",
   "execution_count": 98,
   "metadata": {},
   "outputs": [],
   "source": [
    "prod = df3.iloc[:, -3:]\n",
    "np.array(prod).reshape(9)"
   ]
  },
  {
   "cell_type": "code",
   "execution_count": 99,
   "metadata": {},
   "outputs": [],
   "source": [
    "P_D = np.array(ibre2).reshape(9)\n",
    "P_M = np.array(prod).reshape(9)"
   ]
  },
  {
   "cell_type": "code",
   "execution_count": 100,
   "metadata": {},
   "outputs": [],
   "source": [
    "prod = df3.iloc[:, -3:]"
   ]
  },
  {
   "cell_type": "code",
   "execution_count": 101,
   "metadata": {},
   "outputs": [],
   "source": [
    "plt.plot(P_D, P_M)"
   ]
  },
  {
   "cell_type": "code",
   "execution_count": 102,
   "metadata": {},
   "outputs": [],
   "source": [
    "axx, fig = plt.subplots(1, figsize=(12,8))\n",
    "ax.scatter(P_D, P_M)"
   ]
  },
  {
   "cell_type": "code",
   "execution_count": 103,
   "metadata": {},
   "outputs": [],
   "source": [
    "ax, fig = plt.subplots(1, figsize=(12,8))\n",
    "ax.scatter(P_D, P_M)"
   ]
  },
  {
   "cell_type": "code",
   "execution_count": 104,
   "metadata": {},
   "outputs": [],
   "source": [
    "fig, ax = plt.subplots(1, figsize=(12,8))\n",
    "ax.scatter(P_D, P_M)"
   ]
  },
  {
   "cell_type": "code",
   "execution_count": 105,
   "metadata": {},
   "outputs": [],
   "source": [
    "fig, ax = plt.subplots(1, figsize=(12,8))\n",
    "ax.scatter(P_D, P_M, s=200, color='red')"
   ]
  },
  {
   "cell_type": "code",
   "execution_count": 106,
   "metadata": {},
   "outputs": [],
   "source": [
    "P_D"
   ]
  },
  {
   "cell_type": "code",
   "execution_count": 107,
   "metadata": {},
   "outputs": [],
   "source": [
    "str(AGR)"
   ]
  },
  {
   "cell_type": "code",
   "execution_count": 108,
   "metadata": {},
   "outputs": [],
   "source": [
    "str('AGR')"
   ]
  },
  {
   "cell_type": "code",
   "execution_count": 109,
   "metadata": {},
   "outputs": [],
   "source": [
    "'AGR' + str(2)"
   ]
  },
  {
   "cell_type": "code",
   "execution_count": 110,
   "metadata": {},
   "outputs": [],
   "source": [
    "'AGR_' + str(2)"
   ]
  },
  {
   "cell_type": "code",
   "execution_count": 111,
   "metadata": {},
   "outputs": [],
   "source": [
    "'AGR_' + str([95, 2, 15])"
   ]
  },
  {
   "cell_type": "code",
   "execution_count": 112,
   "metadata": {},
   "outputs": [],
   "source": [
    "\n",
    "[]'AGR_' + str(i) for i in range(3) ]"
   ]
  },
  {
   "cell_type": "code",
   "execution_count": 113,
   "metadata": {},
   "outputs": [],
   "source": [
    "\n",
    "['AGR_' + str(i) for i in range(3) ]"
   ]
  },
  {
   "cell_type": "code",
   "execution_count": 114,
   "metadata": {},
   "outputs": [],
   "source": [
    "anos2 =  [95, 2, 15]\n",
    "['AGR_' + str(i) for i in anos ]"
   ]
  },
  {
   "cell_type": "code",
   "execution_count": 115,
   "metadata": {},
   "outputs": [],
   "source": [
    "anos2 =  [95, 2, 15]\n",
    "['AGR_' + str(i) for i in anos2 ]"
   ]
  },
  {
   "cell_type": "code",
   "execution_count": 116,
   "metadata": {},
   "outputs": [],
   "source": [
    "anos2 =  [95, 2, 15]\n",
    "agr = ['AGR_' + str(i) for i in anos2 ]\n",
    "ind = ['IND_' + str(i) for i in anos2 ]\n",
    "serv = ['SERV_' + str(i) for i in anos2 ]"
   ]
  },
  {
   "cell_type": "code",
   "execution_count": 117,
   "metadata": {},
   "outputs": [],
   "source": [
    "ind"
   ]
  },
  {
   "cell_type": "code",
   "execution_count": 118,
   "metadata": {},
   "outputs": [],
   "source": [
    "serv"
   ]
  },
  {
   "cell_type": "code",
   "execution_count": 119,
   "metadata": {},
   "outputs": [],
   "source": [
    "P_D"
   ]
  },
  {
   "cell_type": "code",
   "execution_count": 120,
   "metadata": {},
   "outputs": [],
   "source": [
    "texto = [agr, ind, serv]"
   ]
  },
  {
   "cell_type": "code",
   "execution_count": 121,
   "metadata": {},
   "outputs": [],
   "source": [
    "texto = [agr, ind, serv]\n",
    "texto"
   ]
  },
  {
   "cell_type": "code",
   "execution_count": 122,
   "metadata": {},
   "outputs": [],
   "source": [
    "texto = [agr, ind, serv].flatten\n",
    "texto"
   ]
  },
  {
   "cell_type": "code",
   "execution_count": 123,
   "metadata": {},
   "outputs": [],
   "source": [
    "texto = np.array([agr, ind, serv]).reshape(9)\n",
    "texto"
   ]
  },
  {
   "cell_type": "code",
   "execution_count": 124,
   "metadata": {},
   "outputs": [],
   "source": [
    "texto = np.array([agr, ind, serv], dtype=object).reshape(9)\n",
    "texto"
   ]
  },
  {
   "cell_type": "code",
   "execution_count": 125,
   "metadata": {},
   "outputs": [],
   "source": [
    "fig, ax = plt.subplots(1, figsize=(12,8))\n",
    "ax.scatter(P_D, P_M, s=200, color='red')\n",
    "for i in range(len(texto)):\n",
    "    ax.text(texto[i])\n",
    "    "
   ]
  },
  {
   "cell_type": "code",
   "execution_count": 126,
   "metadata": {},
   "outputs": [],
   "source": [
    "fig, ax = plt.subplots(1, figsize=(12,8))\n",
    "ax.scatter(P_D, P_M, s=200, color='red')\n",
    "for i in range(len(texto)):\n",
    "    ax.text(P_D[i], P_M[i], texto[i])\n",
    "    "
   ]
  },
  {
   "cell_type": "code",
   "execution_count": 127,
   "metadata": {},
   "outputs": [],
   "source": [
    "fig, ax = plt.subplots(1, figsize=(10,8))\n",
    "ax.scatter(P_D, P_M, s=200, color='red')\n",
    "for i in range(len(texto)):\n",
    "    ax.text(P_D[i], P_M[i], texto[i])\n",
    "    "
   ]
  },
  {
   "cell_type": "code",
   "execution_count": 128,
   "metadata": {},
   "outputs": [],
   "source": [
    "fig, ax = plt.subplots(1, figsize=(10,8))\n",
    "ax.scatter(P_D, P_M, s=100, color='red')\n",
    "for i in range(len(texto)):\n",
    "    ax.text(P_D[i], P_M[i], texto[i])\n",
    "    "
   ]
  },
  {
   "cell_type": "code",
   "execution_count": 129,
   "metadata": {},
   "outputs": [],
   "source": [
    "fig, ax = plt.subplots(1, figsize=(10,8))\n",
    "ax.scatter(P_D, P_M, s=200, color='red')\n",
    "for i in range(len(texto)):\n",
    "    ax.text(P_D[i]+1, P_M[i], texto[i])\n",
    "    "
   ]
  },
  {
   "cell_type": "code",
   "execution_count": 130,
   "metadata": {},
   "outputs": [],
   "source": [
    "fig, ax = plt.subplots(1, figsize=(10,8))\n",
    "ax.scatter(P_D, P_M, s=200, color='red')\n",
    "for i in range(len(texto)):\n",
    "    ax.text(P_D[i]+0.5, P_M[i], texto[i])\n",
    "    "
   ]
  },
  {
   "cell_type": "code",
   "execution_count": 131,
   "metadata": {},
   "outputs": [],
   "source": [
    "fig, ax = plt.subplots(1, figsize=(10,8))\n",
    "ax.scatter(P_D, P_M, s=200, color='red')\n",
    "for i in range(len(texto)):\n",
    "    ax.text(P_D[i]+0.5, P_M[i], texto[i])\n",
    "ax.grid(b=True, which='major', color='k', linestyle=':', lw=.5)\n",
    "ax.tick_params(axis='both', which='major', labelsize=20)\n",
    "ax.set_xlabel('Produtividade - Dados do IBRE', fontsize=20)\n",
    "ax.set_ylabel('Produtividade (Capital humano) - Modelo', fontsize=20)"
   ]
  },
  {
   "cell_type": "code",
   "execution_count": 132,
   "metadata": {},
   "outputs": [],
   "source": [
    "fig, ax = plt.subplots(1, figsize=(10,8))\n",
    "ax.scatter(P_D, P_M, s=200, color='red')\n",
    "for i in range(len(texto)):\n",
    "    ax.text(P_D[i]+0.5, P_M[i], texto[i])\n",
    "ax.grid(b=True, which='major', color='k', linestyle=':', lw=.5)\n",
    "ax.tick_params(axis='both', which='major', labelsize=20)\n",
    "ax.set_xlabel('Produtividade - Dados do IBRE', fontsize=20)\n",
    "ax.set_ylabel('Produtividade (Capital humano) - Modelo', fontsize=20)\n",
    "\n",
    "(m, b) = np.polyfit(P_M, P_D, 1)\n",
    "yp = np.polyval([m, b], P_M)\n",
    "ax.plot(P_M, yp, color='black', label='Regression Line')"
   ]
  },
  {
   "cell_type": "code",
   "execution_count": 133,
   "metadata": {},
   "outputs": [],
   "source": [
    "fig, ax = plt.subplots(1, figsize=(10,8))\n",
    "ax.scatter(P_D, P_M, s=200, color='red')\n",
    "for i in range(len(texto)):\n",
    "    ax.text(P_D[i]+0.5, P_M[i], texto[i])\n",
    "ax.grid(b=True, which='major', color='k', linestyle=':', lw=.5)\n",
    "ax.tick_params(axis='both', which='major', labelsize=20)\n",
    "ax.set_xlabel('Produtividade - Dados do IBRE', fontsize=20)\n",
    "ax.set_ylabel('Produtividade (Capital humano) - Modelo', fontsize=20)\n",
    "\n",
    "(m, b) = np.polyfit(P_D, P_M 1)\n",
    "yp = np.polyval([m, b], P_D)\n",
    "ax.plot(P_D, yp, color='black', label='Regression Line')"
   ]
  },
  {
   "cell_type": "code",
   "execution_count": 134,
   "metadata": {},
   "outputs": [],
   "source": [
    "fig, ax = plt.subplots(1, figsize=(10,8))\n",
    "ax.scatter(P_D, P_M, s=200, color='red')\n",
    "for i in range(len(texto)):\n",
    "    ax.text(P_D[i]+0.5, P_M[i], texto[i])\n",
    "ax.grid(b=True, which='major', color='k', linestyle=':', lw=.5)\n",
    "ax.tick_params(axis='both', which='major', labelsize=20)\n",
    "ax.set_xlabel('Produtividade - Dados do IBRE', fontsize=20)\n",
    "ax.set_ylabel('Produtividade (Capital humano) - Modelo', fontsize=20)\n",
    "\n",
    "(m, b) = np.polyfit(P_D, P_M, 1)\n",
    "yp = np.polyval([m, b], P_D)\n",
    "ax.plot(P_D, yp, color='black', label='Regression Line')"
   ]
  },
  {
   "cell_type": "code",
   "execution_count": 135,
   "metadata": {},
   "outputs": [],
   "source": [
    "fig, ax = plt.subplots(1, figsize=(10,8))\n",
    "ax.scatter(P_D, P_M, s=200, color='red')\n",
    "for i in range(len(texto)):\n",
    "    ax.text(P_D[i]+0.5, P_M[i], texto[i])\n",
    "ax.grid(b=True, which='major', color='k', linestyle=':', lw=.5)\n",
    "ax.tick_params(axis='both', which='major', labelsize=20)\n",
    "ax.set_xlabel('Produtividade - Dados do IBRE', fontsize=20)\n",
    "ax.set_ylabel('Produtividade (Capital humano) - Modelo', fontsize=20)\n",
    "\n",
    "(m, b) = np.polyfit(P_D, P_M, 1)\n",
    "yp = np.polyval([m, b], P_D)\n",
    "ax.plot(P_D, yp, color='blue', label='Regression Line')"
   ]
  },
  {
   "cell_type": "code",
   "execution_count": 136,
   "metadata": {},
   "outputs": [],
   "source": [
    "fig, ax = plt.subplots(1, figsize=(10,8))\n",
    "ax.scatter(P_D, P_M, s=200, color='red')\n",
    "for i in range(len(texto)):\n",
    "    ax.text(P_D[i]+0.5, P_M[i], texto[i])\n",
    "ax.grid(b=True, which='major', color='k', linestyle=':', lw=.5)\n",
    "ax.tick_params(axis='both', which='major', labelsize=20)\n",
    "ax.set_xlabel('Produtividade - Dados do IBRE', fontsize=20)\n",
    "ax.set_ylabel('Produtividade (Capital humano) - Modelo', fontsize=20)\n",
    "\n",
    "(m, b) = np.polyfit(P_D, P_M, 1)\n",
    "yp = np.polyval([m, b], P_D)\n",
    "ax.plot(P_D, yp, color='blue', label='Regression Line')\n",
    "ax.legend(loc=\"upper left\", prop={'size': 18})"
   ]
  },
  {
   "cell_type": "code",
   "execution_count": 137,
   "metadata": {},
   "outputs": [],
   "source": [
    "fig, ax = plt.subplots(1, figsize=(10,8))\n",
    "ax.scatter(P_D, P_M, s=200, color='red')\n",
    "for i in range(len(texto)):\n",
    "    ax.text(P_D[i]+0.5, P_M[i], texto[i])\n",
    "ax.grid(b=True, which='major', color='k', linestyle=':', lw=.5)\n",
    "ax.tick_params(axis='both', which='major', labelsize=20)\n",
    "ax.set_xlabel('Produtividade - Dados do IBRE', fontsize=20)\n",
    "ax.set_ylabel('Produtividade (Capital humano) - Modelo', fontsize=20)\n",
    "\n",
    "(m, b) = np.polyfit(P_D, P_M, 1)\n",
    "yp = np.polyval([m, b], P_D)\n",
    "ax.plot(P_D, yp, color='blue', label='Linha de Regressão')\n",
    "ax.legend(loc=\"upper left\", prop={'size': 18})"
   ]
  },
  {
   "cell_type": "code",
   "execution_count": 138,
   "metadata": {},
   "outputs": [],
   "source": [
    "P_D = np.array(ibre2).reshape(9).log \n",
    "P_M = np.array(prod).reshape(9)"
   ]
  },
  {
   "cell_type": "code",
   "execution_count": 139,
   "metadata": {},
   "outputs": [],
   "source": [
    "P_D = np.array(ibre2).reshape(9).log() \n",
    "P_M = np.array(prod).reshape(9)"
   ]
  },
  {
   "cell_type": "code",
   "execution_count": 140,
   "metadata": {},
   "outputs": [],
   "source": [
    "P_D = np.log(np.array(ibre2).reshape(9) )\n",
    "P_M = np.log(np.array(prod).reshape(9) )"
   ]
  },
  {
   "cell_type": "code",
   "execution_count": 141,
   "metadata": {},
   "outputs": [],
   "source": [
    "fig, ax = plt.subplots(1, figsize=(10,8))\n",
    "ax.scatter(P_D, P_M, s=200, color='red')\n",
    "for i in range(len(texto)):\n",
    "    ax.text(P_D[i]+0.5, P_M[i], texto[i])\n",
    "ax.grid(b=True, which='major', color='k', linestyle=':', lw=.5)\n",
    "ax.tick_params(axis='both', which='major', labelsize=20)\n",
    "ax.set_xlabel('Produtividade - Dados do IBRE', fontsize=20)\n",
    "ax.set_ylabel('Produtividade (Capital humano) - Modelo', fontsize=20)\n",
    "\n",
    "(m, b) = np.polyfit(P_D, P_M, 1)\n",
    "yp = np.polyval([m, b], P_D)\n",
    "ax.plot(P_D, yp, color='blue', label='Linha de Regressão')\n",
    "ax.legend(loc=\"upper left\", prop={'size': 18})"
   ]
  },
  {
   "cell_type": "code",
   "execution_count": 142,
   "metadata": {},
   "outputs": [],
   "source": [
    "fig, ax = plt.subplots(1, figsize=(10,8))\n",
    "ax.scatter(P_D, P_M, s=200, color='red')\n",
    "for i in range(len(texto)):\n",
    "    ax.text(P_D[i]+0.05, P_M[i], texto[i])\n",
    "ax.grid(b=True, which='major', color='k', linestyle=':', lw=.5)\n",
    "ax.tick_params(axis='both', which='major', labelsize=20)\n",
    "ax.set_xlabel('Produtividade - Dados do IBRE', fontsize=20)\n",
    "ax.set_ylabel('Produtividade (Capital humano) - Modelo', fontsize=20)\n",
    "\n",
    "(m, b) = np.polyfit(P_D, P_M, 1)\n",
    "yp = np.polyval([m, b], P_D)\n",
    "ax.plot(P_D, yp, color='blue', label='Linha de Regressão')\n",
    "ax.legend(loc=\"upper left\", prop={'size': 18})"
   ]
  },
  {
   "cell_type": "code",
   "execution_count": 143,
   "metadata": {},
   "outputs": [],
   "source": [
    "df"
   ]
  },
  {
   "cell_type": "code",
   "execution_count": 144,
   "metadata": {},
   "outputs": [],
   "source": [
    "df2"
   ]
  },
  {
   "cell_type": "code",
   "execution_count": 145,
   "metadata": {},
   "outputs": [],
   "source": [
    "df2"
   ]
  },
  {
   "cell_type": "code",
   "execution_count": 146,
   "metadata": {},
   "outputs": [],
   "source": [
    "df2.describe"
   ]
  },
  {
   "cell_type": "code",
   "execution_count": 147,
   "metadata": {},
   "outputs": [],
   "source": [
    "df2.describe()"
   ]
  },
  {
   "cell_type": "code",
   "execution_count": 148,
   "metadata": {},
   "outputs": [],
   "source": [
    "df2.T.describe()"
   ]
  },
  {
   "cell_type": "code",
   "execution_count": 149,
   "metadata": {},
   "outputs": [],
   "source": [
    "df2.T"
   ]
  },
  {
   "cell_type": "code",
   "execution_count": 150,
   "metadata": {},
   "outputs": [],
   "source": [
    "df2.T"
   ]
  },
  {
   "cell_type": "code",
   "execution_count": 151,
   "metadata": {},
   "outputs": [],
   "source": [
    "df2.T.describe()"
   ]
  },
  {
   "cell_type": "code",
   "execution_count": 152,
   "metadata": {},
   "outputs": [],
   "source": [
    "df2.T.describe()[1]"
   ]
  },
  {
   "cell_type": "code",
   "execution_count": 153,
   "metadata": {},
   "outputs": [],
   "source": [
    "df2.T.describe()"
   ]
  },
  {
   "cell_type": "code",
   "execution_count": 154,
   "metadata": {},
   "outputs": [],
   "source": [
    "phi = tf.convert_to_tensor(np.array([0.4, 0.5, 0.6]).reshape(1,3) )"
   ]
  },
  {
   "cell_type": "code",
   "execution_count": 155,
   "metadata": {},
   "outputs": [],
   "source": [
    "phi = tf.convert_to_tensor(np.array([0.4, 0.5, 0.6]).reshape(1,3) )\n",
    "\n",
    "N_if(d)"
   ]
  },
  {
   "cell_type": "code",
   "execution_count": 156,
   "metadata": {},
   "outputs": [],
   "source": [
    "phi = tf.convert_to_tensor(np.array([0.4, 0.5, 0.6]).reshape(1,3) )\n",
    "\n",
    "np.array(N_if(d) )"
   ]
  },
  {
   "cell_type": "code",
   "execution_count": 157,
   "metadata": {},
   "outputs": [],
   "source": [
    "phi = tf.convert_to_tensor(np.array([0.4, 0.5, 0.6]).reshape(1,3) )\n",
    "\n",
    "np.array(N_if(d)).sum"
   ]
  },
  {
   "cell_type": "code",
   "execution_count": 158,
   "metadata": {},
   "outputs": [],
   "source": [
    "phi = tf.convert_to_tensor(np.array([0.4, 0.5, 0.6]).reshape(1,3) )\n",
    "\n",
    "np.array(N_if(d)).sum()"
   ]
  },
  {
   "cell_type": "code",
   "execution_count": 159,
   "metadata": {},
   "outputs": [],
   "source": [
    "l = []\n",
    "\n",
    "for i in range(100):\n",
    "    phi = tf.convert_to_tensor(np.array([0.4, 0.5, 0.6]).reshape(1,3) ) + i\n",
    "    l.append(np.array(N_if(d)).sum())"
   ]
  },
  {
   "cell_type": "code",
   "execution_count": 160,
   "metadata": {},
   "outputs": [],
   "source": [
    "plt.plot(l)"
   ]
  },
  {
   "cell_type": "code",
   "execution_count": 161,
   "metadata": {},
   "outputs": [],
   "source": [
    "l = []\n",
    "\n",
    "for i in range(10):\n",
    "    phi = tf.convert_to_tensor(np.array([0.4, 0.5, 0.6]).reshape(1,3) ) + i\n",
    "    l.append(np.array(N_if(d)).sum())"
   ]
  },
  {
   "cell_type": "code",
   "execution_count": 162,
   "metadata": {},
   "outputs": [],
   "source": [
    "plt.plot(l)"
   ]
  },
  {
   "cell_type": "code",
   "execution_count": 163,
   "metadata": {},
   "outputs": [],
   "source": [
    "l = []\n",
    "l2 = np.arange(0, 2, 1e-4)\n",
    "\n",
    "for i in l2:\n",
    "    phi = tf.convert_to_tensor(np.array([0.4, 0.5, 0.6]).reshape(1,3) ) + i\n",
    "    l.append(np.array(N_if(d)).sum())"
   ]
  },
  {
   "cell_type": "code",
   "execution_count": 164,
   "metadata": {},
   "outputs": [],
   "source": [
    "plt.plot(l)"
   ]
  },
  {
   "cell_type": "code",
   "execution_count": 165,
   "metadata": {},
   "outputs": [],
   "source": [
    "plt.plot(np.arange(0, len(l2), 1), l)"
   ]
  },
  {
   "cell_type": "code",
   "execution_count": 166,
   "metadata": {},
   "outputs": [],
   "source": [
    "plt.plot(np.arange(0, 2, 1), l)"
   ]
  },
  {
   "cell_type": "code",
   "execution_count": 167,
   "metadata": {},
   "outputs": [],
   "source": [
    "plt.plot( l)"
   ]
  },
  {
   "cell_type": "code",
   "execution_count": 168,
   "metadata": {},
   "outputs": [],
   "source": [
    "l = []\n",
    "l2 = np.arange(0, 2, 1)\n",
    "\n",
    "for i in l2:\n",
    "    phi = tf.convert_to_tensor(np.array([0.4, 0.5, 0.6]).reshape(1,3) ) + i\n",
    "    l.append(np.array(N_if(d)).sum())"
   ]
  },
  {
   "cell_type": "code",
   "execution_count": 169,
   "metadata": {},
   "outputs": [],
   "source": [
    "plt.plot(l)"
   ]
  },
  {
   "cell_type": "code",
   "execution_count": 170,
   "metadata": {},
   "outputs": [],
   "source": [
    "l = []\n",
    "l2 = np.arange(0, 2, 1e-4)\n",
    "\n",
    "for i in l2:\n",
    "    phi = tf.convert_to_tensor(np.array([0.4, 0.5, 0.6]).reshape(1,3) ) + i\n",
    "    l.append(np.array(N_if(d)).sum())"
   ]
  },
  {
   "cell_type": "code",
   "execution_count": 171,
   "metadata": {},
   "outputs": [],
   "source": [
    "plt.plot(l)"
   ]
  },
  {
   "cell_type": "code",
   "execution_count": 172,
   "metadata": {},
   "outputs": [],
   "source": [
    "l2"
   ]
  },
  {
   "cell_type": "code",
   "execution_count": 173,
   "metadata": {},
   "outputs": [],
   "source": [
    "l = []\n",
    "l2 = np.arange(0, 2, 1e-4)\n",
    "\n",
    "for i in l2:\n",
    "    phi = tf.convert_to_tensor(np.array([0.4, 0.5, 0.6]).reshape(1,3) ) + i\n",
    "    l.append(np.array(N_if(d)).sum())\n",
    "    phi = tf.convert_to_tensor(np.array([0.4, 0.5, 0.6]).reshape(1,3) )"
   ]
  },
  {
   "cell_type": "code",
   "execution_count": 174,
   "metadata": {},
   "outputs": [],
   "source": [
    "plt.plot(l)"
   ]
  },
  {
   "cell_type": "code",
   "execution_count": 175,
   "metadata": {},
   "outputs": [],
   "source": [
    "df2.T.describe()"
   ]
  },
  {
   "cell_type": "code",
   "execution_count": 176,
   "metadata": {},
   "outputs": [],
   "source": [
    "df2.T.describe()[1]"
   ]
  },
  {
   "cell_type": "code",
   "execution_count": 177,
   "metadata": {},
   "outputs": [],
   "source": [
    "df2.T.describe()"
   ]
  },
  {
   "cell_type": "code",
   "execution_count": 178,
   "metadata": {},
   "outputs": [],
   "source": [
    "df2.T.describe().loc[[1], :]"
   ]
  },
  {
   "cell_type": "code",
   "execution_count": 179,
   "metadata": {},
   "outputs": [],
   "source": [
    "df2.T.describe().loc[[1], 1]"
   ]
  },
  {
   "cell_type": "code",
   "execution_count": 180,
   "metadata": {},
   "outputs": [],
   "source": [
    "df2.T.describe().loc[[1], [1]]"
   ]
  },
  {
   "cell_type": "code",
   "execution_count": 181,
   "metadata": {},
   "outputs": [],
   "source": [
    "df2.T.describe().iloc[[1], [1]]"
   ]
  },
  {
   "cell_type": "code",
   "execution_count": 182,
   "metadata": {},
   "outputs": [],
   "source": [
    "df2.T.describe().iloc[[1], ]"
   ]
  },
  {
   "cell_type": "code",
   "execution_count": 183,
   "metadata": {},
   "outputs": [],
   "source": [
    "df2.T.describe().iloc[[1], :]"
   ]
  },
  {
   "cell_type": "code",
   "execution_count": 184,
   "metadata": {},
   "outputs": [],
   "source": [
    "np.array(df2.T.describe().iloc[[1], :] )"
   ]
  },
  {
   "cell_type": "code",
   "execution_count": 185,
   "metadata": {},
   "outputs": [],
   "source": [
    "np.array(df2.T.describe().iloc[[1], :] ).reshape(1,3)"
   ]
  },
  {
   "cell_type": "code",
   "execution_count": 186,
   "metadata": {},
   "outputs": [],
   "source": [
    "tf.convert_to_tensor(np.array(df2.T.describe().iloc[[1], :] ).reshape(1,3) )"
   ]
  },
  {
   "cell_type": "code",
   "execution_count": 187,
   "metadata": {},
   "outputs": [],
   "source": [
    "pars(15)\n",
    "#alfa = tf.convert_to_tensor(np.array([0.333, 0.334, 0.333]).reshape(1,3) )\n",
    "\n",
    "phi = tf.convert_to_tensor(np.array(df2.T.describe().iloc[[1], :] ).reshape(1,3) )"
   ]
  },
  {
   "cell_type": "code",
   "execution_count": 188,
   "metadata": {},
   "outputs": [],
   "source": [
    "\n",
    "\n",
    "Bd2 =   ((-10.0, 10.0), )*st \n",
    "\n",
    "#Bd = (tf.constant(-20.0, dtype=tf.float64), tf.constant(20.0, dtype=tf.float64), )*st\n",
    "\n",
    "Bd2 = np.array(Bd2, dtype=object)"
   ]
  },
  {
   "cell_type": "code",
   "execution_count": 189,
   "metadata": {},
   "outputs": [],
   "source": [
    "sol = differential_evolution(tflow, Bd2, strategy='best1exp',\n",
    "                             tol=0,\n",
    "                             polish=True, \n",
    "                             popsize=100, \n",
    "                             maxiter=400,\n",
    "                             recombination =0.7,\n",
    "                             disp=True)\n",
    "\n",
    "#3.95073768,   8.75856475, -17.4818774 "
   ]
  },
  {
   "cell_type": "code",
   "execution_count": 190,
   "metadata": {},
   "outputs": [],
   "source": [
    "sol.x"
   ]
  },
  {
   "cell_type": "code",
   "execution_count": 191,
   "metadata": {},
   "outputs": [],
   "source": [
    "Bd2"
   ]
  },
  {
   "cell_type": "code",
   "execution_count": 192,
   "metadata": {},
   "outputs": [],
   "source": [
    "sol"
   ]
  },
  {
   "cell_type": "code",
   "execution_count": 193,
   "metadata": {},
   "outputs": [],
   "source": [
    "sol = differential_evolution(tflow, Bd2, strategy='best1exp',\n",
    "                             tol=0,\n",
    "                             polish=True, \n",
    "                             popsize=100, \n",
    "                             maxiter=400,\n",
    "                             recombination =0.7,\n",
    "                             disp=True)\n",
    "\n",
    "#array([ 7.53593756, -8.77005193,  6.95345626])"
   ]
  },
  {
   "cell_type": "code",
   "execution_count": 194,
   "metadata": {},
   "outputs": [],
   "source": [
    "sol"
   ]
  },
  {
   "cell_type": "code",
   "execution_count": 195,
   "metadata": {},
   "outputs": [],
   "source": [
    "phi"
   ]
  },
  {
   "cell_type": "code",
   "execution_count": 196,
   "metadata": {},
   "outputs": [],
   "source": [
    "sol = differential_evolution(tflow, Bd2, strategy='best1exp',\n",
    "                             tol=0,\n",
    "                             polish=True, \n",
    "                             popsize=100, \n",
    "                             maxiter=400,\n",
    "                             recombination =0.8,\n",
    "                             disp=True)\n",
    "\n",
    "#array([ 7.53593756, -8.77005193,  6.95345626])\n",
    "#array([-9.53593756, -8.77005193,  6.95345626])   3.69566e-62"
   ]
  },
  {
   "cell_type": "code",
   "execution_count": 197,
   "metadata": {},
   "outputs": [],
   "source": [
    "sol"
   ]
  },
  {
   "cell_type": "code",
   "execution_count": 198,
   "metadata": {},
   "outputs": [],
   "source": [
    "sol = differential_evolution(tflow, Bd2, strategy='best1exp',\n",
    "                             tol=0,\n",
    "                             polish=True, \n",
    "                             popsize=100, \n",
    "                             maxiter=400,\n",
    "                             recombination =0.8,\n",
    "                             disp=True)\n",
    "\n",
    "\n",
    "# 7.53593756, -8.77005193,  6.95345626          3.695661944942129e-62"
   ]
  },
  {
   "cell_type": "code",
   "execution_count": 199,
   "metadata": {},
   "outputs": [],
   "source": [
    "from matplotlib import rc, animation\n",
    "%matplotlib inline\n",
    "rc('animation', html='html5')    "
   ]
  },
  {
   "cell_type": "code",
   "execution_count": 200,
   "metadata": {},
   "outputs": [],
   "source": [
    "<nav>\n",
    "<a href=”https://www.google.com\"> LinkedIn </a> |\n",
    "<a href=”/css/”> Github </a> |\n",
    "<a href=”/js/”> Médio </a> |\n",
    "</nav>"
   ]
  }
 ],
 "metadata": {},
 "nbformat": 4,
 "nbformat_minor": 4
}
