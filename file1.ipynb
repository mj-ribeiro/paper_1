{
 "cells": [
  {
   "cell_type": "code",
   "execution_count": 1,
   "metadata": {},
   "outputs": [],
   "source": [
    "\n",
    "import numpy as np\n",
    "from math import gamma\n",
    "import matplotlib.pyplot as plt\n",
    "from scipy.optimize import minimize\n",
    "import pandas as pd\n",
    "\n",
    "import os\n",
    "os.chdir(\"C:\\\\Users\\\\user\\\\Downloads\\\\Thesis_paper_1\\\\calibration\")\n",
    "\n",
    "np.set_printoptions(suppress=True) # supress scientific notation\n",
    "\n",
    "import matplotlib.ticker as mtick\n",
    "import locale\n",
    "locale.setlocale(locale.LC_NUMERIC, \"de_DE\")\n",
    "plt.rcParams['axes.formatter.use_locale'] = True"
   ]
  },
  {
   "cell_type": "code",
   "execution_count": 2,
   "metadata": {},
   "outputs": [],
   "source": [
    "%notebook \"C:\\\\Users\\\\user\\\\Downloads\\\\Thesis_paper_1\\\\calibration/to/file/file1.ipynb\"     "
   ]
  },
  {
   "cell_type": "code",
   "execution_count": 3,
   "metadata": {},
   "outputs": [],
   "source": [
    "%notebook \"C:\\Users\\user\\Downloads\\Thesis_paper_1\\calibration\\file1.ipynb\"     "
   ]
  },
  {
   "cell_type": "code",
   "execution_count": 4,
   "metadata": {},
   "outputs": [],
   "source": [
    "## parameters\n",
    "\n",
    "\n",
    "\n",
    "def get_data(year):\n",
    "    w='data_' + str(year)\n",
    "    alfa = np.array(pd.read_excel(f'{w}.xlsx').iloc[:,5])\n",
    "    phi = np.array(pd.read_excel(f'{w}.xlsx').iloc[:,4])\n",
    "    return alfa, phi\n",
    "\n",
    "\n",
    "\n",
    "def pars(year):\n",
    "    global alfa, rho, beta, theta, eta, psi, kappa, lamb, gamma1, G, phi\n",
    "    rho = 0.19\n",
    "    beta = 0.69\n",
    "    theta = 3.44\n",
    "    eta = 0.25\n",
    "    psi = eta**eta*(1-eta)**(1-eta)\n",
    "    kappa = np.divide(1, (1 - eta))\n",
    "\n",
    "    lamb = 1 - np.divide(kappa, theta)\n",
    "    gamma1 = np.multiply(eta, kappa)\n",
    "    \n",
    "    G = gamma(1 - np.divide(kappa, np.multiply(theta, (1-rho)) ) )    \n",
    "    \n",
    "    alfa, phi = get_data(year)"
   ]
  },
  {
   "cell_type": "code",
   "execution_count": 5,
   "metadata": {},
   "outputs": [],
   "source": [
    "# taus\n",
    "\n",
    "st=3\n",
    "def taus2(st):        \n",
    "    tau = np.random.uniform(low=-0.989, high=5e4, size=(st)) \n",
    "#    tau[0] = 0\n",
    "    x1 = np.array(tau)    \n",
    "    return x1"
   ]
  },
  {
   "cell_type": "code",
   "execution_count": 6,
   "metadata": {},
   "outputs": [],
   "source": [
    "# Time spent at school\n",
    "\n",
    "def sf( ):\n",
    "    global s\n",
    "    s = np.power( (1 + np.divide( (1-eta), ( np.multiply(beta, phi) ) ) ), -1 )\n",
    "    #s = s.reshape(st, 1)\n",
    "    return s"
   ]
  },
  {
   "cell_type": "code",
   "execution_count": 7,
   "metadata": {},
   "outputs": [],
   "source": [
    "\n",
    "## N_i = H_i / w_i^gamma1\n",
    "\n",
    "\n",
    "def N_if(x1):\n",
    "    s = sf()\n",
    "    T = np.multiply(np.power((1 + x1), (-1*theta*lamb-gamma1)), np.power(psi, theta*lamb) )    \n",
    "    S = np.power(s, (phi*(theta*lamb + 1 + gamma1 ) ) )\n",
    "    S2 = np.multiply(np.power( (1 - s), (theta*lamb/kappa*beta)  ), np.power(eta, gamma1) )\n",
    "    N_i = np.multiply(G, np.multiply(T, np.multiply(S, S2)))\n",
    "    return N_i"
   ]
  },
  {
   "cell_type": "code",
   "execution_count": 8,
   "metadata": {},
   "outputs": [],
   "source": [
    "\n",
    "## N_i = H_i / w_i^gamma1\n",
    "\n",
    "\n",
    "def N_if(x1):\n",
    "    s = sf()\n",
    "    T = np.multiply(np.power((1 + x1), (-1*theta*lamb-gamma1)), np.power(psi, theta*lamb) )    \n",
    "    S = np.power(s, (phi*(theta*lamb + 1 + gamma1 ) ) )\n",
    "    S2 = np.multiply(np.power( (1 - s), (theta*lamb/kappa*beta)  ), np.power(eta, gamma1) )\n",
    "    N_i = np.multiply(G, np.multiply(T, np.multiply(S, S2)))\n",
    "    return N_i"
   ]
  },
  {
   "cell_type": "code",
   "execution_count": 9,
   "metadata": {},
   "outputs": [],
   "source": [
    "\n",
    "#  linear system \n",
    "pars(92)\n",
    "\n",
    "A = np.repeat(alfa, st).reshape(st, st).T  # matriz de parâmetros    \n",
    "B = np.repeat(alfa, st).reshape(st, st).T        # Matriz de alfas \n",
    "for i in range(st):\n",
    "    for j in range(st):\n",
    "        if i==j:\n",
    "            A[i, j] = 1 - (A[i, j] - 1)*(theta*lamb + gamma1)\n",
    "            B[i, j] = B[i, j] - 1\n",
    "        if i != j:\n",
    "            A[i, j] = -A[i, j]*(theta*lamb + gamma1) \n",
    "\n",
    "    \n",
    "def lin_sys(x1):\n",
    "    global N_i\n",
    "    N_i = np.log( N_if(x1) )          # Logaritmo de N_i\n",
    "    C = np.log(alfa)                  # Logaritmo dos alfas\n",
    "    D = np.dot(B, N_i) + C            # produto matricial      \n",
    "    lin = np.linalg.solve(A, D)       # Resolvendo o sistema  A w = D\n",
    "    res = np.exp(lin)\n",
    "    return res"
   ]
  },
  {
   "cell_type": "code",
   "execution_count": 10,
   "metadata": {},
   "outputs": [],
   "source": [
    "# w_til\n",
    "\n",
    "\n",
    "def w_til_f(x1):\n",
    "    s = sf()\n",
    "    A = np.multiply(np.power((1 + x1), -eta), w )\n",
    "    S = np.multiply(np.power(s, phi), np.power((1 - s), ((1-eta)/beta) ) )    \n",
    "    w_til = np.multiply(psi, np.multiply(A, S) )    \n",
    "    return w_til"
   ]
  },
  {
   "cell_type": "code",
   "execution_count": 11,
   "metadata": {},
   "outputs": [],
   "source": [
    "x1 = taus2(3)\n",
    "w = lin_sys(x1)\n",
    "z= np.multiply(np.power((1 + x1), -eta), w )\n",
    "\n",
    "#\n",
    "#print(f'z = {z}, soma = {np.sum(z)}, \\n div = {z/np.sum(z)} \\n dist = {x1} \\n w = {w}, \\n a/z = {a/z}')\n",
    "\n",
    "#a = w_til_f(x1)**theta\n",
    "#sa = np.sum(a)\n",
    "\n",
    "#a/b\n",
    "#a/b"
   ]
  },
  {
   "cell_type": "code",
   "execution_count": 12,
   "metadata": {},
   "outputs": [],
   "source": [
    "# p_i\n",
    "\n",
    "def p_i_f(x1):\n",
    "    w_til = w_til_f(x1)\n",
    "    p_i =  np.power(w_til, theta)/ np.sum( np.power(w_til, theta) )   \n",
    "    return p_i"
   ]
  },
  {
   "cell_type": "code",
   "execution_count": 13,
   "metadata": {},
   "outputs": [],
   "source": [
    "# wages - model \n",
    "\n",
    "def W_i_f(x1):\n",
    "    w_til = w_til_f(x1)\n",
    "    sum_wtil = np.power( np.sum( np.power(w_til, theta) ) , (kappa/theta) ) \n",
    "    S = np.power((1-s), (-1/beta))\n",
    "    W_i = np.multiply(kappa, np.multiply(G, np.multiply(S, sum_wtil) ) )    \n",
    "    return W_i"
   ]
  },
  {
   "cell_type": "code",
   "execution_count": 14,
   "metadata": {},
   "outputs": [],
   "source": [
    "\n",
    "# PNAD - DATA\n",
    "\n",
    "\n",
    "def get_p_i(year):\n",
    "    global p_s2\n",
    "    w='data_' + str(year)\n",
    "    p_i = np.array(pd.read_excel(f'{w}.xlsx').iloc[:,2])\n",
    "    p_s2 = p_i #[1:st]\n",
    "    return p_i\n",
    "\n",
    "\n",
    "def get_W_i(year):\n",
    "    global W_id\n",
    "    w='data_' + str(year)\n",
    "    W_id = np.array(pd.read_excel(f'{w}.xlsx').iloc[:,1])\n",
    "    return W_id"
   ]
  },
  {
   "cell_type": "code",
   "execution_count": 15,
   "metadata": {},
   "outputs": [],
   "source": [
    "get_W_i(92)"
   ]
  },
  {
   "cell_type": "code",
   "execution_count": 16,
   "metadata": {},
   "outputs": [],
   "source": [
    "get_W_i(15)"
   ]
  },
  {
   "cell_type": "code",
   "execution_count": 17,
   "metadata": {},
   "outputs": [],
   "source": [
    "# Objective function\n",
    "\n",
    "\n",
    "\n",
    "def obj2(x1):    \n",
    "    global w\n",
    "    x1 = x1.reshape((st)) \n",
    "#    x1[0] = 0 \n",
    "    w = lin_sys(x1) \n",
    "    W_i = W_i_f(x1) \n",
    "    p_i = p_i_f(x1)   \n",
    "    #p_i = p_i[1:st]    \n",
    "    #D = np.sum(np.power( np.divide(( W_id - W_i ), W_id )  , 2 ) ) \n",
    "    D = np.sum(np.power( np.divide(( p_s2 - p_i ), p_s2 )  , 2 ) )\n",
    "#    D = np.log(D)\n",
    "    return D"
   ]
  },
  {
   "cell_type": "code",
   "execution_count": 18,
   "metadata": {},
   "outputs": [],
   "source": [
    "get_p_i(15)\n",
    "obj2(taus2(3))"
   ]
  },
  {
   "cell_type": "code",
   "execution_count": 19,
   "metadata": {},
   "outputs": [],
   "source": [
    "get_p_i(15)\n",
    "obj2(taus2(3))"
   ]
  },
  {
   "cell_type": "code",
   "execution_count": 20,
   "metadata": {},
   "outputs": [],
   "source": [
    "get_p_i(15)\n",
    "obj2(taus2(3))"
   ]
  },
  {
   "cell_type": "code",
   "execution_count": 21,
   "metadata": {},
   "outputs": [],
   "source": [
    "get_p_i(15)\n",
    "obj2(taus2(3))"
   ]
  },
  {
   "cell_type": "code",
   "execution_count": 22,
   "metadata": {},
   "outputs": [],
   "source": [
    "get_p_i(15)\n",
    "obj2(taus2(3))"
   ]
  },
  {
   "cell_type": "code",
   "execution_count": 23,
   "metadata": {},
   "outputs": [],
   "source": [
    "# bounds\n",
    "\n",
    "Bd = ((-0.99, 5e4), )*st \n",
    "Bd = np.array(Bd, dtype=object)"
   ]
  },
  {
   "cell_type": "code",
   "execution_count": 24,
   "metadata": {},
   "outputs": [],
   "source": [
    "# occupations\n",
    "\n",
    "#ocp = np.array(['AGR', 'IND_EXTR', 'IND_TRANSF', 'IND_CONST',\n",
    "#                'SERV_COMER', 'SERV_TRANSP_ARM',  'SERV_FIN_IMOB', 'ADM_SAUDE_EDUC'])\n",
    "\n",
    "#names = np.array(pd.read_excel('IPEA_PIBS.xls', sheet_name='nomes', header=None)).reshape(1, 8)\n",
    "\n",
    "\n",
    "\n",
    "ocp = np.array(['AGR', 'IND', 'SERV'])\n",
    "names = np.array(['Agropecuária', 'Indústria', 'Serviços'])\n",
    "\n",
    "for i in range(st):\n",
    "    print(f'{names[i]:-<20}> {ocp[i]}')"
   ]
  },
  {
   "cell_type": "code",
   "execution_count": 25,
   "metadata": {},
   "outputs": [],
   "source": [
    "# get distortions\n",
    "\n",
    "\n",
    "def get_dist(year):\n",
    "    global w\n",
    "    pars(year)\n",
    "    get_p_i(year)    \n",
    "    l ='dist_' + str(year)\n",
    "    dist = np.array(pd.read_excel('dist.xlsx').loc[:,l])\n",
    "    w = lin_sys(dist)\n",
    "    return dist\n",
    "    "
   ]
  },
  {
   "cell_type": "code",
   "execution_count": 26,
   "metadata": {},
   "outputs": [],
   "source": [
    "# Distortions of 2002 and 2015\n",
    "\n",
    "pd.read_excel('dist.xlsx').iloc[:,0:5]"
   ]
  },
  {
   "cell_type": "code",
   "execution_count": 27,
   "metadata": {},
   "outputs": [],
   "source": [
    "\n",
    "\n",
    "def g_pif(x):\n",
    "    p_i = p_i_f(get_dist(x))\n",
    "    p_s = get_p_i(x)       \n",
    "    fig,ax = plt.subplots(figsize=(10,8))\n",
    "    plt.scatter(p_i, p_s)\n",
    "    for tt, txt in enumerate(names):\n",
    "        plt.annotate(txt, (p_i[tt], p_s[tt]), size=18)  \n",
    "\n",
    "    plt.plot([0.0, max(p_s)+0.1], [0.0, max(p_s)+0.1], 'k-', lw=2, label='linha de 45°', color='blue')\n",
    "    plt.grid(True)\n",
    "    plt.xticks(fontsize=20)\n",
    "    plt.yticks(fontsize=20)\n",
    "    plt.xlabel(r\"$p_i$ - Modelo\", fontsize=20)\n",
    "    plt.ylabel(r\"$p_i$ - PNAD\", fontsize=20)\n",
    "    plt.legend(loc=\"lower right\", prop={'size': 20})\n",
    "    plt.tight_layout()  \n",
    "    plt.savefig(\"C:/Users/user/Downloads/Thesis_paper_1/paper_tex/fig5.eps\", format='eps', dpi=2000)\n",
    "\n",
    "\n",
    "g_pif(15)"
   ]
  },
  {
   "cell_type": "code",
   "execution_count": 28,
   "metadata": {},
   "outputs": [],
   "source": [
    "\n",
    "\n",
    "def g_pif(x):\n",
    "    p_i = p_i_f(get_dist(x))\n",
    "    p_s = get_p_i(x)       \n",
    "    fig,ax = plt.subplots(figsize=(10,8))\n",
    "    plt.scatter(p_i, p_s)\n",
    "    for tt, txt in enumerate(names):\n",
    "        plt.annotate(txt, (p_i[tt], p_s[tt]), size=18)  \n",
    "\n",
    "    plt.plot([0.0, max(p_s)+0.1], [0.0, max(p_s)+0.1], 'k-', lw=2, label='linha de 45°', color='blue')\n",
    "    plt.grid(True)\n",
    "    plt.xticks(fontsize=20)\n",
    "    plt.yticks(fontsize=20)\n",
    "    plt.xlabel(r\"$p_i$ - Modelo\", fontsize=20)\n",
    "    plt.ylabel(r\"$p_i$ - PNAD\", fontsize=20)\n",
    "    plt.legend(loc=\"lower right\", prop={'size': 20})\n",
    "    plt.tight_layout()  \n",
    "    #plt.savefig(\"C:/Users/user/Downloads/Thesis_paper_1/paper_tex/fig5.eps\", format='eps', dpi=2000)\n",
    "\n",
    "\n",
    "g_pif(15)"
   ]
  },
  {
   "cell_type": "code",
   "execution_count": 29,
   "metadata": {},
   "outputs": [],
   "source": [
    "def Wi_plot(year):\n",
    "    N_i = N_if(get_dist(year))\n",
    "    H_i = np.multiply(N_i, np.power(w, gamma1) ) \n",
    "    fig,ax = plt.subplots(figsize=(10,8))\n",
    "    plt.scatter(H_i, W_i_f(get_dist(year)) )\n",
    "    for tt, txt in enumerate(ocp):\n",
    "        plt.annotate(txt, (H_i[tt], W_i_f(get_dist(year))[tt] ), size=15)  \n",
    "    plt.grid(True)\n",
    "    plt.xticks(fontsize=20)\n",
    "    plt.yticks(fontsize=20)\n",
    "    plt.xlabel(r\"$H_i$ - Modelo\", fontsize=20)\n",
    "    plt.ylabel(r\"$W_i$ - Modelo\", fontsize=20)\n",
    "    plt.tight_layout()  \n",
    "    \n",
    "    \n",
    "Wi_plot(15)"
   ]
  },
  {
   "cell_type": "code",
   "execution_count": 30,
   "metadata": {},
   "outputs": [],
   "source": [
    "\n",
    "# human capital\n",
    "\n",
    "def hc_plt(year):\n",
    "    N_i = N_if(get_dist(year))\n",
    "    H_i = np.multiply(N_i, np.power(w, gamma1) ) \n",
    "    fig,ax = plt.subplots(figsize=(10,8))\n",
    "    plt.scatter(H_i, w, s=50)\n",
    "    for tt, txt in enumerate(ocp):\n",
    "        plt.annotate(txt, (H_i[tt], w[tt]), size=15)  \n",
    "    plt.grid(True)\n",
    "    plt.xticks(fontsize=20)\n",
    "    plt.yticks(fontsize=20)\n",
    "    plt.xlabel(r\"$H_i$ - Model\", fontsize=20)\n",
    "    plt.ylabel(r\"$w_i$ - Model\", fontsize=20)\n",
    "    plt.tight_layout() \n",
    "\n",
    "hc_plt(15)"
   ]
  },
  {
   "cell_type": "code",
   "execution_count": 31,
   "metadata": {},
   "outputs": [],
   "source": [
    "\n",
    "def hc_plt2(year):\n",
    "    N_i = N_if(get_dist(year))\n",
    "    H_i = np.multiply(N_i, np.power(w, gamma1) )\n",
    "    \n",
    "    N_i2 = N_if(np.repeat(get_dist(year)[2], st))\n",
    "    H_i2 = np.multiply(N_i2, np.power(w, gamma1) ) \n",
    "    fig,ax = plt.subplots(figsize=(10,8))\n",
    "    plt.scatter(H_i, H_i2, s=10)\n",
    "    for tt, txt in enumerate(names):\n",
    "        plt.annotate(txt, (H_i[tt], H_i2[tt]), size=18)  \n",
    "    plt.plot([0.0, max(H_i)], [0.0, max(H_i)], 'k-', lw=2, label='linha de 45°', color='blue')\n",
    "    plt.grid(True)\n",
    "    plt.xticks(fontsize=20)\n",
    "    plt.yticks(fontsize=20)\n",
    "    plt.xlabel(r\"$H_i$ - Antes da mudança\", fontsize=20)\n",
    "    plt.ylabel(r\"$H_i$ - Depois da mudança\", fontsize=20)\n",
    "    plt.legend(loc=\"lower right\", prop={'size': 20})\n",
    "    plt.tight_layout() \n",
    "    #plt.savefig(\"C:/Users/user/Downloads/Thesis_paper_1/paper_tex/fig7.eps\", format='eps', dpi=2000)\n",
    "\n",
    "hc_plt2(15)"
   ]
  },
  {
   "cell_type": "code",
   "execution_count": 32,
   "metadata": {},
   "outputs": [],
   "source": [
    "# p_i\n",
    "\n",
    "def pi_plot(year):\n",
    "    fig,ax = plt.subplots(figsize=(10,8))\n",
    "    plt.scatter( p_i_f(get_dist(year)), W_i_f(get_dist(year)), s=20)\n",
    "    for tt, txt in enumerate(ocp):\n",
    "        plt.annotate(txt, (p_i_f(get_dist(year))[tt], W_i_f(get_dist(year))[tt]), size=15)  \n",
    "    plt.grid(True)\n",
    "    plt.xticks(fontsize=20)\n",
    "    plt.yticks(fontsize=20)\n",
    "    plt.xlabel(r\"$p_i$ - Model\", fontsize=20)\n",
    "    plt.ylabel(r\"$W_i$ - Model\", fontsize=20)\n",
    "    plt.tight_layout() "
   ]
  },
  {
   "cell_type": "code",
   "execution_count": 33,
   "metadata": {},
   "outputs": [],
   "source": [
    "pi_plot(15)"
   ]
  },
  {
   "cell_type": "code",
   "execution_count": 34,
   "metadata": {},
   "outputs": [],
   "source": [
    "# alphas\n",
    "get_dist(15)\n",
    "\n",
    "fig,ax = plt.subplots(figsize=(10,8))\n",
    "plt.scatter( alfa, W_i_f(get_dist(15)), s=20)\n",
    "for tt, txt in enumerate(ocp):\n",
    "    plt.annotate(txt, (alfa[tt], W_i_f(get_dist(15))[tt] ), size=15)  \n",
    "plt.grid(True)\n",
    "plt.xticks(fontsize=20)\n",
    "plt.yticks(fontsize=20)\n",
    "plt.xlabel(r\"$\\alpha_i$ - Model\", fontsize=20)\n",
    "plt.ylabel(r\"$W_i$ - Model\", fontsize=20)\n",
    "#plt.tight_layout() "
   ]
  },
  {
   "cell_type": "code",
   "execution_count": 35,
   "metadata": {},
   "outputs": [],
   "source": [
    "def geduc_f(x1):\n",
    "    P = np.power(np.divide(1, p_i_f(x1)) , kappa/eta )\n",
    "    N = np.power(np.divide(np.multiply(w, np.power(sf(), phi)), (1 + x1) ), kappa )\n",
    "    G = np.multiply(np.power(eta, kappa), gamma1 )\n",
    "    educ = np.multiply(np.multiply(P, N), G)\n",
    "    return educ"
   ]
  }
 ],
 "metadata": {},
 "nbformat": 4,
 "nbformat_minor": 4
}
